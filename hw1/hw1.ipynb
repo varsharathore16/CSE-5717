{
  "cells": [
    {
      "cell_type": "markdown",
      "metadata": {
        "id": "xQv-tWAgcOSD"
      },
      "source": [
        "# CSE4502 Programming Assignment #1"
      ]
    },
    {
      "cell_type": "markdown",
      "metadata": {
        "id": "kFOyyIp-cOSE"
      },
      "source": [
        "## Follow chapter 2 of the textbook and finish the code as an end-to-end machine learning project"
      ]
    },
    {
      "cell_type": "markdown",
      "metadata": {
        "id": "eCf2f72Vefsc"
      },
      "source": [
        "##Get the Data\n",
        "Import necessary libraries and load the New York City Airbnb dataset."
      ]
    },
    {
      "cell_type": "code",
      "execution_count": 69,
      "metadata": {
        "id": "En08j0O8cOSF"
      },
      "outputs": [],
      "source": [
        "import numpy as np\n",
        "import pandas as pd"
      ]
    },
    {
      "cell_type": "code",
      "execution_count": 70,
      "metadata": {
        "id": "fKdobHc6cOSN"
      },
      "outputs": [],
      "source": [
        "df = pd.read_csv(\"./AB_NYC_2019_1.csv\")"
      ]
    },
    {
      "cell_type": "markdown",
      "metadata": {
        "id": "Km1i9l-0rg2b"
      },
      "source": [
        "###Take a Quick Look at the Data (10 points)\n",
        "Using head(), info(), describe() to get a sense of the dataset.\n",
        "\n",
        "Fill in your code below."
      ]
    },
    {
      "cell_type": "code",
      "execution_count": 71,
      "metadata": {
        "colab": {
          "base_uri": "https://localhost:8080/",
          "height": 313
        },
        "id": "L3xPAcyIrjE2",
        "outputId": "c0c81e2b-d29f-455d-dd92-1ba688154e78"
      },
      "outputs": [
        {
          "data": {
            "text/html": [
              "<div>\n",
              "<style scoped>\n",
              "    .dataframe tbody tr th:only-of-type {\n",
              "        vertical-align: middle;\n",
              "    }\n",
              "\n",
              "    .dataframe tbody tr th {\n",
              "        vertical-align: top;\n",
              "    }\n",
              "\n",
              "    .dataframe thead th {\n",
              "        text-align: right;\n",
              "    }\n",
              "</style>\n",
              "<table border=\"1\" class=\"dataframe\">\n",
              "  <thead>\n",
              "    <tr style=\"text-align: right;\">\n",
              "      <th></th>\n",
              "      <th>neighbourhood_group</th>\n",
              "      <th>latitude</th>\n",
              "      <th>longitude</th>\n",
              "      <th>room_type</th>\n",
              "      <th>price</th>\n",
              "      <th>minimum_nights</th>\n",
              "      <th>number_of_reviews</th>\n",
              "      <th>reviews_per_month</th>\n",
              "      <th>calculated_host_listings_count</th>\n",
              "      <th>availability_365</th>\n",
              "    </tr>\n",
              "  </thead>\n",
              "  <tbody>\n",
              "    <tr>\n",
              "      <th>0</th>\n",
              "      <td>Brooklyn</td>\n",
              "      <td>40.64749</td>\n",
              "      <td>-73.97237</td>\n",
              "      <td>Private room</td>\n",
              "      <td>149</td>\n",
              "      <td>1</td>\n",
              "      <td>9</td>\n",
              "      <td>0.21</td>\n",
              "      <td>6</td>\n",
              "      <td>365</td>\n",
              "    </tr>\n",
              "    <tr>\n",
              "      <th>1</th>\n",
              "      <td>Manhattan</td>\n",
              "      <td>40.75362</td>\n",
              "      <td>-73.98377</td>\n",
              "      <td>Entire home/apt</td>\n",
              "      <td>225</td>\n",
              "      <td>1</td>\n",
              "      <td>45</td>\n",
              "      <td>0.38</td>\n",
              "      <td>2</td>\n",
              "      <td>355</td>\n",
              "    </tr>\n",
              "    <tr>\n",
              "      <th>2</th>\n",
              "      <td>Manhattan</td>\n",
              "      <td>40.80902</td>\n",
              "      <td>-73.94190</td>\n",
              "      <td>Private room</td>\n",
              "      <td>150</td>\n",
              "      <td>3</td>\n",
              "      <td>0</td>\n",
              "      <td>NaN</td>\n",
              "      <td>1</td>\n",
              "      <td>365</td>\n",
              "    </tr>\n",
              "    <tr>\n",
              "      <th>3</th>\n",
              "      <td>Brooklyn</td>\n",
              "      <td>40.68514</td>\n",
              "      <td>-73.95976</td>\n",
              "      <td>Entire home/apt</td>\n",
              "      <td>89</td>\n",
              "      <td>1</td>\n",
              "      <td>270</td>\n",
              "      <td>4.64</td>\n",
              "      <td>1</td>\n",
              "      <td>194</td>\n",
              "    </tr>\n",
              "    <tr>\n",
              "      <th>4</th>\n",
              "      <td>Manhattan</td>\n",
              "      <td>40.79851</td>\n",
              "      <td>-73.94399</td>\n",
              "      <td>Entire home/apt</td>\n",
              "      <td>80</td>\n",
              "      <td>10</td>\n",
              "      <td>9</td>\n",
              "      <td>0.10</td>\n",
              "      <td>1</td>\n",
              "      <td>0</td>\n",
              "    </tr>\n",
              "  </tbody>\n",
              "</table>\n",
              "</div>"
            ],
            "text/plain": [
              "  neighbourhood_group  latitude  longitude        room_type  price  \\\n",
              "0            Brooklyn  40.64749  -73.97237     Private room    149   \n",
              "1           Manhattan  40.75362  -73.98377  Entire home/apt    225   \n",
              "2           Manhattan  40.80902  -73.94190     Private room    150   \n",
              "3            Brooklyn  40.68514  -73.95976  Entire home/apt     89   \n",
              "4           Manhattan  40.79851  -73.94399  Entire home/apt     80   \n",
              "\n",
              "   minimum_nights  number_of_reviews  reviews_per_month  \\\n",
              "0               1                  9               0.21   \n",
              "1               1                 45               0.38   \n",
              "2               3                  0                NaN   \n",
              "3               1                270               4.64   \n",
              "4              10                  9               0.10   \n",
              "\n",
              "   calculated_host_listings_count  availability_365  \n",
              "0                               6               365  \n",
              "1                               2               355  \n",
              "2                               1               365  \n",
              "3                               1               194  \n",
              "4                               1                 0  "
            ]
          },
          "execution_count": 71,
          "metadata": {},
          "output_type": "execute_result"
        }
      ],
      "source": [
        "df.head()"
      ]
    },
    {
      "cell_type": "markdown",
      "metadata": {
        "id": "Ef_p33IhfAL1"
      },
      "source": [
        "Explore the categorical attributes in the dataset using value_counts().\n",
        "\n",
        "Fill in your code below."
      ]
    },
    {
      "cell_type": "code",
      "execution_count": 72,
      "metadata": {
        "colab": {
          "base_uri": "https://localhost:8080/"
        },
        "id": "nPUuvrAIi82Z",
        "outputId": "25a24e29-5caf-4af0-e616-c29a5fc3377a"
      },
      "outputs": [
        {
          "data": {
            "text/plain": [
              "Entire home/apt    25407\n",
              "Private room       22319\n",
              "Shared room         1158\n",
              "Name: room_type, dtype: int64"
            ]
          },
          "execution_count": 72,
          "metadata": {},
          "output_type": "execute_result"
        }
      ],
      "source": [
        "df['room_type'].value_counts()"
      ]
    },
    {
      "cell_type": "markdown",
      "metadata": {
        "id": "00R0GEDYaaYL"
      },
      "source": [
        "Fill in code below."
      ]
    },
    {
      "cell_type": "code",
      "execution_count": 73,
      "metadata": {
        "colab": {
          "base_uri": "https://localhost:8080/"
        },
        "id": "nKh0e21ZjyRr",
        "outputId": "310ff085-bf57-479d-8bce-d020a0771546"
      },
      "outputs": [
        {
          "data": {
            "text/plain": [
              "Manhattan        21660\n",
              "Brooklyn         20095\n",
              "Queens            5666\n",
              "Bronx             1090\n",
              "Staten Island      373\n",
              "Name: neighbourhood_group, dtype: int64"
            ]
          },
          "execution_count": 73,
          "metadata": {},
          "output_type": "execute_result"
        }
      ],
      "source": [
        "df['neighbourhood_group'].value_counts()"
      ]
    },
    {
      "cell_type": "markdown",
      "metadata": {
        "id": "Evtw5qNBag1e"
      },
      "source": [
        "Fill in code below."
      ]
    },
    {
      "cell_type": "code",
      "execution_count": 74,
      "metadata": {
        "colab": {
          "base_uri": "https://localhost:8080/"
        },
        "id": "p0cw66C_cOSQ",
        "outputId": "5d5d7d9d-24d2-48ed-b384-0bf55c3a7670"
      },
      "outputs": [
        {
          "name": "stdout",
          "output_type": "stream",
          "text": [
            "<class 'pandas.core.frame.DataFrame'>\n",
            "RangeIndex: 48884 entries, 0 to 48883\n",
            "Data columns (total 10 columns):\n",
            " #   Column                          Non-Null Count  Dtype  \n",
            "---  ------                          --------------  -----  \n",
            " 0   neighbourhood_group             48884 non-null  object \n",
            " 1   latitude                        48884 non-null  float64\n",
            " 2   longitude                       48884 non-null  float64\n",
            " 3   room_type                       48884 non-null  object \n",
            " 4   price                           48884 non-null  int64  \n",
            " 5   minimum_nights                  48884 non-null  int64  \n",
            " 6   number_of_reviews               48884 non-null  int64  \n",
            " 7   reviews_per_month               38833 non-null  float64\n",
            " 8   calculated_host_listings_count  48884 non-null  int64  \n",
            " 9   availability_365                48884 non-null  int64  \n",
            "dtypes: float64(3), int64(5), object(2)\n",
            "memory usage: 3.7+ MB\n"
          ]
        }
      ],
      "source": [
        "df.info()"
      ]
    },
    {
      "cell_type": "markdown",
      "metadata": {
        "id": "GMSONvb4aj9M"
      },
      "source": [
        "Fill in code below."
      ]
    },
    {
      "cell_type": "code",
      "execution_count": 75,
      "metadata": {
        "colab": {
          "base_uri": "https://localhost:8080/",
          "height": 320
        },
        "id": "CnlKSZ82cOSU",
        "outputId": "18a6afe5-e2ee-4e03-b87f-85d4b2afc109"
      },
      "outputs": [
        {
          "data": {
            "text/html": [
              "<div>\n",
              "<style scoped>\n",
              "    .dataframe tbody tr th:only-of-type {\n",
              "        vertical-align: middle;\n",
              "    }\n",
              "\n",
              "    .dataframe tbody tr th {\n",
              "        vertical-align: top;\n",
              "    }\n",
              "\n",
              "    .dataframe thead th {\n",
              "        text-align: right;\n",
              "    }\n",
              "</style>\n",
              "<table border=\"1\" class=\"dataframe\">\n",
              "  <thead>\n",
              "    <tr style=\"text-align: right;\">\n",
              "      <th></th>\n",
              "      <th>latitude</th>\n",
              "      <th>longitude</th>\n",
              "      <th>price</th>\n",
              "      <th>minimum_nights</th>\n",
              "      <th>number_of_reviews</th>\n",
              "      <th>reviews_per_month</th>\n",
              "      <th>calculated_host_listings_count</th>\n",
              "      <th>availability_365</th>\n",
              "    </tr>\n",
              "  </thead>\n",
              "  <tbody>\n",
              "    <tr>\n",
              "      <th>count</th>\n",
              "      <td>48884.000000</td>\n",
              "      <td>48884.000000</td>\n",
              "      <td>48884.000000</td>\n",
              "      <td>48884.000000</td>\n",
              "      <td>48884.000000</td>\n",
              "      <td>38833.000000</td>\n",
              "      <td>48884.000000</td>\n",
              "      <td>48884.000000</td>\n",
              "    </tr>\n",
              "    <tr>\n",
              "      <th>mean</th>\n",
              "      <td>40.728953</td>\n",
              "      <td>-73.952176</td>\n",
              "      <td>152.755053</td>\n",
              "      <td>7.029887</td>\n",
              "      <td>23.271991</td>\n",
              "      <td>1.373128</td>\n",
              "      <td>7.144628</td>\n",
              "      <td>112.779498</td>\n",
              "    </tr>\n",
              "    <tr>\n",
              "      <th>std</th>\n",
              "      <td>0.054532</td>\n",
              "      <td>0.046159</td>\n",
              "      <td>240.170260</td>\n",
              "      <td>20.512224</td>\n",
              "      <td>44.551331</td>\n",
              "      <td>1.680391</td>\n",
              "      <td>32.956185</td>\n",
              "      <td>131.627271</td>\n",
              "    </tr>\n",
              "    <tr>\n",
              "      <th>min</th>\n",
              "      <td>40.499790</td>\n",
              "      <td>-74.244420</td>\n",
              "      <td>10.000000</td>\n",
              "      <td>1.000000</td>\n",
              "      <td>0.000000</td>\n",
              "      <td>0.010000</td>\n",
              "      <td>1.000000</td>\n",
              "      <td>0.000000</td>\n",
              "    </tr>\n",
              "    <tr>\n",
              "      <th>25%</th>\n",
              "      <td>40.690100</td>\n",
              "      <td>-73.983080</td>\n",
              "      <td>69.000000</td>\n",
              "      <td>1.000000</td>\n",
              "      <td>1.000000</td>\n",
              "      <td>0.190000</td>\n",
              "      <td>1.000000</td>\n",
              "      <td>0.000000</td>\n",
              "    </tr>\n",
              "    <tr>\n",
              "      <th>50%</th>\n",
              "      <td>40.723080</td>\n",
              "      <td>-73.955685</td>\n",
              "      <td>106.000000</td>\n",
              "      <td>3.000000</td>\n",
              "      <td>5.000000</td>\n",
              "      <td>0.720000</td>\n",
              "      <td>1.000000</td>\n",
              "      <td>45.000000</td>\n",
              "    </tr>\n",
              "    <tr>\n",
              "      <th>75%</th>\n",
              "      <td>40.763120</td>\n",
              "      <td>-73.936290</td>\n",
              "      <td>175.000000</td>\n",
              "      <td>5.000000</td>\n",
              "      <td>24.000000</td>\n",
              "      <td>2.020000</td>\n",
              "      <td>2.000000</td>\n",
              "      <td>227.000000</td>\n",
              "    </tr>\n",
              "    <tr>\n",
              "      <th>max</th>\n",
              "      <td>40.913060</td>\n",
              "      <td>-73.712990</td>\n",
              "      <td>10000.000000</td>\n",
              "      <td>1250.000000</td>\n",
              "      <td>629.000000</td>\n",
              "      <td>58.500000</td>\n",
              "      <td>327.000000</td>\n",
              "      <td>365.000000</td>\n",
              "    </tr>\n",
              "  </tbody>\n",
              "</table>\n",
              "</div>"
            ],
            "text/plain": [
              "           latitude     longitude         price  minimum_nights  \\\n",
              "count  48884.000000  48884.000000  48884.000000    48884.000000   \n",
              "mean      40.728953    -73.952176    152.755053        7.029887   \n",
              "std        0.054532      0.046159    240.170260       20.512224   \n",
              "min       40.499790    -74.244420     10.000000        1.000000   \n",
              "25%       40.690100    -73.983080     69.000000        1.000000   \n",
              "50%       40.723080    -73.955685    106.000000        3.000000   \n",
              "75%       40.763120    -73.936290    175.000000        5.000000   \n",
              "max       40.913060    -73.712990  10000.000000     1250.000000   \n",
              "\n",
              "       number_of_reviews  reviews_per_month  calculated_host_listings_count  \\\n",
              "count       48884.000000       38833.000000                    48884.000000   \n",
              "mean           23.271991           1.373128                        7.144628   \n",
              "std            44.551331           1.680391                       32.956185   \n",
              "min             0.000000           0.010000                        1.000000   \n",
              "25%             1.000000           0.190000                        1.000000   \n",
              "50%             5.000000           0.720000                        1.000000   \n",
              "75%            24.000000           2.020000                        2.000000   \n",
              "max           629.000000          58.500000                      327.000000   \n",
              "\n",
              "       availability_365  \n",
              "count      48884.000000  \n",
              "mean         112.779498  \n",
              "std          131.627271  \n",
              "min            0.000000  \n",
              "25%            0.000000  \n",
              "50%           45.000000  \n",
              "75%          227.000000  \n",
              "max          365.000000  "
            ]
          },
          "execution_count": 75,
          "metadata": {},
          "output_type": "execute_result"
        }
      ],
      "source": [
        "df.describe()"
      ]
    },
    {
      "cell_type": "markdown",
      "metadata": {
        "id": "haqJ9xHzsUER"
      },
      "source": [
        "###Histogram (10 points)\n",
        "Show the histogram of each feature to see the range of the values and distribution.\n",
        "\n",
        "Fill in code below."
      ]
    },
    {
      "cell_type": "markdown",
      "metadata": {},
      "source": [
        "Code below to help with 'save_fig' function to help with making histograms below"
      ]
    },
    {
      "cell_type": "code",
      "execution_count": 76,
      "metadata": {},
      "outputs": [],
      "source": [
        "# Python ≥3.5 is required\n",
        "import sys\n",
        "assert sys.version_info >= (3, 5)\n",
        "\n",
        "# Scikit-Learn ≥0.20 is required\n",
        "import sklearn\n",
        "assert sklearn.__version__ >= \"0.20\"\n",
        "\n",
        "# Common imports\n",
        "import numpy as np\n",
        "import os\n",
        "\n",
        "# To plot pretty figures\n",
        "%matplotlib inline\n",
        "import matplotlib as mpl\n",
        "import matplotlib.pyplot as plt\n",
        "mpl.rc('axes', labelsize=14)\n",
        "mpl.rc('xtick', labelsize=12)\n",
        "mpl.rc('ytick', labelsize=12)\n",
        "\n",
        "# Where to save the figures\n",
        "PROJECT_ROOT_DIR = \".\"\n",
        "CHAPTER_ID = \"end_to_end_project\"\n",
        "IMAGES_PATH = os.path.join(PROJECT_ROOT_DIR, \"images\", CHAPTER_ID)\n",
        "os.makedirs(IMAGES_PATH, exist_ok=True)\n",
        "\n",
        "def save_fig(fig_id, tight_layout=True, fig_extension=\"png\", resolution=300):\n",
        "    path = os.path.join(IMAGES_PATH, fig_id + \".\" + fig_extension)\n",
        "    print(\"Saving figure\", fig_id)\n",
        "    if tight_layout:\n",
        "        plt.tight_layout()\n",
        "    plt.savefig(path, format=fig_extension, dpi=resolution)\n",
        "\n",
        "# Ignore useless warnings (see SciPy issue #5998)\n",
        "import warnings\n",
        "warnings.filterwarnings(action=\"ignore\", message=\"^internal gelsd\")"
      ]
    },
    {
      "cell_type": "code",
      "execution_count": 77,
      "metadata": {
        "colab": {
          "base_uri": "https://localhost:8080/",
          "height": 781
        },
        "id": "VEzBw8ltcOSd",
        "outputId": "52bddda3-1083-406d-ee93-b275ee22cd6b"
      },
      "outputs": [
        {
          "name": "stdout",
          "output_type": "stream",
          "text": [
            "Saving figure attribute_histogram_plots\n"
          ]
        },
        {
          "data": {
            "image/png": "[encoded data removed]",
            "text/plain": [
              "<Figure size 2000x1500 with 9 Axes>"
            ]
          },
          "metadata": {},
          "output_type": "display_data"
        }
      ],
      "source": [
        "%matplotlib inline\n",
        "import matplotlib.pyplot as plt\n",
        "df.hist(bins=50, figsize=(20,15))\n",
        "save_fig(\"attribute_histogram_plots\")\n",
        "plt.show()"
      ]
    },
    {
      "cell_type": "markdown",
      "metadata": {
        "id": "xDRF5qnbsfLa"
      },
      "source": [
        "###Correlation matrix (10 points)\n",
        "Understand the correlation of the various features with the price."
      ]
    },
    {
      "cell_type": "code",
      "execution_count": 78,
      "metadata": {
        "id": "zodE-RJUcOSh"
      },
      "outputs": [],
      "source": [
        "corr_matrix = df.corr(numeric_only = True)"
      ]
    },
    {
      "cell_type": "markdown",
      "metadata": {
        "id": "Bo3dquD0bn1i"
      },
      "source": [
        "Fill in your code below."
      ]
    },
    {
      "cell_type": "code",
      "execution_count": 79,
      "metadata": {
        "colab": {
          "base_uri": "https://localhost:8080/"
        },
        "id": "nfVu-1JlcOSl",
        "outputId": "04b1f31f-6cf1-412e-b549-733d1e31e52a"
      },
      "outputs": [
        {
          "data": {
            "text/plain": [
              "price                             1.000000\n",
              "availability_365                  0.081847\n",
              "calculated_host_listings_count    0.057462\n",
              "minimum_nights                    0.042805\n",
              "latitude                          0.033899\n",
              "reviews_per_month                -0.030575\n",
              "number_of_reviews                -0.047926\n",
              "longitude                        -0.149954\n",
              "Name: price, dtype: float64"
            ]
          },
          "execution_count": 79,
          "metadata": {},
          "output_type": "execute_result"
        }
      ],
      "source": [
        "corr_matrix[\"price\"].sort_values(ascending=False)"
      ]
    },
    {
      "cell_type": "markdown",
      "metadata": {
        "id": "5boZzeC7ua1J"
      },
      "source": [
        "We see that one feature is more correlated with price. It is longitude, which has a significant negative correlation with price. In the following, we will particularly look into the correlation.\n",
        "\n",
        "Fill in your code below."
      ]
    },
    {
      "cell_type": "code",
      "execution_count": 80,
      "metadata": {
        "colab": {
          "base_uri": "https://localhost:8080/",
          "height": 716
        },
        "id": "SDC4BODzcOSq",
        "outputId": "f730ac5a-4981-48eb-cf73-275f70421d50"
      },
      "outputs": [
        {
          "data": {
            "text/plain": [
              "array([[<AxesSubplot: xlabel='price', ylabel='price'>,\n",
              "        <AxesSubplot: xlabel='longitude', ylabel='price'>],\n",
              "       [<AxesSubplot: xlabel='price', ylabel='longitude'>,\n",
              "        <AxesSubplot: xlabel='longitude', ylabel='longitude'>]],\n",
              "      dtype=object)"
            ]
          },
          "execution_count": 80,
          "metadata": {},
          "output_type": "execute_result"
        },
        {
          "data": {
            "image/png": "[encoded data removed]",
            "text/plain": [
              "<Figure size 1200x800 with 4 Axes>"
            ]
          },
          "metadata": {},
          "output_type": "display_data"
        }
      ],
      "source": [
        "from pandas.plotting import scatter_matrix\n",
        "\n",
        "attributes = [\"price\", \"longitude\"]\n",
        "scatter_matrix(df[attributes], figsize=(12, 8))"
      ]
    },
    {
      "cell_type": "markdown",
      "metadata": {
        "id": "RYjHBa2wt1cz"
      },
      "source": [
        "##Create a Test Set (10 points)\n",
        "We use 20% of the data for testing and the rest for training. Since neighbourhood_group is an important feature, we use neighbourhood_group to conduct a stratefied split.\n",
        "\n",
        "Fill in your code below."
      ]
    },
    {
      "cell_type": "code",
      "execution_count": 81,
      "metadata": {
        "id": "17k9W1TnfoKL"
      },
      "outputs": [],
      "source": [
        "from sklearn.model_selection import StratifiedShuffleSplit\n",
        "\n",
        "split = StratifiedShuffleSplit(n_splits=1, test_size=0.2, random_state=42)\n",
        "for train_index, test_index in split.split(df, df[\"neighbourhood_group\"]):\n",
        "    strat_train_set = df.loc[train_index]\n",
        "    strat_test_set = df.loc[test_index]"
      ]
    },
    {
      "cell_type": "code",
      "execution_count": 82,
      "metadata": {
        "colab": {
          "base_uri": "https://localhost:8080/"
        },
        "id": "cnpYbfkIndSe",
        "outputId": "45154730-e414-4fc3-af70-3a74e25a87ec"
      },
      "outputs": [
        {
          "data": {
            "text/plain": [
              "Manhattan        0.443081\n",
              "Brooklyn         0.411067\n",
              "Queens           0.115884\n",
              "Bronx            0.022297\n",
              "Staten Island    0.007671\n",
              "Name: neighbourhood_group, dtype: float64"
            ]
          },
          "execution_count": 82,
          "metadata": {},
          "output_type": "execute_result"
        }
      ],
      "source": [
        "strat_test_set[\"neighbourhood_group\"].value_counts()/len(strat_test_set)"
      ]
    },
    {
      "cell_type": "code",
      "execution_count": 83,
      "metadata": {
        "colab": {
          "base_uri": "https://localhost:8080/"
        },
        "id": "eUG-8yx-nzW2",
        "outputId": "5d07e63d-d952-4a51-a873-b237f7721339"
      },
      "outputs": [
        {
          "data": {
            "text/plain": [
              "Manhattan        0.443090\n",
              "Brooklyn         0.411075\n",
              "Queens           0.115907\n",
              "Bronx            0.022298\n",
              "Staten Island    0.007630\n",
              "Name: neighbourhood_group, dtype: float64"
            ]
          },
          "execution_count": 83,
          "metadata": {},
          "output_type": "execute_result"
        }
      ],
      "source": [
        "df[\"neighbourhood_group\"].value_counts()/len(df)"
      ]
    },
    {
      "cell_type": "code",
      "execution_count": 84,
      "metadata": {
        "colab": {
          "base_uri": "https://localhost:8080/",
          "height": 313
        },
        "id": "RfvehAnRcOT2",
        "outputId": "822cde75-81f5-4a52-cc1e-75c642f1b1d8"
      },
      "outputs": [
        {
          "data": {
            "text/html": [
              "<div>\n",
              "<style scoped>\n",
              "    .dataframe tbody tr th:only-of-type {\n",
              "        vertical-align: middle;\n",
              "    }\n",
              "\n",
              "    .dataframe tbody tr th {\n",
              "        vertical-align: top;\n",
              "    }\n",
              "\n",
              "    .dataframe thead th {\n",
              "        text-align: right;\n",
              "    }\n",
              "</style>\n",
              "<table border=\"1\" class=\"dataframe\">\n",
              "  <thead>\n",
              "    <tr style=\"text-align: right;\">\n",
              "      <th></th>\n",
              "      <th>neighbourhood_group</th>\n",
              "      <th>latitude</th>\n",
              "      <th>longitude</th>\n",
              "      <th>room_type</th>\n",
              "      <th>price</th>\n",
              "      <th>minimum_nights</th>\n",
              "      <th>number_of_reviews</th>\n",
              "      <th>reviews_per_month</th>\n",
              "      <th>calculated_host_listings_count</th>\n",
              "      <th>availability_365</th>\n",
              "    </tr>\n",
              "  </thead>\n",
              "  <tbody>\n",
              "    <tr>\n",
              "      <th>43306</th>\n",
              "      <td>Manhattan</td>\n",
              "      <td>40.73571</td>\n",
              "      <td>-73.99694</td>\n",
              "      <td>Private room</td>\n",
              "      <td>425</td>\n",
              "      <td>1</td>\n",
              "      <td>0</td>\n",
              "      <td>NaN</td>\n",
              "      <td>2</td>\n",
              "      <td>353</td>\n",
              "    </tr>\n",
              "    <tr>\n",
              "      <th>2922</th>\n",
              "      <td>Queens</td>\n",
              "      <td>40.59684</td>\n",
              "      <td>-73.79449</td>\n",
              "      <td>Private room</td>\n",
              "      <td>35</td>\n",
              "      <td>2</td>\n",
              "      <td>201</td>\n",
              "      <td>3.28</td>\n",
              "      <td>2</td>\n",
              "      <td>88</td>\n",
              "    </tr>\n",
              "    <tr>\n",
              "      <th>39578</th>\n",
              "      <td>Manhattan</td>\n",
              "      <td>40.74692</td>\n",
              "      <td>-73.97548</td>\n",
              "      <td>Private room</td>\n",
              "      <td>70</td>\n",
              "      <td>30</td>\n",
              "      <td>1</td>\n",
              "      <td>0.16</td>\n",
              "      <td>1</td>\n",
              "      <td>172</td>\n",
              "    </tr>\n",
              "    <tr>\n",
              "      <th>45814</th>\n",
              "      <td>Manhattan</td>\n",
              "      <td>40.74751</td>\n",
              "      <td>-73.98051</td>\n",
              "      <td>Entire home/apt</td>\n",
              "      <td>300</td>\n",
              "      <td>30</td>\n",
              "      <td>0</td>\n",
              "      <td>NaN</td>\n",
              "      <td>8</td>\n",
              "      <td>355</td>\n",
              "    </tr>\n",
              "    <tr>\n",
              "      <th>7652</th>\n",
              "      <td>Manhattan</td>\n",
              "      <td>40.77260</td>\n",
              "      <td>-73.97928</td>\n",
              "      <td>Shared room</td>\n",
              "      <td>68</td>\n",
              "      <td>3</td>\n",
              "      <td>105</td>\n",
              "      <td>2.09</td>\n",
              "      <td>1</td>\n",
              "      <td>302</td>\n",
              "    </tr>\n",
              "  </tbody>\n",
              "</table>\n",
              "</div>"
            ],
            "text/plain": [
              "      neighbourhood_group  latitude  longitude        room_type  price  \\\n",
              "43306           Manhattan  40.73571  -73.99694     Private room    425   \n",
              "2922               Queens  40.59684  -73.79449     Private room     35   \n",
              "39578           Manhattan  40.74692  -73.97548     Private room     70   \n",
              "45814           Manhattan  40.74751  -73.98051  Entire home/apt    300   \n",
              "7652            Manhattan  40.77260  -73.97928      Shared room     68   \n",
              "\n",
              "       minimum_nights  number_of_reviews  reviews_per_month  \\\n",
              "43306               1                  0                NaN   \n",
              "2922                2                201               3.28   \n",
              "39578              30                  1               0.16   \n",
              "45814              30                  0                NaN   \n",
              "7652                3                105               2.09   \n",
              "\n",
              "       calculated_host_listings_count  availability_365  \n",
              "43306                               2               353  \n",
              "2922                                2                88  \n",
              "39578                               1               172  \n",
              "45814                               8               355  \n",
              "7652                                1               302  "
            ]
          },
          "execution_count": 84,
          "metadata": {},
          "output_type": "execute_result"
        }
      ],
      "source": [
        "strat_test_set.head()"
      ]
    },
    {
      "cell_type": "markdown",
      "metadata": {
        "id": "sXizOFwRkh0z"
      },
      "source": [
        "##Prepare the Data for Machine Learning Algorithms (20 points)\n",
        "Drop the label from the training and testing sets, and verify that we indeed have dropped it successfully."
      ]
    },
    {
      "cell_type": "code",
      "execution_count": 85,
      "metadata": {
        "id": "acDtf-V1cOT7"
      },
      "outputs": [],
      "source": [
        "housing = strat_train_set.drop(\"price\", axis=1) # drop labels for training set\n",
        "housing_labels = strat_train_set[\"price\"].copy()"
      ]
    },
    {
      "cell_type": "code",
      "execution_count": 86,
      "metadata": {
        "colab": {
          "base_uri": "https://localhost:8080/",
          "height": 313
        },
        "id": "GL0gJLg9cOUE",
        "outputId": "31ded012-674a-438e-a74b-f3e57152c5b0"
      },
      "outputs": [
        {
          "data": {
            "text/html": [
              "<div>\n",
              "<style scoped>\n",
              "    .dataframe tbody tr th:only-of-type {\n",
              "        vertical-align: middle;\n",
              "    }\n",
              "\n",
              "    .dataframe tbody tr th {\n",
              "        vertical-align: top;\n",
              "    }\n",
              "\n",
              "    .dataframe thead th {\n",
              "        text-align: right;\n",
              "    }\n",
              "</style>\n",
              "<table border=\"1\" class=\"dataframe\">\n",
              "  <thead>\n",
              "    <tr style=\"text-align: right;\">\n",
              "      <th></th>\n",
              "      <th>neighbourhood_group</th>\n",
              "      <th>latitude</th>\n",
              "      <th>longitude</th>\n",
              "      <th>room_type</th>\n",
              "      <th>minimum_nights</th>\n",
              "      <th>number_of_reviews</th>\n",
              "      <th>reviews_per_month</th>\n",
              "      <th>calculated_host_listings_count</th>\n",
              "      <th>availability_365</th>\n",
              "    </tr>\n",
              "  </thead>\n",
              "  <tbody>\n",
              "    <tr>\n",
              "      <th>40275</th>\n",
              "      <td>Queens</td>\n",
              "      <td>40.68996</td>\n",
              "      <td>-73.74882</td>\n",
              "      <td>Private room</td>\n",
              "      <td>2</td>\n",
              "      <td>6</td>\n",
              "      <td>1.01</td>\n",
              "      <td>3</td>\n",
              "      <td>85</td>\n",
              "    </tr>\n",
              "    <tr>\n",
              "      <th>45402</th>\n",
              "      <td>Queens</td>\n",
              "      <td>40.76187</td>\n",
              "      <td>-73.82169</td>\n",
              "      <td>Private room</td>\n",
              "      <td>1</td>\n",
              "      <td>9</td>\n",
              "      <td>4.91</td>\n",
              "      <td>6</td>\n",
              "      <td>365</td>\n",
              "    </tr>\n",
              "    <tr>\n",
              "      <th>8028</th>\n",
              "      <td>Brooklyn</td>\n",
              "      <td>40.71178</td>\n",
              "      <td>-73.95684</td>\n",
              "      <td>Entire home/apt</td>\n",
              "      <td>15</td>\n",
              "      <td>27</td>\n",
              "      <td>0.68</td>\n",
              "      <td>1</td>\n",
              "      <td>173</td>\n",
              "    </tr>\n",
              "    <tr>\n",
              "      <th>43463</th>\n",
              "      <td>Queens</td>\n",
              "      <td>40.76308</td>\n",
              "      <td>-73.82215</td>\n",
              "      <td>Private room</td>\n",
              "      <td>2</td>\n",
              "      <td>1</td>\n",
              "      <td>1.00</td>\n",
              "      <td>2</td>\n",
              "      <td>0</td>\n",
              "    </tr>\n",
              "    <tr>\n",
              "      <th>43412</th>\n",
              "      <td>Manhattan</td>\n",
              "      <td>40.77961</td>\n",
              "      <td>-73.97821</td>\n",
              "      <td>Private room</td>\n",
              "      <td>2</td>\n",
              "      <td>3</td>\n",
              "      <td>1.13</td>\n",
              "      <td>1</td>\n",
              "      <td>61</td>\n",
              "    </tr>\n",
              "  </tbody>\n",
              "</table>\n",
              "</div>"
            ],
            "text/plain": [
              "      neighbourhood_group  latitude  longitude        room_type  \\\n",
              "40275              Queens  40.68996  -73.74882     Private room   \n",
              "45402              Queens  40.76187  -73.82169     Private room   \n",
              "8028             Brooklyn  40.71178  -73.95684  Entire home/apt   \n",
              "43463              Queens  40.76308  -73.82215     Private room   \n",
              "43412           Manhattan  40.77961  -73.97821     Private room   \n",
              "\n",
              "       minimum_nights  number_of_reviews  reviews_per_month  \\\n",
              "40275               2                  6               1.01   \n",
              "45402               1                  9               4.91   \n",
              "8028               15                 27               0.68   \n",
              "43463               2                  1               1.00   \n",
              "43412               2                  3               1.13   \n",
              "\n",
              "       calculated_host_listings_count  availability_365  \n",
              "40275                               3                85  \n",
              "45402                               6               365  \n",
              "8028                                1               173  \n",
              "43463                               2                 0  \n",
              "43412                               1                61  "
            ]
          },
          "execution_count": 86,
          "metadata": {},
          "output_type": "execute_result"
        }
      ],
      "source": [
        "housing.head()"
      ]
    },
    {
      "cell_type": "code",
      "execution_count": 87,
      "metadata": {
        "colab": {
          "base_uri": "https://localhost:8080/"
        },
        "id": "slWSBRdXcOUH",
        "outputId": "b7ff9b7f-d226-4ee7-9a2b-e9af5a37d9c0"
      },
      "outputs": [
        {
          "data": {
            "text/plain": [
              "40275    147\n",
              "45402     69\n",
              "8028      90\n",
              "43463     63\n",
              "43412    160\n",
              "Name: price, dtype: int64"
            ]
          },
          "execution_count": 87,
          "metadata": {},
          "output_type": "execute_result"
        }
      ],
      "source": [
        "housing_labels.head()"
      ]
    },
    {
      "cell_type": "markdown",
      "metadata": {
        "id": "HCG-9ztrf5Xl"
      },
      "source": [
        "### Data Cleaning"
      ]
    },
    {
      "cell_type": "code",
      "execution_count": 88,
      "metadata": {
        "colab": {
          "base_uri": "https://localhost:8080/",
          "height": 313
        },
        "id": "WamrDaIgcOUK",
        "outputId": "d179097b-3e58-4ffc-d343-895800c80686"
      },
      "outputs": [
        {
          "data": {
            "text/html": [
              "<div>\n",
              "<style scoped>\n",
              "    .dataframe tbody tr th:only-of-type {\n",
              "        vertical-align: middle;\n",
              "    }\n",
              "\n",
              "    .dataframe tbody tr th {\n",
              "        vertical-align: top;\n",
              "    }\n",
              "\n",
              "    .dataframe thead th {\n",
              "        text-align: right;\n",
              "    }\n",
              "</style>\n",
              "<table border=\"1\" class=\"dataframe\">\n",
              "  <thead>\n",
              "    <tr style=\"text-align: right;\">\n",
              "      <th></th>\n",
              "      <th>neighbourhood_group</th>\n",
              "      <th>latitude</th>\n",
              "      <th>longitude</th>\n",
              "      <th>room_type</th>\n",
              "      <th>minimum_nights</th>\n",
              "      <th>number_of_reviews</th>\n",
              "      <th>reviews_per_month</th>\n",
              "      <th>calculated_host_listings_count</th>\n",
              "      <th>availability_365</th>\n",
              "    </tr>\n",
              "  </thead>\n",
              "  <tbody>\n",
              "    <tr>\n",
              "      <th>14678</th>\n",
              "      <td>Manhattan</td>\n",
              "      <td>40.71469</td>\n",
              "      <td>-73.99950</td>\n",
              "      <td>Entire home/apt</td>\n",
              "      <td>4</td>\n",
              "      <td>0</td>\n",
              "      <td>NaN</td>\n",
              "      <td>1</td>\n",
              "      <td>0</td>\n",
              "    </tr>\n",
              "    <tr>\n",
              "      <th>39014</th>\n",
              "      <td>Brooklyn</td>\n",
              "      <td>40.69076</td>\n",
              "      <td>-73.91296</td>\n",
              "      <td>Private room</td>\n",
              "      <td>30</td>\n",
              "      <td>0</td>\n",
              "      <td>NaN</td>\n",
              "      <td>103</td>\n",
              "      <td>236</td>\n",
              "    </tr>\n",
              "    <tr>\n",
              "      <th>9219</th>\n",
              "      <td>Brooklyn</td>\n",
              "      <td>40.67505</td>\n",
              "      <td>-73.98045</td>\n",
              "      <td>Private room</td>\n",
              "      <td>3</td>\n",
              "      <td>0</td>\n",
              "      <td>NaN</td>\n",
              "      <td>1</td>\n",
              "      <td>0</td>\n",
              "    </tr>\n",
              "    <tr>\n",
              "      <th>21857</th>\n",
              "      <td>Queens</td>\n",
              "      <td>40.76964</td>\n",
              "      <td>-73.92303</td>\n",
              "      <td>Private room</td>\n",
              "      <td>10</td>\n",
              "      <td>0</td>\n",
              "      <td>NaN</td>\n",
              "      <td>1</td>\n",
              "      <td>188</td>\n",
              "    </tr>\n",
              "    <tr>\n",
              "      <th>48717</th>\n",
              "      <td>Manhattan</td>\n",
              "      <td>40.72388</td>\n",
              "      <td>-73.98354</td>\n",
              "      <td>Entire home/apt</td>\n",
              "      <td>1</td>\n",
              "      <td>0</td>\n",
              "      <td>NaN</td>\n",
              "      <td>1</td>\n",
              "      <td>35</td>\n",
              "    </tr>\n",
              "  </tbody>\n",
              "</table>\n",
              "</div>"
            ],
            "text/plain": [
              "      neighbourhood_group  latitude  longitude        room_type  \\\n",
              "14678           Manhattan  40.71469  -73.99950  Entire home/apt   \n",
              "39014            Brooklyn  40.69076  -73.91296     Private room   \n",
              "9219             Brooklyn  40.67505  -73.98045     Private room   \n",
              "21857              Queens  40.76964  -73.92303     Private room   \n",
              "48717           Manhattan  40.72388  -73.98354  Entire home/apt   \n",
              "\n",
              "       minimum_nights  number_of_reviews  reviews_per_month  \\\n",
              "14678               4                  0                NaN   \n",
              "39014              30                  0                NaN   \n",
              "9219                3                  0                NaN   \n",
              "21857              10                  0                NaN   \n",
              "48717               1                  0                NaN   \n",
              "\n",
              "       calculated_host_listings_count  availability_365  \n",
              "14678                               1                 0  \n",
              "39014                             103               236  \n",
              "9219                                1                 0  \n",
              "21857                               1               188  \n",
              "48717                               1                35  "
            ]
          },
          "execution_count": 88,
          "metadata": {},
          "output_type": "execute_result"
        }
      ],
      "source": [
        "sample_incomplete_rows = housing[housing.isnull().any(axis=1)].head()\n",
        "sample_incomplete_rows"
      ]
    },
    {
      "cell_type": "code",
      "execution_count": 89,
      "metadata": {
        "id": "_XV1eaL1gXPY"
      },
      "outputs": [],
      "source": [
        "from sklearn.impute import SimpleImputer\n",
        "imputer = SimpleImputer(strategy=\"median\")"
      ]
    },
    {
      "cell_type": "code",
      "execution_count": 90,
      "metadata": {
        "id": "fmfr8Fjngoex"
      },
      "outputs": [],
      "source": [
        "housing_num = housing.drop([\"neighbourhood_group\", \"room_type\"], axis=1)"
      ]
    },
    {
      "cell_type": "code",
      "execution_count": 91,
      "metadata": {
        "colab": {
          "base_uri": "https://localhost:8080/",
          "height": 75
        },
        "id": "8tll4nP7g-CH",
        "outputId": "164ab99d-f7a0-4f04-d481-c27eff63a9b7"
      },
      "outputs": [
        {
          "data": {
            "text/html": [
              "<style>#sk-container-id-5 {color: black;background-color: white;}#sk-container-id-5 pre{padding: 0;}#sk-container-id-5 div.sk-toggleable {background-color: white;}#sk-container-id-5 label.sk-toggleable__label {cursor: pointer;display: block;width: 100%;margin-bottom: 0;padding: 0.3em;box-sizing: border-box;text-align: center;}#sk-container-id-5 label.sk-toggleable__label-arrow:before {content: \"▸\";float: left;margin-right: 0.25em;color: #696969;}#sk-container-id-5 label.sk-toggleable__label-arrow:hover:before {color: black;}#sk-container-id-5 div.sk-estimator:hover label.sk-toggleable__label-arrow:before {color: black;}#sk-container-id-5 div.sk-toggleable__content {max-height: 0;max-width: 0;overflow: hidden;text-align: left;background-color: #f0f8ff;}#sk-container-id-5 div.sk-toggleable__content pre {margin: 0.2em;color: black;border-radius: 0.25em;background-color: #f0f8ff;}#sk-container-id-5 input.sk-toggleable__control:checked~div.sk-toggleable__content {max-height: 200px;max-width: 100%;overflow: auto;}#sk-container-id-5 input.sk-toggleable__control:checked~label.sk-toggleable__label-arrow:before {content: \"▾\";}#sk-container-id-5 div.sk-estimator input.sk-toggleable__control:checked~label.sk-toggleable__label {background-color: #d4ebff;}#sk-container-id-5 div.sk-label input.sk-toggleable__control:checked~label.sk-toggleable__label {background-color: #d4ebff;}#sk-container-id-5 input.sk-hidden--visually {border: 0;clip: rect(1px 1px 1px 1px);clip: rect(1px, 1px, 1px, 1px);height: 1px;margin: -1px;overflow: hidden;padding: 0;position: absolute;width: 1px;}#sk-container-id-5 div.sk-estimator {font-family: monospace;background-color: #f0f8ff;border: 1px dotted black;border-radius: 0.25em;box-sizing: border-box;margin-bottom: 0.5em;}#sk-container-id-5 div.sk-estimator:hover {background-color: #d4ebff;}#sk-container-id-5 div.sk-parallel-item::after {content: \"\";width: 100%;border-bottom: 1px solid gray;flex-grow: 1;}#sk-container-id-5 div.sk-label:hover label.sk-toggleable__label {background-color: #d4ebff;}#sk-container-id-5 div.sk-serial::before {content: \"\";position: absolute;border-left: 1px solid gray;box-sizing: border-box;top: 0;bottom: 0;left: 50%;z-index: 0;}#sk-container-id-5 div.sk-serial {display: flex;flex-direction: column;align-items: center;background-color: white;padding-right: 0.2em;padding-left: 0.2em;position: relative;}#sk-container-id-5 div.sk-item {position: relative;z-index: 1;}#sk-container-id-5 div.sk-parallel {display: flex;align-items: stretch;justify-content: center;background-color: white;position: relative;}#sk-container-id-5 div.sk-item::before, #sk-container-id-5 div.sk-parallel-item::before {content: \"\";position: absolute;border-left: 1px solid gray;box-sizing: border-box;top: 0;bottom: 0;left: 50%;z-index: -1;}#sk-container-id-5 div.sk-parallel-item {display: flex;flex-direction: column;z-index: 1;position: relative;background-color: white;}#sk-container-id-5 div.sk-parallel-item:first-child::after {align-self: flex-end;width: 50%;}#sk-container-id-5 div.sk-parallel-item:last-child::after {align-self: flex-start;width: 50%;}#sk-container-id-5 div.sk-parallel-item:only-child::after {width: 0;}#sk-container-id-5 div.sk-dashed-wrapped {border: 1px dashed gray;margin: 0 0.4em 0.5em 0.4em;box-sizing: border-box;padding-bottom: 0.4em;background-color: white;}#sk-container-id-5 div.sk-label label {font-family: monospace;font-weight: bold;display: inline-block;line-height: 1.2em;}#sk-container-id-5 div.sk-label-container {text-align: center;}#sk-container-id-5 div.sk-container {/* jupyter's `normalize.less` sets `[hidden] { display: none; }` but bootstrap.min.css set `[hidden] { display: none !important; }` so we also need the `!important` here to be able to override the default hidden behavior on the sphinx rendered scikit-learn.org. See: https://github.com/scikit-learn/scikit-learn/issues/21755 */display: inline-block !important;position: relative;}#sk-container-id-5 div.sk-text-repr-fallback {display: none;}</style><div id=\"sk-container-id-5\" class=\"sk-top-container\"><div class=\"sk-text-repr-fallback\"><pre>SimpleImputer(strategy=&#x27;median&#x27;)</pre><b>In a Jupyter environment, please rerun this cell to show the HTML representation or trust the notebook. <br />On GitHub, the HTML representation is unable to render, please try loading this page with nbviewer.org.</b></div><div class=\"sk-container\" hidden><div class=\"sk-item\"><div class=\"sk-estimator sk-toggleable\"><input class=\"sk-toggleable__control sk-hidden--visually\" id=\"sk-estimator-id-5\" type=\"checkbox\" checked><label for=\"sk-estimator-id-5\" class=\"sk-toggleable__label sk-toggleable__label-arrow\">SimpleImputer</label><div class=\"sk-toggleable__content\"><pre>SimpleImputer(strategy=&#x27;median&#x27;)</pre></div></div></div></div></div>"
            ],
            "text/plain": [
              "SimpleImputer(strategy='median')"
            ]
          },
          "execution_count": 91,
          "metadata": {},
          "output_type": "execute_result"
        }
      ],
      "source": [
        "imputer.fit(housing_num)"
      ]
    },
    {
      "cell_type": "code",
      "execution_count": 92,
      "metadata": {
        "colab": {
          "base_uri": "https://localhost:8080/"
        },
        "id": "jgw3K4swhFK0",
        "outputId": "5eddf24a-0de9-4bf4-ca5e-61e28e6956a8"
      },
      "outputs": [
        {
          "data": {
            "text/plain": [
              "array([ 40.72328, -73.95575,   3.     ,   5.     ,   0.71   ,   1.     ,\n",
              "        44.     ])"
            ]
          },
          "execution_count": 92,
          "metadata": {},
          "output_type": "execute_result"
        }
      ],
      "source": [
        "imputer.statistics_"
      ]
    },
    {
      "cell_type": "code",
      "execution_count": 93,
      "metadata": {
        "id": "FxjQKhSwhPZe"
      },
      "outputs": [],
      "source": [
        "X = imputer.transform(housing_num)"
      ]
    },
    {
      "cell_type": "code",
      "execution_count": 94,
      "metadata": {
        "id": "3aklee4OhaVe"
      },
      "outputs": [],
      "source": [
        "housing_tr = pd.DataFrame(X,columns=housing_num.columns, index=housing_num.index)"
      ]
    },
    {
      "cell_type": "code",
      "execution_count": 95,
      "metadata": {
        "colab": {
          "base_uri": "https://localhost:8080/",
          "height": 320
        },
        "id": "B6gH9xIrhoJQ",
        "outputId": "21097e3b-6d80-4e95-9d7e-af4dfc9b2093"
      },
      "outputs": [
        {
          "data": {
            "text/html": [
              "<div>\n",
              "<style scoped>\n",
              "    .dataframe tbody tr th:only-of-type {\n",
              "        vertical-align: middle;\n",
              "    }\n",
              "\n",
              "    .dataframe tbody tr th {\n",
              "        vertical-align: top;\n",
              "    }\n",
              "\n",
              "    .dataframe thead th {\n",
              "        text-align: right;\n",
              "    }\n",
              "</style>\n",
              "<table border=\"1\" class=\"dataframe\">\n",
              "  <thead>\n",
              "    <tr style=\"text-align: right;\">\n",
              "      <th></th>\n",
              "      <th>latitude</th>\n",
              "      <th>longitude</th>\n",
              "      <th>minimum_nights</th>\n",
              "      <th>number_of_reviews</th>\n",
              "      <th>reviews_per_month</th>\n",
              "      <th>calculated_host_listings_count</th>\n",
              "      <th>availability_365</th>\n",
              "    </tr>\n",
              "  </thead>\n",
              "  <tbody>\n",
              "    <tr>\n",
              "      <th>count</th>\n",
              "      <td>39107.000000</td>\n",
              "      <td>39107.000000</td>\n",
              "      <td>39107.000000</td>\n",
              "      <td>39107.000000</td>\n",
              "      <td>39107.000000</td>\n",
              "      <td>39107.000000</td>\n",
              "      <td>39107.000000</td>\n",
              "    </tr>\n",
              "    <tr>\n",
              "      <th>mean</th>\n",
              "      <td>40.729014</td>\n",
              "      <td>-73.952352</td>\n",
              "      <td>7.033600</td>\n",
              "      <td>23.376122</td>\n",
              "      <td>1.233795</td>\n",
              "      <td>7.313064</td>\n",
              "      <td>112.688087</td>\n",
              "    </tr>\n",
              "    <tr>\n",
              "      <th>std</th>\n",
              "      <td>0.054537</td>\n",
              "      <td>0.045933</td>\n",
              "      <td>20.247694</td>\n",
              "      <td>44.741109</td>\n",
              "      <td>1.498895</td>\n",
              "      <td>33.531340</td>\n",
              "      <td>131.647215</td>\n",
              "    </tr>\n",
              "    <tr>\n",
              "      <th>min</th>\n",
              "      <td>40.499790</td>\n",
              "      <td>-74.244420</td>\n",
              "      <td>1.000000</td>\n",
              "      <td>0.000000</td>\n",
              "      <td>0.010000</td>\n",
              "      <td>1.000000</td>\n",
              "      <td>0.000000</td>\n",
              "    </tr>\n",
              "    <tr>\n",
              "      <th>25%</th>\n",
              "      <td>40.690150</td>\n",
              "      <td>-73.983080</td>\n",
              "      <td>1.000000</td>\n",
              "      <td>1.000000</td>\n",
              "      <td>0.280000</td>\n",
              "      <td>1.000000</td>\n",
              "      <td>0.000000</td>\n",
              "    </tr>\n",
              "    <tr>\n",
              "      <th>50%</th>\n",
              "      <td>40.723280</td>\n",
              "      <td>-73.955750</td>\n",
              "      <td>3.000000</td>\n",
              "      <td>5.000000</td>\n",
              "      <td>0.710000</td>\n",
              "      <td>1.000000</td>\n",
              "      <td>44.000000</td>\n",
              "    </tr>\n",
              "    <tr>\n",
              "      <th>75%</th>\n",
              "      <td>40.763140</td>\n",
              "      <td>-73.936445</td>\n",
              "      <td>5.000000</td>\n",
              "      <td>24.000000</td>\n",
              "      <td>1.580000</td>\n",
              "      <td>2.000000</td>\n",
              "      <td>227.000000</td>\n",
              "    </tr>\n",
              "    <tr>\n",
              "      <th>max</th>\n",
              "      <td>40.913060</td>\n",
              "      <td>-73.712990</td>\n",
              "      <td>1250.000000</td>\n",
              "      <td>629.000000</td>\n",
              "      <td>27.950000</td>\n",
              "      <td>327.000000</td>\n",
              "      <td>365.000000</td>\n",
              "    </tr>\n",
              "  </tbody>\n",
              "</table>\n",
              "</div>"
            ],
            "text/plain": [
              "           latitude     longitude  minimum_nights  number_of_reviews  \\\n",
              "count  39107.000000  39107.000000    39107.000000       39107.000000   \n",
              "mean      40.729014    -73.952352        7.033600          23.376122   \n",
              "std        0.054537      0.045933       20.247694          44.741109   \n",
              "min       40.499790    -74.244420        1.000000           0.000000   \n",
              "25%       40.690150    -73.983080        1.000000           1.000000   \n",
              "50%       40.723280    -73.955750        3.000000           5.000000   \n",
              "75%       40.763140    -73.936445        5.000000          24.000000   \n",
              "max       40.913060    -73.712990     1250.000000         629.000000   \n",
              "\n",
              "       reviews_per_month  calculated_host_listings_count  availability_365  \n",
              "count       39107.000000                    39107.000000      39107.000000  \n",
              "mean            1.233795                        7.313064        112.688087  \n",
              "std             1.498895                       33.531340        131.647215  \n",
              "min             0.010000                        1.000000          0.000000  \n",
              "25%             0.280000                        1.000000          0.000000  \n",
              "50%             0.710000                        1.000000         44.000000  \n",
              "75%             1.580000                        2.000000        227.000000  \n",
              "max            27.950000                      327.000000        365.000000  "
            ]
          },
          "execution_count": 95,
          "metadata": {},
          "output_type": "execute_result"
        }
      ],
      "source": [
        "housing_tr.describe()"
      ]
    },
    {
      "cell_type": "markdown",
      "metadata": {
        "id": "qcyVABsCjqnQ"
      },
      "source": [
        "### Handling Text and Categorical Attributes\n"
      ]
    },
    {
      "cell_type": "code",
      "execution_count": 96,
      "metadata": {
        "id": "BmPgoAHekFcE"
      },
      "outputs": [],
      "source": [
        "housing_cat = housing[[\"neighbourhood_group\", \"room_type\"]]"
      ]
    },
    {
      "cell_type": "code",
      "execution_count": 97,
      "metadata": {
        "colab": {
          "base_uri": "https://localhost:8080/",
          "height": 363
        },
        "id": "pVUy9IqHkbi2",
        "outputId": "d2ca1a78-01bb-449a-969a-3793e6a96ac0"
      },
      "outputs": [
        {
          "data": {
            "text/html": [
              "<div>\n",
              "<style scoped>\n",
              "    .dataframe tbody tr th:only-of-type {\n",
              "        vertical-align: middle;\n",
              "    }\n",
              "\n",
              "    .dataframe tbody tr th {\n",
              "        vertical-align: top;\n",
              "    }\n",
              "\n",
              "    .dataframe thead th {\n",
              "        text-align: right;\n",
              "    }\n",
              "</style>\n",
              "<table border=\"1\" class=\"dataframe\">\n",
              "  <thead>\n",
              "    <tr style=\"text-align: right;\">\n",
              "      <th></th>\n",
              "      <th>neighbourhood_group</th>\n",
              "      <th>room_type</th>\n",
              "    </tr>\n",
              "  </thead>\n",
              "  <tbody>\n",
              "    <tr>\n",
              "      <th>40275</th>\n",
              "      <td>Queens</td>\n",
              "      <td>Private room</td>\n",
              "    </tr>\n",
              "    <tr>\n",
              "      <th>45402</th>\n",
              "      <td>Queens</td>\n",
              "      <td>Private room</td>\n",
              "    </tr>\n",
              "    <tr>\n",
              "      <th>8028</th>\n",
              "      <td>Brooklyn</td>\n",
              "      <td>Entire home/apt</td>\n",
              "    </tr>\n",
              "    <tr>\n",
              "      <th>43463</th>\n",
              "      <td>Queens</td>\n",
              "      <td>Private room</td>\n",
              "    </tr>\n",
              "    <tr>\n",
              "      <th>43412</th>\n",
              "      <td>Manhattan</td>\n",
              "      <td>Private room</td>\n",
              "    </tr>\n",
              "    <tr>\n",
              "      <th>18630</th>\n",
              "      <td>Brooklyn</td>\n",
              "      <td>Entire home/apt</td>\n",
              "    </tr>\n",
              "    <tr>\n",
              "      <th>48127</th>\n",
              "      <td>Manhattan</td>\n",
              "      <td>Entire home/apt</td>\n",
              "    </tr>\n",
              "    <tr>\n",
              "      <th>43135</th>\n",
              "      <td>Brooklyn</td>\n",
              "      <td>Entire home/apt</td>\n",
              "    </tr>\n",
              "    <tr>\n",
              "      <th>42151</th>\n",
              "      <td>Brooklyn</td>\n",
              "      <td>Private room</td>\n",
              "    </tr>\n",
              "    <tr>\n",
              "      <th>29627</th>\n",
              "      <td>Manhattan</td>\n",
              "      <td>Entire home/apt</td>\n",
              "    </tr>\n",
              "  </tbody>\n",
              "</table>\n",
              "</div>"
            ],
            "text/plain": [
              "      neighbourhood_group        room_type\n",
              "40275              Queens     Private room\n",
              "45402              Queens     Private room\n",
              "8028             Brooklyn  Entire home/apt\n",
              "43463              Queens     Private room\n",
              "43412           Manhattan     Private room\n",
              "18630            Brooklyn  Entire home/apt\n",
              "48127           Manhattan  Entire home/apt\n",
              "43135            Brooklyn  Entire home/apt\n",
              "42151            Brooklyn     Private room\n",
              "29627           Manhattan  Entire home/apt"
            ]
          },
          "execution_count": 97,
          "metadata": {},
          "output_type": "execute_result"
        }
      ],
      "source": [
        "housing_cat.head(10)"
      ]
    },
    {
      "cell_type": "code",
      "execution_count": 98,
      "metadata": {
        "id": "CBDUq3jok_DH"
      },
      "outputs": [],
      "source": [
        "from sklearn.preprocessing import OneHotEncoder\n",
        "cat_encoder = OneHotEncoder()\n",
        "housing_cat_1hot = cat_encoder.fit_transform(housing_cat)"
      ]
    },
    {
      "cell_type": "code",
      "execution_count": 99,
      "metadata": {
        "colab": {
          "base_uri": "https://localhost:8080/"
        },
        "id": "HKmK-9ImlTWB",
        "outputId": "069063d0-d4c3-4e78-8b78-b50de2f07e29"
      },
      "outputs": [
        {
          "data": {
            "text/plain": [
              "<39107x8 sparse matrix of type '<class 'numpy.float64'>'\n",
              "\twith 78214 stored elements in Compressed Sparse Row format>"
            ]
          },
          "execution_count": 99,
          "metadata": {},
          "output_type": "execute_result"
        }
      ],
      "source": [
        "housing_cat_1hot"
      ]
    },
    {
      "cell_type": "code",
      "execution_count": 100,
      "metadata": {
        "colab": {
          "base_uri": "https://localhost:8080/"
        },
        "id": "dBpoRtaAlcH-",
        "outputId": "69f4c457-bc28-4bf0-e1d2-8e2b435dfc9a"
      },
      "outputs": [
        {
          "data": {
            "text/plain": [
              "array([[0., 0., 0., ..., 0., 1., 0.],\n",
              "       [0., 0., 0., ..., 0., 1., 0.],\n",
              "       [0., 1., 0., ..., 1., 0., 0.],\n",
              "       ...,\n",
              "       [0., 0., 1., ..., 1., 0., 0.],\n",
              "       [0., 1., 0., ..., 0., 1., 0.],\n",
              "       [0., 1., 0., ..., 0., 1., 0.]])"
            ]
          },
          "execution_count": 100,
          "metadata": {},
          "output_type": "execute_result"
        }
      ],
      "source": [
        "housing_cat_1hot.toarray()"
      ]
    },
    {
      "cell_type": "code",
      "execution_count": 101,
      "metadata": {
        "colab": {
          "base_uri": "https://localhost:8080/"
        },
        "id": "WzkMBU-dmZlP",
        "outputId": "0bbe02a5-ade8-4195-e3c8-2c8b261d5c20"
      },
      "outputs": [
        {
          "data": {
            "text/plain": [
              "array([0., 0., 0., 1., 0., 0., 1., 0.])"
            ]
          },
          "execution_count": 101,
          "metadata": {},
          "output_type": "execute_result"
        }
      ],
      "source": [
        "housing_cat_1hot.toarray()[0]"
      ]
    },
    {
      "cell_type": "code",
      "execution_count": 102,
      "metadata": {
        "colab": {
          "base_uri": "https://localhost:8080/"
        },
        "id": "2yUSfJ5llwLY",
        "outputId": "5c498a72-cf37-444f-a6dc-ef338f5b9911"
      },
      "outputs": [
        {
          "data": {
            "text/plain": [
              "(39107, 8)"
            ]
          },
          "execution_count": 102,
          "metadata": {},
          "output_type": "execute_result"
        }
      ],
      "source": [
        "housing_cat_1hot.toarray().shape"
      ]
    },
    {
      "cell_type": "code",
      "execution_count": 103,
      "metadata": {
        "colab": {
          "base_uri": "https://localhost:8080/"
        },
        "id": "YPK4xg9tmfKp",
        "outputId": "7f138da7-f2a3-4c30-8d4c-f0b2e2dc1247"
      },
      "outputs": [
        {
          "data": {
            "text/plain": [
              "[array(['Bronx', 'Brooklyn', 'Manhattan', 'Queens', 'Staten Island'],\n",
              "       dtype=object),\n",
              " array(['Entire home/apt', 'Private room', 'Shared room'], dtype=object)]"
            ]
          },
          "execution_count": 103,
          "metadata": {},
          "output_type": "execute_result"
        }
      ],
      "source": [
        "cat_encoder.categories_"
      ]
    },
    {
      "cell_type": "markdown",
      "metadata": {
        "id": "EpByJK0HkpyF"
      },
      "source": [
        "###Pipleline.\n",
        "Now we prepare a pipeline that includes two steps: (i) imputing and (ii) scaling."
      ]
    },
    {
      "cell_type": "code",
      "execution_count": 104,
      "metadata": {
        "id": "YyP9kbzFcOUN"
      },
      "outputs": [],
      "source": [
        "from sklearn.pipeline import Pipeline\n",
        "from sklearn.preprocessing import StandardScaler"
      ]
    },
    {
      "cell_type": "markdown",
      "metadata": {
        "id": "Tr3rMWNwdTcj"
      },
      "source": [
        "Fill in your code below"
      ]
    },
    {
      "cell_type": "code",
      "execution_count": 105,
      "metadata": {
        "id": "IpXclITccOUe"
      },
      "outputs": [],
      "source": [
        "from sklearn.pipeline import Pipeline\n",
        "from sklearn.preprocessing import StandardScaler\n",
        "\n",
        "num_pipeline = Pipeline([\n",
        "        ('imputer', SimpleImputer(strategy=\"median\")),\n",
        "        ('std_scaler', StandardScaler()),\n",
        "    ])\n",
        "\n",
        "housing_num_tr = num_pipeline.fit_transform(housing_num)"
      ]
    },
    {
      "cell_type": "code",
      "execution_count": 106,
      "metadata": {
        "colab": {
          "base_uri": "https://localhost:8080/"
        },
        "id": "X-BiHL5KcOUi",
        "outputId": "ddd2e658-912b-48e3-ae24-ce2894a766ab"
      },
      "outputs": [
        {
          "data": {
            "text/plain": [
              "array([[-0.71611725,  4.43117559, -0.24860434, ..., -0.14930885,\n",
              "        -0.1286295 , -0.21032303],\n",
              "       [ 0.60245943,  2.84469698, -0.29799331, ...,  2.45264051,\n",
              "        -0.03915981,  1.91660067],\n",
              "       [-0.31601513, -0.0977016 ,  0.3934523 , ..., -0.3694738 ,\n",
              "        -0.18827595,  0.45813871],\n",
              "       ...,\n",
              "       [ 0.28615505, -0.49045683,  1.13428688, ..., -0.7497587 ,\n",
              "         1.33270867,  1.50640824],\n",
              "       [-0.92111916,  0.7653149 , -0.29799331, ...,  5.74844302,\n",
              "        -0.15845272,  0.93669654],\n",
              "       [-0.52578453,  0.51516204, -0.24860434, ...,  0.51118599,\n",
              "        -0.18827595, -0.43820771]])"
            ]
          },
          "execution_count": 106,
          "metadata": {},
          "output_type": "execute_result"
        }
      ],
      "source": [
        "housing_num_tr"
      ]
    },
    {
      "cell_type": "markdown",
      "metadata": {
        "id": "z0gkOsO7m8-8"
      },
      "source": [
        "###Use one hot encoding for categorical data and get the full pipeline\n",
        "Finally, the prepared data is stored in housing_prepared.\n",
        "\n",
        "Fill in your code below"
      ]
    },
    {
      "cell_type": "code",
      "execution_count": 107,
      "metadata": {
        "colab": {
          "base_uri": "https://localhost:8080/"
        },
        "id": "xx2UfvdPcOU6",
        "outputId": "0e3ca35e-8f51-409d-e4ee-6efc1dfe0be9"
      },
      "outputs": [],
      "source": [
        "from sklearn.compose import ColumnTransformer\n",
        "\n",
        "num_attribs = ['latitude', 'longitude', 'minimum_nights', 'number_of_reviews', 'reviews_per_month', 'calculated_host_listings_count', 'availability_365']\n",
        "cat_attribs = ['neighbourhood_group', 'room_type']\n",
        "\n",
        "full_pipeline = ColumnTransformer([\n",
        "        (\"num\", num_pipeline, num_attribs),\n",
        "        (\"cat\", OneHotEncoder(), cat_attribs),\n",
        "    ])\n",
        "\n",
        "housing_prepared = full_pipeline.fit_transform(housing)"
      ]
    },
    {
      "cell_type": "code",
      "execution_count": 108,
      "metadata": {
        "colab": {
          "base_uri": "https://localhost:8080/"
        },
        "id": "ywU-VSvPcOU-",
        "outputId": "ecd57b47-e11b-4d23-d868-698f40dddaa4"
      },
      "outputs": [
        {
          "data": {
            "text/plain": [
              "array([[-0.71611725,  4.43117559, -0.24860434, ...,  0.        ,\n",
              "         1.        ,  0.        ],\n",
              "       [ 0.60245943,  2.84469698, -0.29799331, ...,  0.        ,\n",
              "         1.        ,  0.        ],\n",
              "       [-0.31601513, -0.0977016 ,  0.3934523 , ...,  1.        ,\n",
              "         0.        ,  0.        ],\n",
              "       ...,\n",
              "       [ 0.28615505, -0.49045683,  1.13428688, ...,  1.        ,\n",
              "         0.        ,  0.        ],\n",
              "       [-0.92111916,  0.7653149 , -0.29799331, ...,  0.        ,\n",
              "         1.        ,  0.        ],\n",
              "       [-0.52578453,  0.51516204, -0.24860434, ...,  0.        ,\n",
              "         1.        ,  0.        ]])"
            ]
          },
          "execution_count": 108,
          "metadata": {},
          "output_type": "execute_result"
        }
      ],
      "source": [
        "housing_prepared"
      ]
    },
    {
      "cell_type": "markdown",
      "metadata": {
        "id": "6FwN40Ebn5s4"
      },
      "source": [
        "##Training models (10 points)\n",
        "We will try two basic models: linear and decision tree first."
      ]
    },
    {
      "cell_type": "markdown",
      "metadata": {
        "id": "QAevkZqyobiR"
      },
      "source": [
        "###Linear model.\n",
        "\n",
        "Fill in your code below."
      ]
    },
    {
      "cell_type": "code",
      "execution_count": 109,
      "metadata": {
        "colab": {
          "base_uri": "https://localhost:8080/",
          "height": 75
        },
        "id": "6WdJl6oPcOVC",
        "outputId": "da5fdf65-e80f-413b-b35a-1ebce7ab63ae"
      },
      "outputs": [
        {
          "data": {
            "text/html": [
              "<style>#sk-container-id-6 {color: black;background-color: white;}#sk-container-id-6 pre{padding: 0;}#sk-container-id-6 div.sk-toggleable {background-color: white;}#sk-container-id-6 label.sk-toggleable__label {cursor: pointer;display: block;width: 100%;margin-bottom: 0;padding: 0.3em;box-sizing: border-box;text-align: center;}#sk-container-id-6 label.sk-toggleable__label-arrow:before {content: \"▸\";float: left;margin-right: 0.25em;color: #696969;}#sk-container-id-6 label.sk-toggleable__label-arrow:hover:before {color: black;}#sk-container-id-6 div.sk-estimator:hover label.sk-toggleable__label-arrow:before {color: black;}#sk-container-id-6 div.sk-toggleable__content {max-height: 0;max-width: 0;overflow: hidden;text-align: left;background-color: #f0f8ff;}#sk-container-id-6 div.sk-toggleable__content pre {margin: 0.2em;color: black;border-radius: 0.25em;background-color: #f0f8ff;}#sk-container-id-6 input.sk-toggleable__control:checked~div.sk-toggleable__content {max-height: 200px;max-width: 100%;overflow: auto;}#sk-container-id-6 input.sk-toggleable__control:checked~label.sk-toggleable__label-arrow:before {content: \"▾\";}#sk-container-id-6 div.sk-estimator input.sk-toggleable__control:checked~label.sk-toggleable__label {background-color: #d4ebff;}#sk-container-id-6 div.sk-label input.sk-toggleable__control:checked~label.sk-toggleable__label {background-color: #d4ebff;}#sk-container-id-6 input.sk-hidden--visually {border: 0;clip: rect(1px 1px 1px 1px);clip: rect(1px, 1px, 1px, 1px);height: 1px;margin: -1px;overflow: hidden;padding: 0;position: absolute;width: 1px;}#sk-container-id-6 div.sk-estimator {font-family: monospace;background-color: #f0f8ff;border: 1px dotted black;border-radius: 0.25em;box-sizing: border-box;margin-bottom: 0.5em;}#sk-container-id-6 div.sk-estimator:hover {background-color: #d4ebff;}#sk-container-id-6 div.sk-parallel-item::after {content: \"\";width: 100%;border-bottom: 1px solid gray;flex-grow: 1;}#sk-container-id-6 div.sk-label:hover label.sk-toggleable__label {background-color: #d4ebff;}#sk-container-id-6 div.sk-serial::before {content: \"\";position: absolute;border-left: 1px solid gray;box-sizing: border-box;top: 0;bottom: 0;left: 50%;z-index: 0;}#sk-container-id-6 div.sk-serial {display: flex;flex-direction: column;align-items: center;background-color: white;padding-right: 0.2em;padding-left: 0.2em;position: relative;}#sk-container-id-6 div.sk-item {position: relative;z-index: 1;}#sk-container-id-6 div.sk-parallel {display: flex;align-items: stretch;justify-content: center;background-color: white;position: relative;}#sk-container-id-6 div.sk-item::before, #sk-container-id-6 div.sk-parallel-item::before {content: \"\";position: absolute;border-left: 1px solid gray;box-sizing: border-box;top: 0;bottom: 0;left: 50%;z-index: -1;}#sk-container-id-6 div.sk-parallel-item {display: flex;flex-direction: column;z-index: 1;position: relative;background-color: white;}#sk-container-id-6 div.sk-parallel-item:first-child::after {align-self: flex-end;width: 50%;}#sk-container-id-6 div.sk-parallel-item:last-child::after {align-self: flex-start;width: 50%;}#sk-container-id-6 div.sk-parallel-item:only-child::after {width: 0;}#sk-container-id-6 div.sk-dashed-wrapped {border: 1px dashed gray;margin: 0 0.4em 0.5em 0.4em;box-sizing: border-box;padding-bottom: 0.4em;background-color: white;}#sk-container-id-6 div.sk-label label {font-family: monospace;font-weight: bold;display: inline-block;line-height: 1.2em;}#sk-container-id-6 div.sk-label-container {text-align: center;}#sk-container-id-6 div.sk-container {/* jupyter's `normalize.less` sets `[hidden] { display: none; }` but bootstrap.min.css set `[hidden] { display: none !important; }` so we also need the `!important` here to be able to override the default hidden behavior on the sphinx rendered scikit-learn.org. See: https://github.com/scikit-learn/scikit-learn/issues/21755 */display: inline-block !important;position: relative;}#sk-container-id-6 div.sk-text-repr-fallback {display: none;}</style><div id=\"sk-container-id-6\" class=\"sk-top-container\"><div class=\"sk-text-repr-fallback\"><pre>LinearRegression()</pre><b>In a Jupyter environment, please rerun this cell to show the HTML representation or trust the notebook. <br />On GitHub, the HTML representation is unable to render, please try loading this page with nbviewer.org.</b></div><div class=\"sk-container\" hidden><div class=\"sk-item\"><div class=\"sk-estimator sk-toggleable\"><input class=\"sk-toggleable__control sk-hidden--visually\" id=\"sk-estimator-id-6\" type=\"checkbox\" checked><label for=\"sk-estimator-id-6\" class=\"sk-toggleable__label sk-toggleable__label-arrow\">LinearRegression</label><div class=\"sk-toggleable__content\"><pre>LinearRegression()</pre></div></div></div></div></div>"
            ],
            "text/plain": [
              "LinearRegression()"
            ]
          },
          "execution_count": 109,
          "metadata": {},
          "output_type": "execute_result"
        }
      ],
      "source": [
        "from sklearn.linear_model import LinearRegression\n",
        "\n",
        "lin_reg = LinearRegression()\n",
        "lin_reg.fit(housing_prepared, housing_labels)"
      ]
    },
    {
      "cell_type": "code",
      "execution_count": 110,
      "metadata": {
        "colab": {
          "base_uri": "https://localhost:8080/"
        },
        "id": "8_0yU71WcOVE",
        "outputId": "4544475d-281e-4842-85ff-28e054d26211"
      },
      "outputs": [
        {
          "name": "stdout",
          "output_type": "stream",
          "text": [
            "Predictions: [  3.5     78.375  188.6875  10.375  130.875 ]\n"
          ]
        }
      ],
      "source": [
        "# let's try the full preprocessing pipeline on a few training instances\n",
        "some_data = housing.iloc[:5]\n",
        "some_labels = housing_labels.iloc[:5]\n",
        "some_data_prepared = full_pipeline.transform(some_data)\n",
        "#print(some_data_prepared)\n",
        "\n",
        "print(\"Predictions:\", lin_reg.predict(some_data_prepared))"
      ]
    },
    {
      "cell_type": "code",
      "execution_count": 111,
      "metadata": {
        "colab": {
          "base_uri": "https://localhost:8080/"
        },
        "id": "ry5kNWOvcOVG",
        "outputId": "98f974f4-33de-489b-a836-06c6465503a8"
      },
      "outputs": [
        {
          "name": "stdout",
          "output_type": "stream",
          "text": [
            "Labels: [147, 69, 90, 63, 160]\n"
          ]
        }
      ],
      "source": [
        "print(\"Labels:\", list(some_labels))"
      ]
    },
    {
      "cell_type": "code",
      "execution_count": 112,
      "metadata": {
        "colab": {
          "base_uri": "https://localhost:8080/"
        },
        "id": "CT8TyEpXcOVK",
        "outputId": "dd194226-17a9-4dfd-abc2-53d5ef5096c1"
      },
      "outputs": [
        {
          "data": {
            "text/plain": [
              "231.59817961465177"
            ]
          },
          "execution_count": 112,
          "metadata": {},
          "output_type": "execute_result"
        }
      ],
      "source": [
        "from sklearn.metrics import mean_squared_error\n",
        "\n",
        "housing_predictions = lin_reg.predict(housing_prepared)\n",
        "lin_mse = mean_squared_error(housing_labels, housing_predictions)\n",
        "lin_rmse = np.sqrt(lin_mse)\n",
        "lin_rmse"
      ]
    },
    {
      "cell_type": "code",
      "execution_count": 113,
      "metadata": {
        "colab": {
          "base_uri": "https://localhost:8080/"
        },
        "id": "Lq1lPRP8cOVM",
        "outputId": "6d95a517-210d-4cb2-81cf-a88f5b6aa14d"
      },
      "outputs": [
        {
          "data": {
            "text/plain": [
              "73.41225995346102"
            ]
          },
          "execution_count": 113,
          "metadata": {},
          "output_type": "execute_result"
        }
      ],
      "source": [
        "from sklearn.metrics import mean_absolute_error\n",
        "\n",
        "lin_mae = mean_absolute_error(housing_labels, housing_predictions)\n",
        "lin_mae"
      ]
    },
    {
      "cell_type": "markdown",
      "metadata": {
        "id": "Kxupb46u63PC"
      },
      "source": [
        "RMSE is more sensitive to outliers.\n",
        "RMSE penalises large errors more than MAE due to the fact that errors are squared initially.\n",
        "MAE returns values that are more interpretable as it is simply the average of absolute error.\n",
        "\n",
        "We deiced to use MAE for our problem."
      ]
    },
    {
      "cell_type": "markdown",
      "metadata": {
        "id": "xb1Q74OJogA8"
      },
      "source": [
        "###Decision tree\n",
        "\n",
        "Fill in your code below."
      ]
    },
    {
      "cell_type": "code",
      "execution_count": 114,
      "metadata": {
        "colab": {
          "base_uri": "https://localhost:8080/",
          "height": 75
        },
        "id": "KvLCShGTcOVO",
        "outputId": "446cd233-1092-4903-903b-4b9c02d74879"
      },
      "outputs": [
        {
          "data": {
            "text/html": [
              "<style>#sk-container-id-7 {color: black;background-color: white;}#sk-container-id-7 pre{padding: 0;}#sk-container-id-7 div.sk-toggleable {background-color: white;}#sk-container-id-7 label.sk-toggleable__label {cursor: pointer;display: block;width: 100%;margin-bottom: 0;padding: 0.3em;box-sizing: border-box;text-align: center;}#sk-container-id-7 label.sk-toggleable__label-arrow:before {content: \"▸\";float: left;margin-right: 0.25em;color: #696969;}#sk-container-id-7 label.sk-toggleable__label-arrow:hover:before {color: black;}#sk-container-id-7 div.sk-estimator:hover label.sk-toggleable__label-arrow:before {color: black;}#sk-container-id-7 div.sk-toggleable__content {max-height: 0;max-width: 0;overflow: hidden;text-align: left;background-color: #f0f8ff;}#sk-container-id-7 div.sk-toggleable__content pre {margin: 0.2em;color: black;border-radius: 0.25em;background-color: #f0f8ff;}#sk-container-id-7 input.sk-toggleable__control:checked~div.sk-toggleable__content {max-height: 200px;max-width: 100%;overflow: auto;}#sk-container-id-7 input.sk-toggleable__control:checked~label.sk-toggleable__label-arrow:before {content: \"▾\";}#sk-container-id-7 div.sk-estimator input.sk-toggleable__control:checked~label.sk-toggleable__label {background-color: #d4ebff;}#sk-container-id-7 div.sk-label input.sk-toggleable__control:checked~label.sk-toggleable__label {background-color: #d4ebff;}#sk-container-id-7 input.sk-hidden--visually {border: 0;clip: rect(1px 1px 1px 1px);clip: rect(1px, 1px, 1px, 1px);height: 1px;margin: -1px;overflow: hidden;padding: 0;position: absolute;width: 1px;}#sk-container-id-7 div.sk-estimator {font-family: monospace;background-color: #f0f8ff;border: 1px dotted black;border-radius: 0.25em;box-sizing: border-box;margin-bottom: 0.5em;}#sk-container-id-7 div.sk-estimator:hover {background-color: #d4ebff;}#sk-container-id-7 div.sk-parallel-item::after {content: \"\";width: 100%;border-bottom: 1px solid gray;flex-grow: 1;}#sk-container-id-7 div.sk-label:hover label.sk-toggleable__label {background-color: #d4ebff;}#sk-container-id-7 div.sk-serial::before {content: \"\";position: absolute;border-left: 1px solid gray;box-sizing: border-box;top: 0;bottom: 0;left: 50%;z-index: 0;}#sk-container-id-7 div.sk-serial {display: flex;flex-direction: column;align-items: center;background-color: white;padding-right: 0.2em;padding-left: 0.2em;position: relative;}#sk-container-id-7 div.sk-item {position: relative;z-index: 1;}#sk-container-id-7 div.sk-parallel {display: flex;align-items: stretch;justify-content: center;background-color: white;position: relative;}#sk-container-id-7 div.sk-item::before, #sk-container-id-7 div.sk-parallel-item::before {content: \"\";position: absolute;border-left: 1px solid gray;box-sizing: border-box;top: 0;bottom: 0;left: 50%;z-index: -1;}#sk-container-id-7 div.sk-parallel-item {display: flex;flex-direction: column;z-index: 1;position: relative;background-color: white;}#sk-container-id-7 div.sk-parallel-item:first-child::after {align-self: flex-end;width: 50%;}#sk-container-id-7 div.sk-parallel-item:last-child::after {align-self: flex-start;width: 50%;}#sk-container-id-7 div.sk-parallel-item:only-child::after {width: 0;}#sk-container-id-7 div.sk-dashed-wrapped {border: 1px dashed gray;margin: 0 0.4em 0.5em 0.4em;box-sizing: border-box;padding-bottom: 0.4em;background-color: white;}#sk-container-id-7 div.sk-label label {font-family: monospace;font-weight: bold;display: inline-block;line-height: 1.2em;}#sk-container-id-7 div.sk-label-container {text-align: center;}#sk-container-id-7 div.sk-container {/* jupyter's `normalize.less` sets `[hidden] { display: none; }` but bootstrap.min.css set `[hidden] { display: none !important; }` so we also need the `!important` here to be able to override the default hidden behavior on the sphinx rendered scikit-learn.org. See: https://github.com/scikit-learn/scikit-learn/issues/21755 */display: inline-block !important;position: relative;}#sk-container-id-7 div.sk-text-repr-fallback {display: none;}</style><div id=\"sk-container-id-7\" class=\"sk-top-container\"><div class=\"sk-text-repr-fallback\"><pre>DecisionTreeRegressor(random_state=42)</pre><b>In a Jupyter environment, please rerun this cell to show the HTML representation or trust the notebook. <br />On GitHub, the HTML representation is unable to render, please try loading this page with nbviewer.org.</b></div><div class=\"sk-container\" hidden><div class=\"sk-item\"><div class=\"sk-estimator sk-toggleable\"><input class=\"sk-toggleable__control sk-hidden--visually\" id=\"sk-estimator-id-7\" type=\"checkbox\" checked><label for=\"sk-estimator-id-7\" class=\"sk-toggleable__label sk-toggleable__label-arrow\">DecisionTreeRegressor</label><div class=\"sk-toggleable__content\"><pre>DecisionTreeRegressor(random_state=42)</pre></div></div></div></div></div>"
            ],
            "text/plain": [
              "DecisionTreeRegressor(random_state=42)"
            ]
          },
          "execution_count": 114,
          "metadata": {},
          "output_type": "execute_result"
        }
      ],
      "source": [
        "from sklearn.tree import DecisionTreeRegressor\n",
        "\n",
        "tree_reg = DecisionTreeRegressor(random_state=42)\n",
        "tree_reg.fit(housing_prepared, housing_labels)"
      ]
    },
    {
      "cell_type": "code",
      "execution_count": 115,
      "metadata": {
        "colab": {
          "base_uri": "https://localhost:8080/"
        },
        "id": "SJhXPXN9cOVQ",
        "outputId": "909a9fa4-ea28-46f9-b024-83b41a619565"
      },
      "outputs": [
        {
          "data": {
            "text/plain": [
              "0.0"
            ]
          },
          "execution_count": 115,
          "metadata": {},
          "output_type": "execute_result"
        }
      ],
      "source": [
        "housing_predictions = tree_reg.predict(housing_prepared)\n",
        "tree_mse = mean_absolute_error(housing_labels, housing_predictions)\n",
        "tree_rmse = np.sqrt(tree_mse)\n",
        "tree_rmse"
      ]
    },
    {
      "cell_type": "markdown",
      "metadata": {
        "id": "1LZKK80ZcOVS"
      },
      "source": [
        "## Model fine-tuning (20 points)"
      ]
    },
    {
      "cell_type": "markdown",
      "metadata": {
        "id": "sf-aqoZfoyob"
      },
      "source": [
        "###Cross validation (CV).\n",
        "Use 10-fold CV on the linear model to obtain mae for each fold and the mean mae.\n",
        "\n",
        "Fill in your code below.\n",
        "\n",
        "Note your can use\n",
        "\n",
        "scoring=\"neg_mean_absolute_error\""
      ]
    },
    {
      "cell_type": "code",
      "execution_count": 116,
      "metadata": {
        "colab": {
          "base_uri": "https://localhost:8080/"
        },
        "id": "5BeUljeCcOVS",
        "outputId": "dfcd3eb5-37f1-4748-85ca-1d4ac4cdd609"
      },
      "outputs": [
        {
          "data": {
            "text/plain": [
              "array([-101.83917157,  -89.52288417,  -88.21759141,  -80.646382  ,\n",
              "        -83.19151112,  -84.62618256,  -86.36972641,  -88.87237852,\n",
              "        -92.97953964,  -86.27928389])"
            ]
          },
          "execution_count": 116,
          "metadata": {},
          "output_type": "execute_result"
        }
      ],
      "source": [
        "from sklearn.model_selection import cross_val_score\n",
        "\n",
        "scores = cross_val_score(tree_reg, housing_prepared, housing_labels,\n",
        "                         scoring=\"neg_mean_absolute_error\", cv=10)\n",
        "tree_mae_scores = scores #np.sqrt(-scores)\n",
        "tree_mae_scores"
      ]
    },
    {
      "cell_type": "code",
      "execution_count": 117,
      "metadata": {
        "colab": {
          "base_uri": "https://localhost:8080/"
        },
        "id": "xd2quXEIcOVU",
        "outputId": "b2ce5ca4-cf8d-41ee-a7b3-3b0fce9bbca6"
      },
      "outputs": [
        {
          "name": "stdout",
          "output_type": "stream",
          "text": [
            "Scores: [-101.83917157  -89.52288417  -88.21759141  -80.646382    -83.19151112\n",
            "  -84.62618256  -86.36972641  -88.87237852  -92.97953964  -86.27928389]\n",
            "Mean: -88.25446512917532\n",
            "Standard deviation: 5.594614277997171\n"
          ]
        }
      ],
      "source": [
        "def display_scores(scores):\n",
        "    print(\"Scores:\", scores)\n",
        "    print(\"Mean:\", scores.mean())\n",
        "    print(\"Standard deviation:\", scores.std())\n",
        "\n",
        "display_scores(tree_mae_scores)"
      ]
    },
    {
      "cell_type": "code",
      "execution_count": 118,
      "metadata": {
        "colab": {
          "base_uri": "https://localhost:8080/"
        },
        "id": "GsDnqyeocOVW",
        "outputId": "04b26a3f-86ac-4ebc-efcc-ca35a9858d34"
      },
      "outputs": [
        {
          "name": "stdout",
          "output_type": "stream",
          "text": [
            "Scores: [73.42572232 77.25225326 75.89014958 69.93489517 73.03970372 72.87110074\n",
            " 71.0940583  73.54146167 74.76586899 72.63755794]\n",
            "Mean: 73.44527716937435\n",
            "Standard deviation: 2.0303116842435545\n"
          ]
        }
      ],
      "source": [
        "lin_scores = cross_val_score(lin_reg, housing_prepared, housing_labels,\n",
        "                             scoring=\"neg_mean_absolute_error\", cv=10)\n",
        "lin_mae_scores = -lin_scores\n",
        "display_scores(lin_mae_scores)"
      ]
    },
    {
      "cell_type": "markdown",
      "metadata": {
        "id": "iXM05jHGpd80"
      },
      "source": [
        "### Random forest.\n",
        "We see from above that the prediction from the linear model is not very good, while the decision tree that we used earlier on leads to overfitting. Now we are going to try an ensemble approach, random forest based regressor.\n",
        "\n",
        "Fill in your code below."
      ]
    },
    {
      "cell_type": "code",
      "execution_count": 119,
      "metadata": {
        "colab": {
          "base_uri": "https://localhost:8080/",
          "height": 75
        },
        "id": "RF_nOS58cOVY",
        "outputId": "6b517894-673a-43ba-b23b-0ed9f0592c5e"
      },
      "outputs": [
        {
          "data": {
            "text/html": [
              "<style>#sk-container-id-8 {color: black;background-color: white;}#sk-container-id-8 pre{padding: 0;}#sk-container-id-8 div.sk-toggleable {background-color: white;}#sk-container-id-8 label.sk-toggleable__label {cursor: pointer;display: block;width: 100%;margin-bottom: 0;padding: 0.3em;box-sizing: border-box;text-align: center;}#sk-container-id-8 label.sk-toggleable__label-arrow:before {content: \"▸\";float: left;margin-right: 0.25em;color: #696969;}#sk-container-id-8 label.sk-toggleable__label-arrow:hover:before {color: black;}#sk-container-id-8 div.sk-estimator:hover label.sk-toggleable__label-arrow:before {color: black;}#sk-container-id-8 div.sk-toggleable__content {max-height: 0;max-width: 0;overflow: hidden;text-align: left;background-color: #f0f8ff;}#sk-container-id-8 div.sk-toggleable__content pre {margin: 0.2em;color: black;border-radius: 0.25em;background-color: #f0f8ff;}#sk-container-id-8 input.sk-toggleable__control:checked~div.sk-toggleable__content {max-height: 200px;max-width: 100%;overflow: auto;}#sk-container-id-8 input.sk-toggleable__control:checked~label.sk-toggleable__label-arrow:before {content: \"▾\";}#sk-container-id-8 div.sk-estimator input.sk-toggleable__control:checked~label.sk-toggleable__label {background-color: #d4ebff;}#sk-container-id-8 div.sk-label input.sk-toggleable__control:checked~label.sk-toggleable__label {background-color: #d4ebff;}#sk-container-id-8 input.sk-hidden--visually {border: 0;clip: rect(1px 1px 1px 1px);clip: rect(1px, 1px, 1px, 1px);height: 1px;margin: -1px;overflow: hidden;padding: 0;position: absolute;width: 1px;}#sk-container-id-8 div.sk-estimator {font-family: monospace;background-color: #f0f8ff;border: 1px dotted black;border-radius: 0.25em;box-sizing: border-box;margin-bottom: 0.5em;}#sk-container-id-8 div.sk-estimator:hover {background-color: #d4ebff;}#sk-container-id-8 div.sk-parallel-item::after {content: \"\";width: 100%;border-bottom: 1px solid gray;flex-grow: 1;}#sk-container-id-8 div.sk-label:hover label.sk-toggleable__label {background-color: #d4ebff;}#sk-container-id-8 div.sk-serial::before {content: \"\";position: absolute;border-left: 1px solid gray;box-sizing: border-box;top: 0;bottom: 0;left: 50%;z-index: 0;}#sk-container-id-8 div.sk-serial {display: flex;flex-direction: column;align-items: center;background-color: white;padding-right: 0.2em;padding-left: 0.2em;position: relative;}#sk-container-id-8 div.sk-item {position: relative;z-index: 1;}#sk-container-id-8 div.sk-parallel {display: flex;align-items: stretch;justify-content: center;background-color: white;position: relative;}#sk-container-id-8 div.sk-item::before, #sk-container-id-8 div.sk-parallel-item::before {content: \"\";position: absolute;border-left: 1px solid gray;box-sizing: border-box;top: 0;bottom: 0;left: 50%;z-index: -1;}#sk-container-id-8 div.sk-parallel-item {display: flex;flex-direction: column;z-index: 1;position: relative;background-color: white;}#sk-container-id-8 div.sk-parallel-item:first-child::after {align-self: flex-end;width: 50%;}#sk-container-id-8 div.sk-parallel-item:last-child::after {align-self: flex-start;width: 50%;}#sk-container-id-8 div.sk-parallel-item:only-child::after {width: 0;}#sk-container-id-8 div.sk-dashed-wrapped {border: 1px dashed gray;margin: 0 0.4em 0.5em 0.4em;box-sizing: border-box;padding-bottom: 0.4em;background-color: white;}#sk-container-id-8 div.sk-label label {font-family: monospace;font-weight: bold;display: inline-block;line-height: 1.2em;}#sk-container-id-8 div.sk-label-container {text-align: center;}#sk-container-id-8 div.sk-container {/* jupyter's `normalize.less` sets `[hidden] { display: none; }` but bootstrap.min.css set `[hidden] { display: none !important; }` so we also need the `!important` here to be able to override the default hidden behavior on the sphinx rendered scikit-learn.org. See: https://github.com/scikit-learn/scikit-learn/issues/21755 */display: inline-block !important;position: relative;}#sk-container-id-8 div.sk-text-repr-fallback {display: none;}</style><div id=\"sk-container-id-8\" class=\"sk-top-container\"><div class=\"sk-text-repr-fallback\"><pre>RandomForestRegressor(random_state=42)</pre><b>In a Jupyter environment, please rerun this cell to show the HTML representation or trust the notebook. <br />On GitHub, the HTML representation is unable to render, please try loading this page with nbviewer.org.</b></div><div class=\"sk-container\" hidden><div class=\"sk-item\"><div class=\"sk-estimator sk-toggleable\"><input class=\"sk-toggleable__control sk-hidden--visually\" id=\"sk-estimator-id-8\" type=\"checkbox\" checked><label for=\"sk-estimator-id-8\" class=\"sk-toggleable__label sk-toggleable__label-arrow\">RandomForestRegressor</label><div class=\"sk-toggleable__content\"><pre>RandomForestRegressor(random_state=42)</pre></div></div></div></div></div>"
            ],
            "text/plain": [
              "RandomForestRegressor(random_state=42)"
            ]
          },
          "execution_count": 119,
          "metadata": {},
          "output_type": "execute_result"
        }
      ],
      "source": [
        "from sklearn.ensemble import RandomForestRegressor\n",
        "\n",
        "forest_reg = RandomForestRegressor(n_estimators=100, random_state=42)\n",
        "forest_reg.fit(housing_prepared, housing_labels)"
      ]
    },
    {
      "cell_type": "code",
      "execution_count": 120,
      "metadata": {
        "colab": {
          "base_uri": "https://localhost:8080/"
        },
        "id": "ZAzuhKTacOVa",
        "outputId": "018bfb42-bb37-4caf-a69f-a1bf4c18fa67"
      },
      "outputs": [
        {
          "data": {
            "text/plain": [
              "24.948758534277754"
            ]
          },
          "execution_count": 120,
          "metadata": {},
          "output_type": "execute_result"
        }
      ],
      "source": [
        "housing_predictions = forest_reg.predict(housing_prepared)\n",
        "forest_mae = mean_absolute_error(housing_labels, housing_predictions)\n",
        "forest_mae"
      ]
    },
    {
      "cell_type": "code",
      "execution_count": 121,
      "metadata": {
        "colab": {
          "base_uri": "https://localhost:8080/"
        },
        "id": "-Q4NuXoDcOVc",
        "outputId": "877e2a33-b607-44ab-9602-e2a0cf1354fe"
      },
      "outputs": [
        {
          "name": "stdout",
          "output_type": "stream",
          "text": [
            "Scores: [71.16941192 71.3156584  70.05915367 63.52376374 66.89231143 63.99781386\n",
            " 65.42948862 67.29745013 67.22200256 67.10176982]\n",
            "Mean: 67.4008824142804\n",
            "Standard deviation: 2.5977647887765376\n"
          ]
        }
      ],
      "source": [
        "from sklearn.model_selection import cross_val_score\n",
        "\n",
        "forest_scores = cross_val_score(forest_reg, housing_prepared, housing_labels,\n",
        "                                scoring=\"neg_mean_absolute_error\", cv=10)\n",
        "forest_mae_scores = -forest_scores\n",
        "display_scores(forest_mae_scores)"
      ]
    },
    {
      "cell_type": "markdown",
      "metadata": {
        "id": "uNRHsu0Kp7X4"
      },
      "source": [
        "###We see that random forest indeed leads to lower mae than linear model."
      ]
    },
    {
      "cell_type": "code",
      "execution_count": 127,
      "metadata": {
        "colab": {
          "base_uri": "https://localhost:8080/"
        },
        "id": "7dbiKA9PcOVe",
        "outputId": "96af5cf8-de7c-4b3b-f652-1cbf61616cd1"
      },
      "outputs": [
        {
          "data": {
            "text/plain": [
              "count    10.000000\n",
              "mean     73.445277\n",
              "std       2.140136\n",
              "min      69.934895\n",
              "25%      72.695944\n",
              "50%      73.232713\n",
              "75%      74.459767\n",
              "max      77.252253\n",
              "dtype: float64"
            ]
          },
          "execution_count": 127,
          "metadata": {},
          "output_type": "execute_result"
        }
      ],
      "source": [
        "scores = cross_val_score(lin_reg, housing_prepared, housing_labels, scoring=\"neg_mean_absolute_error\", cv=10)\n",
        "pd.Series(-scores).describe()"
      ]
    },
    {
      "cell_type": "code",
      "execution_count": 128,
      "metadata": {
        "colab": {
          "base_uri": "https://localhost:8080/"
        },
        "id": "wtWfyAtlcOVi",
        "outputId": "aa875ee6-2ee7-4e80-be94-9d561f58d3e1"
      },
      "outputs": [
        {
          "data": {
            "text/plain": [
              "count    10.000000\n",
              "mean     67.400882\n",
              "std       2.738285\n",
              "min      63.523764\n",
              "25%      65.795194\n",
              "50%      67.161886\n",
              "75%      69.368728\n",
              "max      71.315658\n",
              "dtype: float64"
            ]
          },
          "execution_count": 128,
          "metadata": {},
          "output_type": "execute_result"
        }
      ],
      "source": [
        "pd.Series(forest_mae_scores).describe()"
      ]
    },
    {
      "cell_type": "code",
      "execution_count": 129,
      "metadata": {
        "colab": {
          "base_uri": "https://localhost:8080/"
        },
        "id": "n5g2Q36EcOVk",
        "outputId": "b90dd924-7875-4bb1-a926-53b2c0b17748"
      },
      "outputs": [
        {
          "data": {
            "text/plain": [
              "count     10.000000\n",
              "mean     -88.254465\n",
              "std        5.897241\n",
              "min     -101.839172\n",
              "25%      -89.360258\n",
              "50%      -87.293659\n",
              "75%      -85.039458\n",
              "max      -80.646382\n",
              "dtype: float64"
            ]
          },
          "execution_count": 129,
          "metadata": {},
          "output_type": "execute_result"
        }
      ],
      "source": [
        "pd.Series(tree_mae_scores).describe()"
      ]
    },
    {
      "cell_type": "code",
      "execution_count": 130,
      "metadata": {
        "colab": {
          "base_uri": "https://localhost:8080/"
        },
        "id": "Y5azCqtkcOVn",
        "outputId": "98b56d02-d463-4256-ae9b-43217752fde4"
      },
      "outputs": [
        {
          "data": {
            "text/plain": [
              "count    10.000000\n",
              "mean     73.445277\n",
              "std       2.140136\n",
              "min      69.934895\n",
              "25%      72.695944\n",
              "50%      73.232713\n",
              "75%      74.459767\n",
              "max      77.252253\n",
              "dtype: float64"
            ]
          },
          "execution_count": 130,
          "metadata": {},
          "output_type": "execute_result"
        }
      ],
      "source": [
        "pd.Series(lin_mae_scores).describe()"
      ]
    },
    {
      "cell_type": "markdown",
      "metadata": {
        "id": "LHleoq3KqT22"
      },
      "source": [
        "###Grid search: tuning hyperparameters.\n",
        "Now we will use grid search to find better parameters.\n",
        "\n",
        "Fill in your code below."
      ]
    },
    {
      "cell_type": "code",
      "execution_count": 131,
      "metadata": {
        "colab": {
          "base_uri": "https://localhost:8080/",
          "height": 118
        },
        "id": "OXJTZx9UcOVt",
        "outputId": "0c9ec76d-ee86-4dcd-9115-3017f5939217"
      },
      "outputs": [
        {
          "data": {
            "text/html": [
              "<style>#sk-container-id-9 {color: black;background-color: white;}#sk-container-id-9 pre{padding: 0;}#sk-container-id-9 div.sk-toggleable {background-color: white;}#sk-container-id-9 label.sk-toggleable__label {cursor: pointer;display: block;width: 100%;margin-bottom: 0;padding: 0.3em;box-sizing: border-box;text-align: center;}#sk-container-id-9 label.sk-toggleable__label-arrow:before {content: \"▸\";float: left;margin-right: 0.25em;color: #696969;}#sk-container-id-9 label.sk-toggleable__label-arrow:hover:before {color: black;}#sk-container-id-9 div.sk-estimator:hover label.sk-toggleable__label-arrow:before {color: black;}#sk-container-id-9 div.sk-toggleable__content {max-height: 0;max-width: 0;overflow: hidden;text-align: left;background-color: #f0f8ff;}#sk-container-id-9 div.sk-toggleable__content pre {margin: 0.2em;color: black;border-radius: 0.25em;background-color: #f0f8ff;}#sk-container-id-9 input.sk-toggleable__control:checked~div.sk-toggleable__content {max-height: 200px;max-width: 100%;overflow: auto;}#sk-container-id-9 input.sk-toggleable__control:checked~label.sk-toggleable__label-arrow:before {content: \"▾\";}#sk-container-id-9 div.sk-estimator input.sk-toggleable__control:checked~label.sk-toggleable__label {background-color: #d4ebff;}#sk-container-id-9 div.sk-label input.sk-toggleable__control:checked~label.sk-toggleable__label {background-color: #d4ebff;}#sk-container-id-9 input.sk-hidden--visually {border: 0;clip: rect(1px 1px 1px 1px);clip: rect(1px, 1px, 1px, 1px);height: 1px;margin: -1px;overflow: hidden;padding: 0;position: absolute;width: 1px;}#sk-container-id-9 div.sk-estimator {font-family: monospace;background-color: #f0f8ff;border: 1px dotted black;border-radius: 0.25em;box-sizing: border-box;margin-bottom: 0.5em;}#sk-container-id-9 div.sk-estimator:hover {background-color: #d4ebff;}#sk-container-id-9 div.sk-parallel-item::after {content: \"\";width: 100%;border-bottom: 1px solid gray;flex-grow: 1;}#sk-container-id-9 div.sk-label:hover label.sk-toggleable__label {background-color: #d4ebff;}#sk-container-id-9 div.sk-serial::before {content: \"\";position: absolute;border-left: 1px solid gray;box-sizing: border-box;top: 0;bottom: 0;left: 50%;z-index: 0;}#sk-container-id-9 div.sk-serial {display: flex;flex-direction: column;align-items: center;background-color: white;padding-right: 0.2em;padding-left: 0.2em;position: relative;}#sk-container-id-9 div.sk-item {position: relative;z-index: 1;}#sk-container-id-9 div.sk-parallel {display: flex;align-items: stretch;justify-content: center;background-color: white;position: relative;}#sk-container-id-9 div.sk-item::before, #sk-container-id-9 div.sk-parallel-item::before {content: \"\";position: absolute;border-left: 1px solid gray;box-sizing: border-box;top: 0;bottom: 0;left: 50%;z-index: -1;}#sk-container-id-9 div.sk-parallel-item {display: flex;flex-direction: column;z-index: 1;position: relative;background-color: white;}#sk-container-id-9 div.sk-parallel-item:first-child::after {align-self: flex-end;width: 50%;}#sk-container-id-9 div.sk-parallel-item:last-child::after {align-self: flex-start;width: 50%;}#sk-container-id-9 div.sk-parallel-item:only-child::after {width: 0;}#sk-container-id-9 div.sk-dashed-wrapped {border: 1px dashed gray;margin: 0 0.4em 0.5em 0.4em;box-sizing: border-box;padding-bottom: 0.4em;background-color: white;}#sk-container-id-9 div.sk-label label {font-family: monospace;font-weight: bold;display: inline-block;line-height: 1.2em;}#sk-container-id-9 div.sk-label-container {text-align: center;}#sk-container-id-9 div.sk-container {/* jupyter's `normalize.less` sets `[hidden] { display: none; }` but bootstrap.min.css set `[hidden] { display: none !important; }` so we also need the `!important` here to be able to override the default hidden behavior on the sphinx rendered scikit-learn.org. See: https://github.com/scikit-learn/scikit-learn/issues/21755 */display: inline-block !important;position: relative;}#sk-container-id-9 div.sk-text-repr-fallback {display: none;}</style><div id=\"sk-container-id-9\" class=\"sk-top-container\"><div class=\"sk-text-repr-fallback\"><pre>GridSearchCV(cv=5, estimator=RandomForestRegressor(random_state=42),\n",
              "             param_grid=[{&#x27;max_features&#x27;: [2, 4, 6, 8],\n",
              "                          &#x27;n_estimators&#x27;: [3, 10, 30]},\n",
              "                         {&#x27;bootstrap&#x27;: [False], &#x27;max_features&#x27;: [2, 3, 4],\n",
              "                          &#x27;n_estimators&#x27;: [3, 10]}],\n",
              "             return_train_score=True, scoring=&#x27;neg_mean_squared_error&#x27;)</pre><b>In a Jupyter environment, please rerun this cell to show the HTML representation or trust the notebook. <br />On GitHub, the HTML representation is unable to render, please try loading this page with nbviewer.org.</b></div><div class=\"sk-container\" hidden><div class=\"sk-item sk-dashed-wrapped\"><div class=\"sk-label-container\"><div class=\"sk-label sk-toggleable\"><input class=\"sk-toggleable__control sk-hidden--visually\" id=\"sk-estimator-id-9\" type=\"checkbox\" ><label for=\"sk-estimator-id-9\" class=\"sk-toggleable__label sk-toggleable__label-arrow\">GridSearchCV</label><div class=\"sk-toggleable__content\"><pre>GridSearchCV(cv=5, estimator=RandomForestRegressor(random_state=42),\n",
              "             param_grid=[{&#x27;max_features&#x27;: [2, 4, 6, 8],\n",
              "                          &#x27;n_estimators&#x27;: [3, 10, 30]},\n",
              "                         {&#x27;bootstrap&#x27;: [False], &#x27;max_features&#x27;: [2, 3, 4],\n",
              "                          &#x27;n_estimators&#x27;: [3, 10]}],\n",
              "             return_train_score=True, scoring=&#x27;neg_mean_squared_error&#x27;)</pre></div></div></div><div class=\"sk-parallel\"><div class=\"sk-parallel-item\"><div class=\"sk-item\"><div class=\"sk-label-container\"><div class=\"sk-label sk-toggleable\"><input class=\"sk-toggleable__control sk-hidden--visually\" id=\"sk-estimator-id-10\" type=\"checkbox\" ><label for=\"sk-estimator-id-10\" class=\"sk-toggleable__label sk-toggleable__label-arrow\">estimator: RandomForestRegressor</label><div class=\"sk-toggleable__content\"><pre>RandomForestRegressor(random_state=42)</pre></div></div></div><div class=\"sk-serial\"><div class=\"sk-item\"><div class=\"sk-estimator sk-toggleable\"><input class=\"sk-toggleable__control sk-hidden--visually\" id=\"sk-estimator-id-11\" type=\"checkbox\" ><label for=\"sk-estimator-id-11\" class=\"sk-toggleable__label sk-toggleable__label-arrow\">RandomForestRegressor</label><div class=\"sk-toggleable__content\"><pre>RandomForestRegressor(random_state=42)</pre></div></div></div></div></div></div></div></div></div></div>"
            ],
            "text/plain": [
              "GridSearchCV(cv=5, estimator=RandomForestRegressor(random_state=42),\n",
              "             param_grid=[{'max_features': [2, 4, 6, 8],\n",
              "                          'n_estimators': [3, 10, 30]},\n",
              "                         {'bootstrap': [False], 'max_features': [2, 3, 4],\n",
              "                          'n_estimators': [3, 10]}],\n",
              "             return_train_score=True, scoring='neg_mean_squared_error')"
            ]
          },
          "execution_count": 131,
          "metadata": {},
          "output_type": "execute_result"
        }
      ],
      "source": [
        "from sklearn.model_selection import GridSearchCV\n",
        "\n",
        "param_grid = [\n",
        "    # try 12 (3×4) combinations of hyperparameters\n",
        "    {'n_estimators': [3, 10, 30], 'max_features': [2, 4, 6, 8]},\n",
        "    # then try 6 (2×3) combinations with bootstrap set as False\n",
        "    {'bootstrap': [False], 'n_estimators': [3, 10], 'max_features': [2, 3, 4]},\n",
        "  ]\n",
        "\n",
        "forest_reg = RandomForestRegressor(random_state=42)\n",
        "# train across 5 folds, that's a total of (12+6)*5=90 rounds of training\n",
        "grid_search = GridSearchCV(forest_reg, param_grid, cv=5,\n",
        "                           scoring='neg_mean_squared_error',\n",
        "                           return_train_score=True)\n",
        "grid_search.fit(housing_prepared, housing_labels)"
      ]
    },
    {
      "cell_type": "code",
      "execution_count": 132,
      "metadata": {
        "colab": {
          "base_uri": "https://localhost:8080/"
        },
        "id": "RjpcujsbcOVv",
        "outputId": "dc67ffe1-da9f-4cb8-9e6e-cb61323efc8e"
      },
      "outputs": [
        {
          "data": {
            "text/plain": [
              "{'max_features': 4, 'n_estimators': 30}"
            ]
          },
          "execution_count": 132,
          "metadata": {},
          "output_type": "execute_result"
        }
      ],
      "source": [
        "grid_search.best_params_"
      ]
    },
    {
      "cell_type": "code",
      "execution_count": 133,
      "metadata": {
        "colab": {
          "base_uri": "https://localhost:8080/",
          "height": 75
        },
        "id": "eEOtrjGKcOVx",
        "outputId": "8536bf30-b567-4c9c-d57d-bc9b45a07b6c"
      },
      "outputs": [
        {
          "data": {
            "text/html": [
              "<style>#sk-container-id-10 {color: black;background-color: white;}#sk-container-id-10 pre{padding: 0;}#sk-container-id-10 div.sk-toggleable {background-color: white;}#sk-container-id-10 label.sk-toggleable__label {cursor: pointer;display: block;width: 100%;margin-bottom: 0;padding: 0.3em;box-sizing: border-box;text-align: center;}#sk-container-id-10 label.sk-toggleable__label-arrow:before {content: \"▸\";float: left;margin-right: 0.25em;color: #696969;}#sk-container-id-10 label.sk-toggleable__label-arrow:hover:before {color: black;}#sk-container-id-10 div.sk-estimator:hover label.sk-toggleable__label-arrow:before {color: black;}#sk-container-id-10 div.sk-toggleable__content {max-height: 0;max-width: 0;overflow: hidden;text-align: left;background-color: #f0f8ff;}#sk-container-id-10 div.sk-toggleable__content pre {margin: 0.2em;color: black;border-radius: 0.25em;background-color: #f0f8ff;}#sk-container-id-10 input.sk-toggleable__control:checked~div.sk-toggleable__content {max-height: 200px;max-width: 100%;overflow: auto;}#sk-container-id-10 input.sk-toggleable__control:checked~label.sk-toggleable__label-arrow:before {content: \"▾\";}#sk-container-id-10 div.sk-estimator input.sk-toggleable__control:checked~label.sk-toggleable__label {background-color: #d4ebff;}#sk-container-id-10 div.sk-label input.sk-toggleable__control:checked~label.sk-toggleable__label {background-color: #d4ebff;}#sk-container-id-10 input.sk-hidden--visually {border: 0;clip: rect(1px 1px 1px 1px);clip: rect(1px, 1px, 1px, 1px);height: 1px;margin: -1px;overflow: hidden;padding: 0;position: absolute;width: 1px;}#sk-container-id-10 div.sk-estimator {font-family: monospace;background-color: #f0f8ff;border: 1px dotted black;border-radius: 0.25em;box-sizing: border-box;margin-bottom: 0.5em;}#sk-container-id-10 div.sk-estimator:hover {background-color: #d4ebff;}#sk-container-id-10 div.sk-parallel-item::after {content: \"\";width: 100%;border-bottom: 1px solid gray;flex-grow: 1;}#sk-container-id-10 div.sk-label:hover label.sk-toggleable__label {background-color: #d4ebff;}#sk-container-id-10 div.sk-serial::before {content: \"\";position: absolute;border-left: 1px solid gray;box-sizing: border-box;top: 0;bottom: 0;left: 50%;z-index: 0;}#sk-container-id-10 div.sk-serial {display: flex;flex-direction: column;align-items: center;background-color: white;padding-right: 0.2em;padding-left: 0.2em;position: relative;}#sk-container-id-10 div.sk-item {position: relative;z-index: 1;}#sk-container-id-10 div.sk-parallel {display: flex;align-items: stretch;justify-content: center;background-color: white;position: relative;}#sk-container-id-10 div.sk-item::before, #sk-container-id-10 div.sk-parallel-item::before {content: \"\";position: absolute;border-left: 1px solid gray;box-sizing: border-box;top: 0;bottom: 0;left: 50%;z-index: -1;}#sk-container-id-10 div.sk-parallel-item {display: flex;flex-direction: column;z-index: 1;position: relative;background-color: white;}#sk-container-id-10 div.sk-parallel-item:first-child::after {align-self: flex-end;width: 50%;}#sk-container-id-10 div.sk-parallel-item:last-child::after {align-self: flex-start;width: 50%;}#sk-container-id-10 div.sk-parallel-item:only-child::after {width: 0;}#sk-container-id-10 div.sk-dashed-wrapped {border: 1px dashed gray;margin: 0 0.4em 0.5em 0.4em;box-sizing: border-box;padding-bottom: 0.4em;background-color: white;}#sk-container-id-10 div.sk-label label {font-family: monospace;font-weight: bold;display: inline-block;line-height: 1.2em;}#sk-container-id-10 div.sk-label-container {text-align: center;}#sk-container-id-10 div.sk-container {/* jupyter's `normalize.less` sets `[hidden] { display: none; }` but bootstrap.min.css set `[hidden] { display: none !important; }` so we also need the `!important` here to be able to override the default hidden behavior on the sphinx rendered scikit-learn.org. See: https://github.com/scikit-learn/scikit-learn/issues/21755 */display: inline-block !important;position: relative;}#sk-container-id-10 div.sk-text-repr-fallback {display: none;}</style><div id=\"sk-container-id-10\" class=\"sk-top-container\"><div class=\"sk-text-repr-fallback\"><pre>RandomForestRegressor(max_features=4, n_estimators=30, random_state=42)</pre><b>In a Jupyter environment, please rerun this cell to show the HTML representation or trust the notebook. <br />On GitHub, the HTML representation is unable to render, please try loading this page with nbviewer.org.</b></div><div class=\"sk-container\" hidden><div class=\"sk-item\"><div class=\"sk-estimator sk-toggleable\"><input class=\"sk-toggleable__control sk-hidden--visually\" id=\"sk-estimator-id-12\" type=\"checkbox\" checked><label for=\"sk-estimator-id-12\" class=\"sk-toggleable__label sk-toggleable__label-arrow\">RandomForestRegressor</label><div class=\"sk-toggleable__content\"><pre>RandomForestRegressor(max_features=4, n_estimators=30, random_state=42)</pre></div></div></div></div></div>"
            ],
            "text/plain": [
              "RandomForestRegressor(max_features=4, n_estimators=30, random_state=42)"
            ]
          },
          "execution_count": 133,
          "metadata": {},
          "output_type": "execute_result"
        }
      ],
      "source": [
        "grid_search.best_estimator_"
      ]
    },
    {
      "cell_type": "code",
      "execution_count": 134,
      "metadata": {
        "colab": {
          "base_uri": "https://localhost:8080/"
        },
        "id": "QoQiwTcBcOVz",
        "outputId": "fa3432b8-db31-4ca5-ce54-a07da452f52d"
      },
      "outputs": [
        {
          "name": "stdout",
          "output_type": "stream",
          "text": [
            "{'mean_fit_time': array([0.47556281, 1.92723465, 4.09715548, 0.39775286, 1.30998664,\n",
            "       4.15200543, 0.55259905, 1.72549968, 5.99506421, 0.75397658,\n",
            "       3.14959412, 7.09136162, 0.37511611, 1.16140318, 0.37958674,\n",
            "       1.30534406, 0.44940672, 1.4454483 ]), 'std_fit_time': array([0.18635041, 0.59052781, 0.5023865 , 0.02227581, 0.04881852,\n",
            "       0.16572257, 0.03168717, 0.06181171, 0.68426698, 0.03453058,\n",
            "       0.92708265, 0.28590185, 0.03325503, 0.1021074 , 0.03944138,\n",
            "       0.02794794, 0.05354315, 0.06584123]), 'mean_score_time': array([0.01981544, 0.06891942, 0.13019161, 0.01079445, 0.03283677,\n",
            "       0.09860015, 0.01282644, 0.03375025, 0.12377186, 0.01380806,\n",
            "       0.05858107, 0.12714653, 0.01446114, 0.03920269, 0.01200638,\n",
            "       0.04322443, 0.0126924 , 0.03922272]), 'std_score_time': array([0.00832517, 0.0231855 , 0.02641527, 0.00074631, 0.0016807 ,\n",
            "       0.00121732, 0.00220646, 0.00118763, 0.0152727 , 0.00392014,\n",
            "       0.02237146, 0.02467486, 0.00296709, 0.00392252, 0.00063404,\n",
            "       0.00942778, 0.00086252, 0.00171381]), 'param_max_features': masked_array(data=[2, 2, 2, 4, 4, 4, 6, 6, 6, 8, 8, 8, 2, 2, 3, 3, 4, 4],\n",
            "             mask=[False, False, False, False, False, False, False, False,\n",
            "                   False, False, False, False, False, False, False, False,\n",
            "                   False, False],\n",
            "       fill_value='?',\n",
            "            dtype=object), 'param_n_estimators': masked_array(data=[3, 10, 30, 3, 10, 30, 3, 10, 30, 3, 10, 30, 3, 10, 3,\n",
            "                   10, 3, 10],\n",
            "             mask=[False, False, False, False, False, False, False, False,\n",
            "                   False, False, False, False, False, False, False, False,\n",
            "                   False, False],\n",
            "       fill_value='?',\n",
            "            dtype=object), 'param_bootstrap': masked_array(data=[--, --, --, --, --, --, --, --, --, --, --, --, False,\n",
            "                   False, False, False, False, False],\n",
            "             mask=[ True,  True,  True,  True,  True,  True,  True,  True,\n",
            "                    True,  True,  True,  True, False, False, False, False,\n",
            "                   False, False],\n",
            "       fill_value='?',\n",
            "            dtype=object), 'params': [{'max_features': 2, 'n_estimators': 3}, {'max_features': 2, 'n_estimators': 10}, {'max_features': 2, 'n_estimators': 30}, {'max_features': 4, 'n_estimators': 3}, {'max_features': 4, 'n_estimators': 10}, {'max_features': 4, 'n_estimators': 30}, {'max_features': 6, 'n_estimators': 3}, {'max_features': 6, 'n_estimators': 10}, {'max_features': 6, 'n_estimators': 30}, {'max_features': 8, 'n_estimators': 3}, {'max_features': 8, 'n_estimators': 10}, {'max_features': 8, 'n_estimators': 30}, {'bootstrap': False, 'max_features': 2, 'n_estimators': 3}, {'bootstrap': False, 'max_features': 2, 'n_estimators': 10}, {'bootstrap': False, 'max_features': 3, 'n_estimators': 3}, {'bootstrap': False, 'max_features': 3, 'n_estimators': 10}, {'bootstrap': False, 'max_features': 4, 'n_estimators': 3}, {'bootstrap': False, 'max_features': 4, 'n_estimators': 10}], 'split0_test_score': array([-71980.94870593, -62525.92708642, -59223.92159754, -74561.38712748,\n",
            "       -61742.69475454, -58788.74205759, -67498.14112617, -63924.69964971,\n",
            "       -61612.32118526, -78462.0332822 , -63998.95364996, -61331.60654919,\n",
            "       -72748.10157959, -64401.61175275, -78439.14798716, -63222.42576962,\n",
            "       -74088.28205347, -64040.36512529]), 'split1_test_score': array([-67447.42165971, -60705.91405012, -56907.77446254, -64567.32364556,\n",
            "       -60894.69564689, -57115.33364012, -73198.68784625, -61616.16045257,\n",
            "       -57804.08779454, -74789.12540129, -53522.45246229, -54558.70141382,\n",
            "       -77098.11334129, -61650.94727819, -92926.15050143, -62054.93288162,\n",
            "       -67895.19744879, -59612.91718358]), 'split2_test_score': array([-57241.02638196, -46002.81501982, -43079.25453636, -52044.96066147,\n",
            "       -46116.55524116, -43254.68758671, -57182.26891986, -46823.36371692,\n",
            "       -43251.37121653, -54446.81671852, -47870.43088608, -42875.69826265,\n",
            "       -58483.00967481, -49139.3274658 , -57614.62634787, -47093.97144994,\n",
            "       -56032.2756148 , -50298.87967243]), 'split3_test_score': array([-46851.39077129, -36232.79944381, -33381.7881213 , -49843.69618832,\n",
            "       -38337.30528065, -33096.9320415 , -46497.80802398, -35776.10847846,\n",
            "       -33863.07309807, -48074.37341062, -38459.11881217, -33736.04464078,\n",
            "       -46443.31107133, -37148.30575502, -41375.56415065, -36700.98707199,\n",
            "       -50707.22628536, -38793.6423015 ]), 'split4_test_score': array([-73975.88394493, -67016.8732199 , -61153.1122856 , -73920.5449431 ,\n",
            "       -63941.66893108, -60539.76532416, -69795.5989004 , -67997.47896944,\n",
            "       -63817.98327681, -74810.86533407, -68522.17475131, -63805.84109193,\n",
            "       -71249.96841836, -63633.29935558, -71573.97699925, -64187.41149342,\n",
            "       -85865.07211709, -70181.28685111]), 'mean_test_score': array([-63499.33429276, -54496.86576401, -50749.17020067, -62987.58251319,\n",
            "       -54206.58397087, -50559.09213002, -62834.50096333, -55227.56225342,\n",
            "       -52069.76731424, -66116.64282934, -54474.62611236, -51261.57839168,\n",
            "       -65204.50081708, -55194.69832147, -68385.89319727, -54651.94573332,\n",
            "       -66917.6107039 , -56585.41822678]), 'std_test_score': array([10135.12418203, 11536.84280579, 10755.88578582, 10473.59464081,\n",
            "       10134.87300081, 10664.02024348,  9761.74223251, 12070.74782915,\n",
            "       11586.29507714, 12368.65757947, 10854.16916338, 11376.31164131,\n",
            "       11243.41846335, 10583.00707547, 17658.05257383, 10941.13656035,\n",
            "       12590.85049114, 11005.975508  ]), 'rank_test_score': array([14,  7,  2, 13,  5,  1, 12, 10,  4, 16,  6,  3, 15,  9, 18,  8, 17,\n",
            "       11]), 'split0_train_score': array([-1.54109499e+04, -1.05320136e+04, -7.73990003e+03, -1.60254492e+04,\n",
            "       -1.04795730e+04, -7.86539983e+03, -1.78408009e+04, -1.15678929e+04,\n",
            "       -8.11831023e+03, -1.76435276e+04, -1.05891544e+04, -8.20982555e+03,\n",
            "       -0.00000000e+00, -9.35080710e-03, -2.77946478e-02, -4.13616749e-03,\n",
            "       -3.55157779e-03, -2.65302861e-03]), 'split1_train_score': array([-1.86573644e+04, -1.10827102e+04, -8.74809618e+03, -1.76261347e+04,\n",
            "       -1.16039782e+04, -8.92974557e+03, -1.81929128e+04, -1.13974672e+04,\n",
            "       -8.88223989e+03, -1.67425217e+04, -1.10494480e+04, -8.76082253e+03,\n",
            "       -1.26613748e-01, -1.61061211e-02, -2.84126223e-03, -2.36114432e-01,\n",
            "       -3.55157779e-04, -7.69697938e-03]), 'split2_train_score': array([-1.74928006e+04, -1.03692200e+04, -8.83181440e+03, -1.71547404e+04,\n",
            "       -1.04229200e+04, -8.98247666e+03, -1.81906615e+04, -1.04706146e+04,\n",
            "       -9.10609214e+03, -1.97484542e+04, -1.11147837e+04, -9.36277802e+03,\n",
            "       -7.10292854e-04, -9.36060858e-02, -7.10292854e-04, -6.60116346e-02,\n",
            "       -1.27492240e-01, -2.65899550e-02]), 'split3_train_score': array([-1.75525341e+04, -1.15886438e+04, -9.76394765e+03, -2.06090001e+04,\n",
            "       -1.20095831e+04, -9.78079511e+03, -1.84317502e+04, -1.18829945e+04,\n",
            "       -9.84602649e+03, -1.93587248e+04, -1.18583032e+04, -1.00650266e+04,\n",
            "       -5.39822569e-02, -3.44096401e-02, -7.10292854e-02, -1.45055296e-02,\n",
            "       -1.77573213e-02, -4.57073451e-03]), 'split4_train_score': array([-1.79810716e+04, -1.03373212e+04, -8.74274054e+03, -1.69070939e+04,\n",
            "       -1.08030496e+04, -8.77593821e+03, -1.63875750e+04, -1.01181215e+04,\n",
            "       -8.79646779e+03, -1.63833031e+04, -9.89634839e+03, -8.63086197e+03,\n",
            "       -8.70108746e-03, -1.49672910e-02, -4.07381363e-01, -6.96905964e-02,\n",
            "       -4.16924148e-02, -2.74204117e-02]), 'mean_train_score': array([-1.74189441e+04, -1.07819818e+04, -8.76529976e+03, -1.76644837e+04,\n",
            "       -1.10638208e+04, -8.86687108e+03, -1.78087401e+04, -1.10874181e+04,\n",
            "       -8.94982731e+03, -1.79753063e+04, -1.09016075e+04, -9.00586294e+03,\n",
            "       -3.80014771e-02, -3.36879890e-02, -1.01951370e-01, -7.80916720e-02,\n",
            "       -3.81697423e-02, -1.37862218e-02]), 'std_train_score': array([1.08673951e+03, 4.84091026e+02, 6.40932336e+02, 1.56150946e+03,\n",
            "       6.33456761e+02, 6.10538851e+02, 7.35164222e+02, 6.75264485e+02,\n",
            "       5.56255251e+02, 1.35810231e+03, 6.46643703e+02, 6.45532664e+02,\n",
            "       4.85814315e-02, 3.11210030e-02, 1.54800158e-01, 8.33070371e-02,\n",
            "       4.69807298e-02, 1.09158489e-02])}\n"
          ]
        }
      ],
      "source": [
        "cvres = grid_search.cv_results_\n",
        "print(cvres)"
      ]
    },
    {
      "cell_type": "code",
      "execution_count": 135,
      "metadata": {
        "colab": {
          "base_uri": "https://localhost:8080/"
        },
        "id": "lhNZYfDFcOV1",
        "outputId": "eb8adeef-f8a9-460e-a3a2-1e5ae070fdee"
      },
      "outputs": [
        {
          "name": "stdout",
          "output_type": "stream",
          "text": [
            "63499.334292763655 {'max_features': 2, 'n_estimators': 3}\n",
            "54496.86576401132 {'max_features': 2, 'n_estimators': 10}\n",
            "50749.17020066703 {'max_features': 2, 'n_estimators': 30}\n",
            "62987.582513185414 {'max_features': 4, 'n_estimators': 3}\n",
            "54206.58397086586 {'max_features': 4, 'n_estimators': 10}\n",
            "50559.09213001668 {'max_features': 4, 'n_estimators': 30}\n",
            "62834.500963330196 {'max_features': 6, 'n_estimators': 3}\n",
            "55227.56225341766 {'max_features': 6, 'n_estimators': 10}\n",
            "52069.767314240264 {'max_features': 6, 'n_estimators': 30}\n",
            "66116.64282933937 {'max_features': 8, 'n_estimators': 3}\n",
            "54474.62611236128 {'max_features': 8, 'n_estimators': 10}\n",
            "51261.57839167579 {'max_features': 8, 'n_estimators': 30}\n",
            "65204.50081707571 {'bootstrap': False, 'max_features': 2, 'n_estimators': 3}\n",
            "55194.698321467054 {'bootstrap': False, 'max_features': 2, 'n_estimators': 10}\n",
            "68385.89319727117 {'bootstrap': False, 'max_features': 3, 'n_estimators': 3}\n",
            "54651.94573331669 {'bootstrap': False, 'max_features': 3, 'n_estimators': 10}\n",
            "66917.61070390113 {'bootstrap': False, 'max_features': 4, 'n_estimators': 3}\n",
            "56585.418226780384 {'bootstrap': False, 'max_features': 4, 'n_estimators': 10}\n"
          ]
        }
      ],
      "source": [
        "for mean_score, params in zip(cvres[\"mean_test_score\"], cvres[\"params\"]):\n",
        "    print(-mean_score, params)"
      ]
    },
    {
      "cell_type": "code",
      "execution_count": 136,
      "metadata": {
        "colab": {
          "base_uri": "https://localhost:8080/",
          "height": 1000
        },
        "id": "ojLpVok1cOV6",
        "outputId": "8340978c-e493-4e2b-c828-96e71984507a"
      },
      "outputs": [
        {
          "data": {
            "text/html": [
              "<div>\n",
              "<style scoped>\n",
              "    .dataframe tbody tr th:only-of-type {\n",
              "        vertical-align: middle;\n",
              "    }\n",
              "\n",
              "    .dataframe tbody tr th {\n",
              "        vertical-align: top;\n",
              "    }\n",
              "\n",
              "    .dataframe thead th {\n",
              "        text-align: right;\n",
              "    }\n",
              "</style>\n",
              "<table border=\"1\" class=\"dataframe\">\n",
              "  <thead>\n",
              "    <tr style=\"text-align: right;\">\n",
              "      <th></th>\n",
              "      <th>mean_fit_time</th>\n",
              "      <th>std_fit_time</th>\n",
              "      <th>mean_score_time</th>\n",
              "      <th>std_score_time</th>\n",
              "      <th>param_max_features</th>\n",
              "      <th>param_n_estimators</th>\n",
              "      <th>param_bootstrap</th>\n",
              "      <th>params</th>\n",
              "      <th>split0_test_score</th>\n",
              "      <th>split1_test_score</th>\n",
              "      <th>...</th>\n",
              "      <th>mean_test_score</th>\n",
              "      <th>std_test_score</th>\n",
              "      <th>rank_test_score</th>\n",
              "      <th>split0_train_score</th>\n",
              "      <th>split1_train_score</th>\n",
              "      <th>split2_train_score</th>\n",
              "      <th>split3_train_score</th>\n",
              "      <th>split4_train_score</th>\n",
              "      <th>mean_train_score</th>\n",
              "      <th>std_train_score</th>\n",
              "    </tr>\n",
              "  </thead>\n",
              "  <tbody>\n",
              "    <tr>\n",
              "      <th>0</th>\n",
              "      <td>0.475563</td>\n",
              "      <td>0.186350</td>\n",
              "      <td>0.019815</td>\n",
              "      <td>0.008325</td>\n",
              "      <td>2</td>\n",
              "      <td>3</td>\n",
              "      <td>NaN</td>\n",
              "      <td>{'max_features': 2, 'n_estimators': 3}</td>\n",
              "      <td>-71980.948706</td>\n",
              "      <td>-67447.421660</td>\n",
              "      <td>...</td>\n",
              "      <td>-63499.334293</td>\n",
              "      <td>10135.124182</td>\n",
              "      <td>14</td>\n",
              "      <td>-15410.949948</td>\n",
              "      <td>-18657.364438</td>\n",
              "      <td>-17492.800607</td>\n",
              "      <td>-17552.534059</td>\n",
              "      <td>-17981.071626</td>\n",
              "      <td>-17418.944135</td>\n",
              "      <td>1086.739515</td>\n",
              "    </tr>\n",
              "    <tr>\n",
              "      <th>1</th>\n",
              "      <td>1.927235</td>\n",
              "      <td>0.590528</td>\n",
              "      <td>0.068919</td>\n",
              "      <td>0.023186</td>\n",
              "      <td>2</td>\n",
              "      <td>10</td>\n",
              "      <td>NaN</td>\n",
              "      <td>{'max_features': 2, 'n_estimators': 10}</td>\n",
              "      <td>-62525.927086</td>\n",
              "      <td>-60705.914050</td>\n",
              "      <td>...</td>\n",
              "      <td>-54496.865764</td>\n",
              "      <td>11536.842806</td>\n",
              "      <td>7</td>\n",
              "      <td>-10532.013580</td>\n",
              "      <td>-11082.710198</td>\n",
              "      <td>-10369.220021</td>\n",
              "      <td>-11588.643806</td>\n",
              "      <td>-10337.321200</td>\n",
              "      <td>-10781.981761</td>\n",
              "      <td>484.091026</td>\n",
              "    </tr>\n",
              "    <tr>\n",
              "      <th>2</th>\n",
              "      <td>4.097155</td>\n",
              "      <td>0.502387</td>\n",
              "      <td>0.130192</td>\n",
              "      <td>0.026415</td>\n",
              "      <td>2</td>\n",
              "      <td>30</td>\n",
              "      <td>NaN</td>\n",
              "      <td>{'max_features': 2, 'n_estimators': 30}</td>\n",
              "      <td>-59223.921598</td>\n",
              "      <td>-56907.774463</td>\n",
              "      <td>...</td>\n",
              "      <td>-50749.170201</td>\n",
              "      <td>10755.885786</td>\n",
              "      <td>2</td>\n",
              "      <td>-7739.900028</td>\n",
              "      <td>-8748.096182</td>\n",
              "      <td>-8831.814405</td>\n",
              "      <td>-9763.947649</td>\n",
              "      <td>-8742.740544</td>\n",
              "      <td>-8765.299762</td>\n",
              "      <td>640.932336</td>\n",
              "    </tr>\n",
              "    <tr>\n",
              "      <th>3</th>\n",
              "      <td>0.397753</td>\n",
              "      <td>0.022276</td>\n",
              "      <td>0.010794</td>\n",
              "      <td>0.000746</td>\n",
              "      <td>4</td>\n",
              "      <td>3</td>\n",
              "      <td>NaN</td>\n",
              "      <td>{'max_features': 4, 'n_estimators': 3}</td>\n",
              "      <td>-74561.387127</td>\n",
              "      <td>-64567.323646</td>\n",
              "      <td>...</td>\n",
              "      <td>-62987.582513</td>\n",
              "      <td>10473.594641</td>\n",
              "      <td>13</td>\n",
              "      <td>-16025.449225</td>\n",
              "      <td>-17626.134651</td>\n",
              "      <td>-17154.740441</td>\n",
              "      <td>-20609.000096</td>\n",
              "      <td>-16907.093890</td>\n",
              "      <td>-17664.483661</td>\n",
              "      <td>1561.509461</td>\n",
              "    </tr>\n",
              "    <tr>\n",
              "      <th>4</th>\n",
              "      <td>1.309987</td>\n",
              "      <td>0.048819</td>\n",
              "      <td>0.032837</td>\n",
              "      <td>0.001681</td>\n",
              "      <td>4</td>\n",
              "      <td>10</td>\n",
              "      <td>NaN</td>\n",
              "      <td>{'max_features': 4, 'n_estimators': 10}</td>\n",
              "      <td>-61742.694755</td>\n",
              "      <td>-60894.695647</td>\n",
              "      <td>...</td>\n",
              "      <td>-54206.583971</td>\n",
              "      <td>10134.873001</td>\n",
              "      <td>5</td>\n",
              "      <td>-10479.572958</td>\n",
              "      <td>-11603.978181</td>\n",
              "      <td>-10422.920040</td>\n",
              "      <td>-12009.583145</td>\n",
              "      <td>-10803.049626</td>\n",
              "      <td>-11063.820790</td>\n",
              "      <td>633.456761</td>\n",
              "    </tr>\n",
              "    <tr>\n",
              "      <th>5</th>\n",
              "      <td>4.152005</td>\n",
              "      <td>0.165723</td>\n",
              "      <td>0.098600</td>\n",
              "      <td>0.001217</td>\n",
              "      <td>4</td>\n",
              "      <td>30</td>\n",
              "      <td>NaN</td>\n",
              "      <td>{'max_features': 4, 'n_estimators': 30}</td>\n",
              "      <td>-58788.742058</td>\n",
              "      <td>-57115.333640</td>\n",
              "      <td>...</td>\n",
              "      <td>-50559.092130</td>\n",
              "      <td>10664.020243</td>\n",
              "      <td>1</td>\n",
              "      <td>-7865.399828</td>\n",
              "      <td>-8929.745571</td>\n",
              "      <td>-8982.476663</td>\n",
              "      <td>-9780.795112</td>\n",
              "      <td>-8775.938207</td>\n",
              "      <td>-8866.871076</td>\n",
              "      <td>610.538851</td>\n",
              "    </tr>\n",
              "    <tr>\n",
              "      <th>6</th>\n",
              "      <td>0.552599</td>\n",
              "      <td>0.031687</td>\n",
              "      <td>0.012826</td>\n",
              "      <td>0.002206</td>\n",
              "      <td>6</td>\n",
              "      <td>3</td>\n",
              "      <td>NaN</td>\n",
              "      <td>{'max_features': 6, 'n_estimators': 3}</td>\n",
              "      <td>-67498.141126</td>\n",
              "      <td>-73198.687846</td>\n",
              "      <td>...</td>\n",
              "      <td>-62834.500963</td>\n",
              "      <td>9761.742233</td>\n",
              "      <td>12</td>\n",
              "      <td>-17840.800906</td>\n",
              "      <td>-18192.912830</td>\n",
              "      <td>-18190.661474</td>\n",
              "      <td>-18431.750154</td>\n",
              "      <td>-16387.575042</td>\n",
              "      <td>-17808.740081</td>\n",
              "      <td>735.164222</td>\n",
              "    </tr>\n",
              "    <tr>\n",
              "      <th>7</th>\n",
              "      <td>1.725500</td>\n",
              "      <td>0.061812</td>\n",
              "      <td>0.033750</td>\n",
              "      <td>0.001188</td>\n",
              "      <td>6</td>\n",
              "      <td>10</td>\n",
              "      <td>NaN</td>\n",
              "      <td>{'max_features': 6, 'n_estimators': 10}</td>\n",
              "      <td>-63924.699650</td>\n",
              "      <td>-61616.160453</td>\n",
              "      <td>...</td>\n",
              "      <td>-55227.562253</td>\n",
              "      <td>12070.747829</td>\n",
              "      <td>10</td>\n",
              "      <td>-11567.892884</td>\n",
              "      <td>-11397.467175</td>\n",
              "      <td>-10470.614616</td>\n",
              "      <td>-11882.994464</td>\n",
              "      <td>-10118.121505</td>\n",
              "      <td>-11087.418129</td>\n",
              "      <td>675.264485</td>\n",
              "    </tr>\n",
              "    <tr>\n",
              "      <th>8</th>\n",
              "      <td>5.995064</td>\n",
              "      <td>0.684267</td>\n",
              "      <td>0.123772</td>\n",
              "      <td>0.015273</td>\n",
              "      <td>6</td>\n",
              "      <td>30</td>\n",
              "      <td>NaN</td>\n",
              "      <td>{'max_features': 6, 'n_estimators': 30}</td>\n",
              "      <td>-61612.321185</td>\n",
              "      <td>-57804.087795</td>\n",
              "      <td>...</td>\n",
              "      <td>-52069.767314</td>\n",
              "      <td>11586.295077</td>\n",
              "      <td>4</td>\n",
              "      <td>-8118.310234</td>\n",
              "      <td>-8882.239891</td>\n",
              "      <td>-9106.092140</td>\n",
              "      <td>-9846.026492</td>\n",
              "      <td>-8796.467786</td>\n",
              "      <td>-8949.827309</td>\n",
              "      <td>556.255251</td>\n",
              "    </tr>\n",
              "    <tr>\n",
              "      <th>9</th>\n",
              "      <td>0.753977</td>\n",
              "      <td>0.034531</td>\n",
              "      <td>0.013808</td>\n",
              "      <td>0.003920</td>\n",
              "      <td>8</td>\n",
              "      <td>3</td>\n",
              "      <td>NaN</td>\n",
              "      <td>{'max_features': 8, 'n_estimators': 3}</td>\n",
              "      <td>-78462.033282</td>\n",
              "      <td>-74789.125401</td>\n",
              "      <td>...</td>\n",
              "      <td>-66116.642829</td>\n",
              "      <td>12368.657579</td>\n",
              "      <td>16</td>\n",
              "      <td>-17643.527573</td>\n",
              "      <td>-16742.521677</td>\n",
              "      <td>-19748.454243</td>\n",
              "      <td>-19358.724758</td>\n",
              "      <td>-16383.303114</td>\n",
              "      <td>-17975.306273</td>\n",
              "      <td>1358.102312</td>\n",
              "    </tr>\n",
              "    <tr>\n",
              "      <th>10</th>\n",
              "      <td>3.149594</td>\n",
              "      <td>0.927083</td>\n",
              "      <td>0.058581</td>\n",
              "      <td>0.022371</td>\n",
              "      <td>8</td>\n",
              "      <td>10</td>\n",
              "      <td>NaN</td>\n",
              "      <td>{'max_features': 8, 'n_estimators': 10}</td>\n",
              "      <td>-63998.953650</td>\n",
              "      <td>-53522.452462</td>\n",
              "      <td>...</td>\n",
              "      <td>-54474.626112</td>\n",
              "      <td>10854.169163</td>\n",
              "      <td>6</td>\n",
              "      <td>-10589.154363</td>\n",
              "      <td>-11049.447983</td>\n",
              "      <td>-11114.783665</td>\n",
              "      <td>-11858.303202</td>\n",
              "      <td>-9896.348390</td>\n",
              "      <td>-10901.607521</td>\n",
              "      <td>646.643703</td>\n",
              "    </tr>\n",
              "    <tr>\n",
              "      <th>11</th>\n",
              "      <td>7.091362</td>\n",
              "      <td>0.285902</td>\n",
              "      <td>0.127147</td>\n",
              "      <td>0.024675</td>\n",
              "      <td>8</td>\n",
              "      <td>30</td>\n",
              "      <td>NaN</td>\n",
              "      <td>{'max_features': 8, 'n_estimators': 30}</td>\n",
              "      <td>-61331.606549</td>\n",
              "      <td>-54558.701414</td>\n",
              "      <td>...</td>\n",
              "      <td>-51261.578392</td>\n",
              "      <td>11376.311641</td>\n",
              "      <td>3</td>\n",
              "      <td>-8209.825553</td>\n",
              "      <td>-8760.822528</td>\n",
              "      <td>-9362.778018</td>\n",
              "      <td>-10065.026611</td>\n",
              "      <td>-8630.861973</td>\n",
              "      <td>-9005.862937</td>\n",
              "      <td>645.532664</td>\n",
              "    </tr>\n",
              "    <tr>\n",
              "      <th>12</th>\n",
              "      <td>0.375116</td>\n",
              "      <td>0.033255</td>\n",
              "      <td>0.014461</td>\n",
              "      <td>0.002967</td>\n",
              "      <td>2</td>\n",
              "      <td>3</td>\n",
              "      <td>False</td>\n",
              "      <td>{'bootstrap': False, 'max_features': 2, 'n_est...</td>\n",
              "      <td>-72748.101580</td>\n",
              "      <td>-77098.113341</td>\n",
              "      <td>...</td>\n",
              "      <td>-65204.500817</td>\n",
              "      <td>11243.418463</td>\n",
              "      <td>15</td>\n",
              "      <td>-0.000000</td>\n",
              "      <td>-0.126614</td>\n",
              "      <td>-0.000710</td>\n",
              "      <td>-0.053982</td>\n",
              "      <td>-0.008701</td>\n",
              "      <td>-0.038001</td>\n",
              "      <td>0.048581</td>\n",
              "    </tr>\n",
              "    <tr>\n",
              "      <th>13</th>\n",
              "      <td>1.161403</td>\n",
              "      <td>0.102107</td>\n",
              "      <td>0.039203</td>\n",
              "      <td>0.003923</td>\n",
              "      <td>2</td>\n",
              "      <td>10</td>\n",
              "      <td>False</td>\n",
              "      <td>{'bootstrap': False, 'max_features': 2, 'n_est...</td>\n",
              "      <td>-64401.611753</td>\n",
              "      <td>-61650.947278</td>\n",
              "      <td>...</td>\n",
              "      <td>-55194.698321</td>\n",
              "      <td>10583.007075</td>\n",
              "      <td>9</td>\n",
              "      <td>-0.009351</td>\n",
              "      <td>-0.016106</td>\n",
              "      <td>-0.093606</td>\n",
              "      <td>-0.034410</td>\n",
              "      <td>-0.014967</td>\n",
              "      <td>-0.033688</td>\n",
              "      <td>0.031121</td>\n",
              "    </tr>\n",
              "    <tr>\n",
              "      <th>14</th>\n",
              "      <td>0.379587</td>\n",
              "      <td>0.039441</td>\n",
              "      <td>0.012006</td>\n",
              "      <td>0.000634</td>\n",
              "      <td>3</td>\n",
              "      <td>3</td>\n",
              "      <td>False</td>\n",
              "      <td>{'bootstrap': False, 'max_features': 3, 'n_est...</td>\n",
              "      <td>-78439.147987</td>\n",
              "      <td>-92926.150501</td>\n",
              "      <td>...</td>\n",
              "      <td>-68385.893197</td>\n",
              "      <td>17658.052574</td>\n",
              "      <td>18</td>\n",
              "      <td>-0.027795</td>\n",
              "      <td>-0.002841</td>\n",
              "      <td>-0.000710</td>\n",
              "      <td>-0.071029</td>\n",
              "      <td>-0.407381</td>\n",
              "      <td>-0.101951</td>\n",
              "      <td>0.154800</td>\n",
              "    </tr>\n",
              "    <tr>\n",
              "      <th>15</th>\n",
              "      <td>1.305344</td>\n",
              "      <td>0.027948</td>\n",
              "      <td>0.043224</td>\n",
              "      <td>0.009428</td>\n",
              "      <td>3</td>\n",
              "      <td>10</td>\n",
              "      <td>False</td>\n",
              "      <td>{'bootstrap': False, 'max_features': 3, 'n_est...</td>\n",
              "      <td>-63222.425770</td>\n",
              "      <td>-62054.932882</td>\n",
              "      <td>...</td>\n",
              "      <td>-54651.945733</td>\n",
              "      <td>10941.136560</td>\n",
              "      <td>8</td>\n",
              "      <td>-0.004136</td>\n",
              "      <td>-0.236114</td>\n",
              "      <td>-0.066012</td>\n",
              "      <td>-0.014506</td>\n",
              "      <td>-0.069691</td>\n",
              "      <td>-0.078092</td>\n",
              "      <td>0.083307</td>\n",
              "    </tr>\n",
              "    <tr>\n",
              "      <th>16</th>\n",
              "      <td>0.449407</td>\n",
              "      <td>0.053543</td>\n",
              "      <td>0.012692</td>\n",
              "      <td>0.000863</td>\n",
              "      <td>4</td>\n",
              "      <td>3</td>\n",
              "      <td>False</td>\n",
              "      <td>{'bootstrap': False, 'max_features': 4, 'n_est...</td>\n",
              "      <td>-74088.282053</td>\n",
              "      <td>-67895.197449</td>\n",
              "      <td>...</td>\n",
              "      <td>-66917.610704</td>\n",
              "      <td>12590.850491</td>\n",
              "      <td>17</td>\n",
              "      <td>-0.003552</td>\n",
              "      <td>-0.000355</td>\n",
              "      <td>-0.127492</td>\n",
              "      <td>-0.017757</td>\n",
              "      <td>-0.041692</td>\n",
              "      <td>-0.038170</td>\n",
              "      <td>0.046981</td>\n",
              "    </tr>\n",
              "    <tr>\n",
              "      <th>17</th>\n",
              "      <td>1.445448</td>\n",
              "      <td>0.065841</td>\n",
              "      <td>0.039223</td>\n",
              "      <td>0.001714</td>\n",
              "      <td>4</td>\n",
              "      <td>10</td>\n",
              "      <td>False</td>\n",
              "      <td>{'bootstrap': False, 'max_features': 4, 'n_est...</td>\n",
              "      <td>-64040.365125</td>\n",
              "      <td>-59612.917184</td>\n",
              "      <td>...</td>\n",
              "      <td>-56585.418227</td>\n",
              "      <td>11005.975508</td>\n",
              "      <td>11</td>\n",
              "      <td>-0.002653</td>\n",
              "      <td>-0.007697</td>\n",
              "      <td>-0.026590</td>\n",
              "      <td>-0.004571</td>\n",
              "      <td>-0.027420</td>\n",
              "      <td>-0.013786</td>\n",
              "      <td>0.010916</td>\n",
              "    </tr>\n",
              "  </tbody>\n",
              "</table>\n",
              "<p>18 rows × 23 columns</p>\n",
              "</div>"
            ],
            "text/plain": [
              "    mean_fit_time  std_fit_time  mean_score_time  std_score_time  \\\n",
              "0        0.475563      0.186350         0.019815        0.008325   \n",
              "1        1.927235      0.590528         0.068919        0.023186   \n",
              "2        4.097155      0.502387         0.130192        0.026415   \n",
              "3        0.397753      0.022276         0.010794        0.000746   \n",
              "4        1.309987      0.048819         0.032837        0.001681   \n",
              "5        4.152005      0.165723         0.098600        0.001217   \n",
              "6        0.552599      0.031687         0.012826        0.002206   \n",
              "7        1.725500      0.061812         0.033750        0.001188   \n",
              "8        5.995064      0.684267         0.123772        0.015273   \n",
              "9        0.753977      0.034531         0.013808        0.003920   \n",
              "10       3.149594      0.927083         0.058581        0.022371   \n",
              "11       7.091362      0.285902         0.127147        0.024675   \n",
              "12       0.375116      0.033255         0.014461        0.002967   \n",
              "13       1.161403      0.102107         0.039203        0.003923   \n",
              "14       0.379587      0.039441         0.012006        0.000634   \n",
              "15       1.305344      0.027948         0.043224        0.009428   \n",
              "16       0.449407      0.053543         0.012692        0.000863   \n",
              "17       1.445448      0.065841         0.039223        0.001714   \n",
              "\n",
              "   param_max_features param_n_estimators param_bootstrap  \\\n",
              "0                   2                  3             NaN   \n",
              "1                   2                 10             NaN   \n",
              "2                   2                 30             NaN   \n",
              "3                   4                  3             NaN   \n",
              "4                   4                 10             NaN   \n",
              "5                   4                 30             NaN   \n",
              "6                   6                  3             NaN   \n",
              "7                   6                 10             NaN   \n",
              "8                   6                 30             NaN   \n",
              "9                   8                  3             NaN   \n",
              "10                  8                 10             NaN   \n",
              "11                  8                 30             NaN   \n",
              "12                  2                  3           False   \n",
              "13                  2                 10           False   \n",
              "14                  3                  3           False   \n",
              "15                  3                 10           False   \n",
              "16                  4                  3           False   \n",
              "17                  4                 10           False   \n",
              "\n",
              "                                               params  split0_test_score  \\\n",
              "0              {'max_features': 2, 'n_estimators': 3}      -71980.948706   \n",
              "1             {'max_features': 2, 'n_estimators': 10}      -62525.927086   \n",
              "2             {'max_features': 2, 'n_estimators': 30}      -59223.921598   \n",
              "3              {'max_features': 4, 'n_estimators': 3}      -74561.387127   \n",
              "4             {'max_features': 4, 'n_estimators': 10}      -61742.694755   \n",
              "5             {'max_features': 4, 'n_estimators': 30}      -58788.742058   \n",
              "6              {'max_features': 6, 'n_estimators': 3}      -67498.141126   \n",
              "7             {'max_features': 6, 'n_estimators': 10}      -63924.699650   \n",
              "8             {'max_features': 6, 'n_estimators': 30}      -61612.321185   \n",
              "9              {'max_features': 8, 'n_estimators': 3}      -78462.033282   \n",
              "10            {'max_features': 8, 'n_estimators': 10}      -63998.953650   \n",
              "11            {'max_features': 8, 'n_estimators': 30}      -61331.606549   \n",
              "12  {'bootstrap': False, 'max_features': 2, 'n_est...      -72748.101580   \n",
              "13  {'bootstrap': False, 'max_features': 2, 'n_est...      -64401.611753   \n",
              "14  {'bootstrap': False, 'max_features': 3, 'n_est...      -78439.147987   \n",
              "15  {'bootstrap': False, 'max_features': 3, 'n_est...      -63222.425770   \n",
              "16  {'bootstrap': False, 'max_features': 4, 'n_est...      -74088.282053   \n",
              "17  {'bootstrap': False, 'max_features': 4, 'n_est...      -64040.365125   \n",
              "\n",
              "    split1_test_score  ...  mean_test_score  std_test_score  rank_test_score  \\\n",
              "0       -67447.421660  ...    -63499.334293    10135.124182               14   \n",
              "1       -60705.914050  ...    -54496.865764    11536.842806                7   \n",
              "2       -56907.774463  ...    -50749.170201    10755.885786                2   \n",
              "3       -64567.323646  ...    -62987.582513    10473.594641               13   \n",
              "4       -60894.695647  ...    -54206.583971    10134.873001                5   \n",
              "5       -57115.333640  ...    -50559.092130    10664.020243                1   \n",
              "6       -73198.687846  ...    -62834.500963     9761.742233               12   \n",
              "7       -61616.160453  ...    -55227.562253    12070.747829               10   \n",
              "8       -57804.087795  ...    -52069.767314    11586.295077                4   \n",
              "9       -74789.125401  ...    -66116.642829    12368.657579               16   \n",
              "10      -53522.452462  ...    -54474.626112    10854.169163                6   \n",
              "11      -54558.701414  ...    -51261.578392    11376.311641                3   \n",
              "12      -77098.113341  ...    -65204.500817    11243.418463               15   \n",
              "13      -61650.947278  ...    -55194.698321    10583.007075                9   \n",
              "14      -92926.150501  ...    -68385.893197    17658.052574               18   \n",
              "15      -62054.932882  ...    -54651.945733    10941.136560                8   \n",
              "16      -67895.197449  ...    -66917.610704    12590.850491               17   \n",
              "17      -59612.917184  ...    -56585.418227    11005.975508               11   \n",
              "\n",
              "    split0_train_score  split1_train_score  split2_train_score  \\\n",
              "0        -15410.949948       -18657.364438       -17492.800607   \n",
              "1        -10532.013580       -11082.710198       -10369.220021   \n",
              "2         -7739.900028        -8748.096182        -8831.814405   \n",
              "3        -16025.449225       -17626.134651       -17154.740441   \n",
              "4        -10479.572958       -11603.978181       -10422.920040   \n",
              "5         -7865.399828        -8929.745571        -8982.476663   \n",
              "6        -17840.800906       -18192.912830       -18190.661474   \n",
              "7        -11567.892884       -11397.467175       -10470.614616   \n",
              "8         -8118.310234        -8882.239891        -9106.092140   \n",
              "9        -17643.527573       -16742.521677       -19748.454243   \n",
              "10       -10589.154363       -11049.447983       -11114.783665   \n",
              "11        -8209.825553        -8760.822528        -9362.778018   \n",
              "12           -0.000000           -0.126614           -0.000710   \n",
              "13           -0.009351           -0.016106           -0.093606   \n",
              "14           -0.027795           -0.002841           -0.000710   \n",
              "15           -0.004136           -0.236114           -0.066012   \n",
              "16           -0.003552           -0.000355           -0.127492   \n",
              "17           -0.002653           -0.007697           -0.026590   \n",
              "\n",
              "    split3_train_score  split4_train_score  mean_train_score  std_train_score  \n",
              "0        -17552.534059       -17981.071626     -17418.944135      1086.739515  \n",
              "1        -11588.643806       -10337.321200     -10781.981761       484.091026  \n",
              "2         -9763.947649        -8742.740544      -8765.299762       640.932336  \n",
              "3        -20609.000096       -16907.093890     -17664.483661      1561.509461  \n",
              "4        -12009.583145       -10803.049626     -11063.820790       633.456761  \n",
              "5         -9780.795112        -8775.938207      -8866.871076       610.538851  \n",
              "6        -18431.750154       -16387.575042     -17808.740081       735.164222  \n",
              "7        -11882.994464       -10118.121505     -11087.418129       675.264485  \n",
              "8         -9846.026492        -8796.467786      -8949.827309       556.255251  \n",
              "9        -19358.724758       -16383.303114     -17975.306273      1358.102312  \n",
              "10       -11858.303202        -9896.348390     -10901.607521       646.643703  \n",
              "11       -10065.026611        -8630.861973      -9005.862937       645.532664  \n",
              "12           -0.053982           -0.008701         -0.038001         0.048581  \n",
              "13           -0.034410           -0.014967         -0.033688         0.031121  \n",
              "14           -0.071029           -0.407381         -0.101951         0.154800  \n",
              "15           -0.014506           -0.069691         -0.078092         0.083307  \n",
              "16           -0.017757           -0.041692         -0.038170         0.046981  \n",
              "17           -0.004571           -0.027420         -0.013786         0.010916  \n",
              "\n",
              "[18 rows x 23 columns]"
            ]
          },
          "execution_count": 136,
          "metadata": {},
          "output_type": "execute_result"
        }
      ],
      "source": [
        "pd.DataFrame(grid_search.cv_results_)"
      ]
    },
    {
      "cell_type": "markdown",
      "metadata": {
        "id": "HC1d0C-QrOzg"
      },
      "source": [
        "###Now we will use randomized search."
      ]
    },
    {
      "cell_type": "code",
      "execution_count": 137,
      "metadata": {
        "colab": {
          "base_uri": "https://localhost:8080/",
          "height": 118
        },
        "id": "wg2ZqcYTcOV9",
        "outputId": "b220745d-ede8-41bc-a9cd-0e2fe2a598c4"
      },
      "outputs": [
        {
          "data": {
            "text/html": [
              "<style>#sk-container-id-11 {color: black;background-color: white;}#sk-container-id-11 pre{padding: 0;}#sk-container-id-11 div.sk-toggleable {background-color: white;}#sk-container-id-11 label.sk-toggleable__label {cursor: pointer;display: block;width: 100%;margin-bottom: 0;padding: 0.3em;box-sizing: border-box;text-align: center;}#sk-container-id-11 label.sk-toggleable__label-arrow:before {content: \"▸\";float: left;margin-right: 0.25em;color: #696969;}#sk-container-id-11 label.sk-toggleable__label-arrow:hover:before {color: black;}#sk-container-id-11 div.sk-estimator:hover label.sk-toggleable__label-arrow:before {color: black;}#sk-container-id-11 div.sk-toggleable__content {max-height: 0;max-width: 0;overflow: hidden;text-align: left;background-color: #f0f8ff;}#sk-container-id-11 div.sk-toggleable__content pre {margin: 0.2em;color: black;border-radius: 0.25em;background-color: #f0f8ff;}#sk-container-id-11 input.sk-toggleable__control:checked~div.sk-toggleable__content {max-height: 200px;max-width: 100%;overflow: auto;}#sk-container-id-11 input.sk-toggleable__control:checked~label.sk-toggleable__label-arrow:before {content: \"▾\";}#sk-container-id-11 div.sk-estimator input.sk-toggleable__control:checked~label.sk-toggleable__label {background-color: #d4ebff;}#sk-container-id-11 div.sk-label input.sk-toggleable__control:checked~label.sk-toggleable__label {background-color: #d4ebff;}#sk-container-id-11 input.sk-hidden--visually {border: 0;clip: rect(1px 1px 1px 1px);clip: rect(1px, 1px, 1px, 1px);height: 1px;margin: -1px;overflow: hidden;padding: 0;position: absolute;width: 1px;}#sk-container-id-11 div.sk-estimator {font-family: monospace;background-color: #f0f8ff;border: 1px dotted black;border-radius: 0.25em;box-sizing: border-box;margin-bottom: 0.5em;}#sk-container-id-11 div.sk-estimator:hover {background-color: #d4ebff;}#sk-container-id-11 div.sk-parallel-item::after {content: \"\";width: 100%;border-bottom: 1px solid gray;flex-grow: 1;}#sk-container-id-11 div.sk-label:hover label.sk-toggleable__label {background-color: #d4ebff;}#sk-container-id-11 div.sk-serial::before {content: \"\";position: absolute;border-left: 1px solid gray;box-sizing: border-box;top: 0;bottom: 0;left: 50%;z-index: 0;}#sk-container-id-11 div.sk-serial {display: flex;flex-direction: column;align-items: center;background-color: white;padding-right: 0.2em;padding-left: 0.2em;position: relative;}#sk-container-id-11 div.sk-item {position: relative;z-index: 1;}#sk-container-id-11 div.sk-parallel {display: flex;align-items: stretch;justify-content: center;background-color: white;position: relative;}#sk-container-id-11 div.sk-item::before, #sk-container-id-11 div.sk-parallel-item::before {content: \"\";position: absolute;border-left: 1px solid gray;box-sizing: border-box;top: 0;bottom: 0;left: 50%;z-index: -1;}#sk-container-id-11 div.sk-parallel-item {display: flex;flex-direction: column;z-index: 1;position: relative;background-color: white;}#sk-container-id-11 div.sk-parallel-item:first-child::after {align-self: flex-end;width: 50%;}#sk-container-id-11 div.sk-parallel-item:last-child::after {align-self: flex-start;width: 50%;}#sk-container-id-11 div.sk-parallel-item:only-child::after {width: 0;}#sk-container-id-11 div.sk-dashed-wrapped {border: 1px dashed gray;margin: 0 0.4em 0.5em 0.4em;box-sizing: border-box;padding-bottom: 0.4em;background-color: white;}#sk-container-id-11 div.sk-label label {font-family: monospace;font-weight: bold;display: inline-block;line-height: 1.2em;}#sk-container-id-11 div.sk-label-container {text-align: center;}#sk-container-id-11 div.sk-container {/* jupyter's `normalize.less` sets `[hidden] { display: none; }` but bootstrap.min.css set `[hidden] { display: none !important; }` so we also need the `!important` here to be able to override the default hidden behavior on the sphinx rendered scikit-learn.org. See: https://github.com/scikit-learn/scikit-learn/issues/21755 */display: inline-block !important;position: relative;}#sk-container-id-11 div.sk-text-repr-fallback {display: none;}</style><div id=\"sk-container-id-11\" class=\"sk-top-container\"><div class=\"sk-text-repr-fallback\"><pre>RandomizedSearchCV(cv=5, estimator=RandomForestRegressor(random_state=42),\n",
              "                   param_distributions={&#x27;max_features&#x27;: &lt;scipy.stats._distn_infrastructure.rv_discrete_frozen object at 0x000001E44D180390&gt;,\n",
              "                                        &#x27;n_estimators&#x27;: &lt;scipy.stats._distn_infrastructure.rv_discrete_frozen object at 0x000001E44CADFD90&gt;},\n",
              "                   random_state=42, scoring=&#x27;neg_mean_absolute_error&#x27;)</pre><b>In a Jupyter environment, please rerun this cell to show the HTML representation or trust the notebook. <br />On GitHub, the HTML representation is unable to render, please try loading this page with nbviewer.org.</b></div><div class=\"sk-container\" hidden><div class=\"sk-item sk-dashed-wrapped\"><div class=\"sk-label-container\"><div class=\"sk-label sk-toggleable\"><input class=\"sk-toggleable__control sk-hidden--visually\" id=\"sk-estimator-id-13\" type=\"checkbox\" ><label for=\"sk-estimator-id-13\" class=\"sk-toggleable__label sk-toggleable__label-arrow\">RandomizedSearchCV</label><div class=\"sk-toggleable__content\"><pre>RandomizedSearchCV(cv=5, estimator=RandomForestRegressor(random_state=42),\n",
              "                   param_distributions={&#x27;max_features&#x27;: &lt;scipy.stats._distn_infrastructure.rv_discrete_frozen object at 0x000001E44D180390&gt;,\n",
              "                                        &#x27;n_estimators&#x27;: &lt;scipy.stats._distn_infrastructure.rv_discrete_frozen object at 0x000001E44CADFD90&gt;},\n",
              "                   random_state=42, scoring=&#x27;neg_mean_absolute_error&#x27;)</pre></div></div></div><div class=\"sk-parallel\"><div class=\"sk-parallel-item\"><div class=\"sk-item\"><div class=\"sk-label-container\"><div class=\"sk-label sk-toggleable\"><input class=\"sk-toggleable__control sk-hidden--visually\" id=\"sk-estimator-id-14\" type=\"checkbox\" ><label for=\"sk-estimator-id-14\" class=\"sk-toggleable__label sk-toggleable__label-arrow\">estimator: RandomForestRegressor</label><div class=\"sk-toggleable__content\"><pre>RandomForestRegressor(random_state=42)</pre></div></div></div><div class=\"sk-serial\"><div class=\"sk-item\"><div class=\"sk-estimator sk-toggleable\"><input class=\"sk-toggleable__control sk-hidden--visually\" id=\"sk-estimator-id-15\" type=\"checkbox\" ><label for=\"sk-estimator-id-15\" class=\"sk-toggleable__label sk-toggleable__label-arrow\">RandomForestRegressor</label><div class=\"sk-toggleable__content\"><pre>RandomForestRegressor(random_state=42)</pre></div></div></div></div></div></div></div></div></div></div>"
            ],
            "text/plain": [
              "RandomizedSearchCV(cv=5, estimator=RandomForestRegressor(random_state=42),\n",
              "                   param_distributions={'max_features': <scipy.stats._distn_infrastructure.rv_discrete_frozen object at 0x000001E44D180390>,\n",
              "                                        'n_estimators': <scipy.stats._distn_infrastructure.rv_discrete_frozen object at 0x000001E44CADFD90>},\n",
              "                   random_state=42, scoring='neg_mean_absolute_error')"
            ]
          },
          "execution_count": 137,
          "metadata": {},
          "output_type": "execute_result"
        }
      ],
      "source": [
        "from sklearn.model_selection import RandomizedSearchCV\n",
        "from scipy.stats import randint\n",
        "\n",
        "param_distribs = {\n",
        "        'n_estimators': randint(low=1, high=200),\n",
        "        'max_features': randint(low=1, high=8),\n",
        "    }\n",
        "\n",
        "forest_reg = RandomForestRegressor(random_state=42)\n",
        "rnd_search = RandomizedSearchCV(forest_reg, param_distributions=param_distribs,\n",
        "                                n_iter=10, cv=5, scoring='neg_mean_absolute_error', random_state=42)\n",
        "rnd_search.fit(housing_prepared, housing_labels)"
      ]
    },
    {
      "cell_type": "code",
      "execution_count": 138,
      "metadata": {
        "colab": {
          "base_uri": "https://localhost:8080/"
        },
        "id": "5Aq3o8I1cOV_",
        "outputId": "072c628f-ea6b-40c5-c6c6-e59ab0958c2f"
      },
      "outputs": [
        {
          "name": "stdout",
          "output_type": "stream",
          "text": [
            "65.664669156494 {'max_features': 7, 'n_estimators': 180}\n",
            "67.6607368463943 {'max_features': 5, 'n_estimators': 15}\n",
            "64.81952713853116 {'max_features': 3, 'n_estimators': 72}\n",
            "67.01719973771604 {'max_features': 5, 'n_estimators': 21}\n",
            "65.78442155789173 {'max_features': 7, 'n_estimators': 122}\n",
            "64.81260776047186 {'max_features': 3, 'n_estimators': 75}\n",
            "64.71702678700771 {'max_features': 3, 'n_estimators': 88}\n",
            "65.2477954257051 {'max_features': 5, 'n_estimators': 100}\n",
            "64.48687431417818 {'max_features': 3, 'n_estimators': 150}\n",
            "78.51205141825383 {'max_features': 5, 'n_estimators': 2}\n"
          ]
        }
      ],
      "source": [
        "cvres = rnd_search.cv_results_\n",
        "for mean_score, params in zip(cvres[\"mean_test_score\"], cvres[\"params\"]):\n",
        "    print(-mean_score, params)"
      ]
    },
    {
      "cell_type": "markdown",
      "metadata": {
        "id": "jyl_4ADcDlYx"
      },
      "source": [
        "It turns out that the random search obtains better results than the grid search."
      ]
    },
    {
      "cell_type": "markdown",
      "metadata": {
        "id": "ih89hxDM9S06"
      },
      "source": [
        "We can find the relative importance of each attribute for making accurate predictions:"
      ]
    },
    {
      "cell_type": "code",
      "execution_count": 139,
      "metadata": {
        "colab": {
          "base_uri": "https://localhost:8080/"
        },
        "id": "_jubBdircOWB",
        "outputId": "7eca8770-5b45-48bd-e086-e677036d444c"
      },
      "outputs": [
        {
          "data": {
            "text/plain": [
              "array([0.22762141, 0.25645071, 0.11137921, 0.05373247, 0.07718434,\n",
              "       0.06031462, 0.129312  , 0.00050812, 0.00608509, 0.01145925,\n",
              "       0.00364239, 0.00127442, 0.03547215, 0.0233731 , 0.00219071])"
            ]
          },
          "execution_count": 139,
          "metadata": {},
          "output_type": "execute_result"
        }
      ],
      "source": [
        "feature_importances = rnd_search.best_estimator_.feature_importances_\n",
        "feature_importances"
      ]
    },
    {
      "cell_type": "markdown",
      "metadata": {
        "id": "j0C2aVVr8EB9"
      },
      "source": [
        "Let's display the importance scores next to their corresponding attribute names:"
      ]
    },
    {
      "cell_type": "code",
      "execution_count": 140,
      "metadata": {
        "colab": {
          "base_uri": "https://localhost:8080/"
        },
        "id": "PQVEqNg-cOWJ",
        "outputId": "e927ce2d-1b64-44db-bc28-8c132e81278a"
      },
      "outputs": [
        {
          "data": {
            "text/plain": [
              "[(0.25645071274327425, 'longitude'),\n",
              " (0.22762141152267262, 'latitude'),\n",
              " (0.1293119974985129, 'availability_365'),\n",
              " (0.11137921040788086, 'minimum_nights'),\n",
              " (0.07718434466546106, 'reviews_per_month'),\n",
              " (0.0603146215514653, 'calculated_host_listings_count'),\n",
              " (0.05373247407973237, 'number_of_reviews'),\n",
              " (0.03547214712308473, 'Entire home/apt'),\n",
              " (0.023373100497773983, 'Private room'),\n",
              " (0.011459248327803612, 'Manhattan'),\n",
              " (0.00608508848377279, 'Brooklyn'),\n",
              " (0.0036423850471720637, 'Queens'),\n",
              " (0.0021907138000698437, 'Shared room'),\n",
              " (0.001274421688259246, 'Staten Island'),\n",
              " (0.0005081225630644824, 'Bronx')]"
            ]
          },
          "execution_count": 140,
          "metadata": {},
          "output_type": "execute_result"
        }
      ],
      "source": [
        "cat_encoder = full_pipeline.named_transformers_[\"cat\"]\n",
        "cat_one_hot_attribs = list(cat_encoder.categories_[0]) + list(cat_encoder.categories_[1])\n",
        "attributes = num_attribs + cat_one_hot_attribs\n",
        "sorted(zip(feature_importances, attributes), reverse=True)"
      ]
    },
    {
      "cell_type": "markdown",
      "metadata": {
        "id": "fCpMkC7RgVtd"
      },
      "source": [
        "##Evaluate model on the Test Set (10 points)\n",
        "\n",
        "Fill in your code below."
      ]
    },
    {
      "cell_type": "code",
      "execution_count": 142,
      "metadata": {
        "id": "tRwF5mj_cOWF"
      },
      "outputs": [],
      "source": [
        "final_model = grid_search.best_estimator_\n",
        "\n",
        "X_test = strat_test_set.drop(\"price\", axis=1)\n",
        "y_test = strat_test_set[\"price\"].copy()\n",
        "\n",
        "X_test_prepared = full_pipeline.transform(X_test)\n",
        "final_predictions = final_model.predict(X_test_prepared)\n",
        "\n",
        "final_mae = mean_absolute_error(y_test, final_predictions)\n",
        "final_rmae = np.sqrt(final_mae)"
      ]
    },
    {
      "cell_type": "code",
      "execution_count": 143,
      "metadata": {
        "colab": {
          "base_uri": "https://localhost:8080/"
        },
        "id": "VJYrsmO8cOWH",
        "outputId": "288129b7-5050-4048-ec47-e12e30fcd5c0"
      },
      "outputs": [
        {
          "data": {
            "text/plain": [
              "66.63757798915823"
            ]
          },
          "execution_count": 143,
          "metadata": {},
          "output_type": "execute_result"
        }
      ],
      "source": [
        "final_mae"
      ]
    },
    {
      "cell_type": "markdown",
      "metadata": {
        "id": "ozTNUzWzHHIq"
      },
      "source": [
        "Let's have some more detailed look at the predictions. First we look at the differences."
      ]
    },
    {
      "cell_type": "code",
      "execution_count": 144,
      "metadata": {
        "id": "2i5aZRNBwN4c"
      },
      "outputs": [],
      "source": [
        "diff = final_predictions - y_test"
      ]
    },
    {
      "cell_type": "code",
      "execution_count": 145,
      "metadata": {
        "colab": {
          "base_uri": "https://localhost:8080/"
        },
        "id": "n2xgUZHahMli",
        "outputId": "75a81e21-90ab-405a-c361-03a37100d247"
      },
      "outputs": [
        {
          "data": {
            "text/plain": [
              "count    9777.000000\n",
              "mean        1.523739\n",
              "std       204.070942\n",
              "min     -9833.033333\n",
              "25%       -13.266667\n",
              "50%        11.333333\n",
              "75%        41.433333\n",
              "max      2033.866667\n",
              "Name: price, dtype: float64"
            ]
          },
          "execution_count": 145,
          "metadata": {},
          "output_type": "execute_result"
        }
      ],
      "source": [
        "pd.Series(diff).describe()"
      ]
    },
    {
      "cell_type": "code",
      "execution_count": 146,
      "metadata": {
        "colab": {
          "base_uri": "https://localhost:8080/",
          "height": 448
        },
        "id": "-AughdUOlUfK",
        "outputId": "48d042f2-f903-4f67-b3cf-4b331b0d1b34"
      },
      "outputs": [
        {
          "data": {
            "text/plain": [
              "<AxesSubplot: >"
            ]
          },
          "execution_count": 146,
          "metadata": {},
          "output_type": "execute_result"
        },
        {
          "data": {
            "image/png": "[encoded data removed]",
            "text/plain": [
              "<Figure size 640x480 with 1 Axes>"
            ]
          },
          "metadata": {},
          "output_type": "display_data"
        }
      ],
      "source": [
        "pd.Series(diff).hist(bins=100)"
      ]
    },
    {
      "cell_type": "markdown",
      "metadata": {
        "id": "X-tHz4IiHTYp"
      },
      "source": [
        "Next, we obtain the 95% of the middle predictions and examine them."
      ]
    },
    {
      "cell_type": "code",
      "execution_count": 147,
      "metadata": {
        "colab": {
          "base_uri": "https://localhost:8080/"
        },
        "id": "RT495Pieh9r_",
        "outputId": "6b0658aa-36c3-4edf-a491-8275dcfceff8"
      },
      "outputs": [
        {
          "name": "stderr",
          "output_type": "stream",
          "text": [
            "C:\\Users\\varsh\\AppData\\Local\\Temp\\ipykernel_10200\\1477289244.py:12: FutureWarning: The behavior of `series[i:j]` with an integer-dtype index is deprecated. In a future version, this will be treated as *label-based* indexing, consistent with e.g. `series[i]` lookups. To retain the old behavior, use `series.iloc[i:j]`. To get the future behavior, use `series.loc[i:j]`.\n",
            "  middle_95_percent_data = sorted_series[start_index:end_index]\n"
          ]
        },
        {
          "data": {
            "text/plain": [
              "count    9288.000000\n",
              "mean       10.605304\n",
              "std        59.120513\n",
              "min      -228.900000\n",
              "25%       -11.633333\n",
              "50%        11.333333\n",
              "75%        39.200000\n",
              "max       194.600000\n",
              "Name: price, dtype: float64"
            ]
          },
          "execution_count": 147,
          "metadata": {},
          "output_type": "execute_result"
        }
      ],
      "source": [
        "import pandas as pd\n",
        "\n",
        "# Step 1: Sort the Series\n",
        "sorted_series = pd.Series(diff).sort_values()\n",
        "\n",
        "# Step 2: Calculate the start and end indices for the middle 95 percent\n",
        "total_elements = len(sorted_series)\n",
        "start_index = int(total_elements * 0.025)  # Start index of the middle 95%\n",
        "end_index = int(total_elements * 0.975)    # End index of the middle 95%\n",
        "\n",
        "# Step 3: Slice the Series to get the middle 95 percent of data\n",
        "middle_95_percent_data = sorted_series[start_index:end_index]\n",
        "\n",
        "middle_95_percent_data.describe()\n"
      ]
    },
    {
      "cell_type": "code",
      "execution_count": null,
      "metadata": {
        "colab": {
          "base_uri": "https://localhost:8080/",
          "height": 448
        },
        "id": "RTB6U3zaiZzk",
        "outputId": "e5f3fb0d-e9c2-4b2b-9e7c-ae6b4c0df0be"
      },
      "outputs": [
        {
          "data": {
            "text/plain": [
              "<Axes: >"
            ]
          },
          "execution_count": 73,
          "metadata": {},
          "output_type": "execute_result"
        },
        {
          "data": {
            "image/png": "[encoded data removed]",
            "text/plain": [
              "<Figure size 640x480 with 1 Axes>"
            ]
          },
          "metadata": {},
          "output_type": "display_data"
        }
      ],
      "source": [
        "middle_95_percent_data.plot.box()"
      ]
    },
    {
      "cell_type": "markdown",
      "metadata": {
        "id": "pL8KdxYjHdh0"
      },
      "source": [
        "Next, we look at the absolute diffrences. We can see that most of time, the errors are within 29 dollars."
      ]
    },
    {
      "cell_type": "code",
      "execution_count": 148,
      "metadata": {
        "colab": {
          "base_uri": "https://localhost:8080/"
        },
        "id": "iXgBB6o2jI29",
        "outputId": "24b71245-1941-4e50-acd8-45102ba67bd6"
      },
      "outputs": [
        {
          "data": {
            "text/plain": [
              "count    9288.000000\n",
              "mean       42.390992\n",
              "std        42.550323\n",
              "min         0.000000\n",
              "25%        11.400000\n",
              "50%        27.816667\n",
              "75%        58.733333\n",
              "max       228.900000\n",
              "Name: price, dtype: float64"
            ]
          },
          "execution_count": 148,
          "metadata": {},
          "output_type": "execute_result"
        }
      ],
      "source": [
        "abs(middle_95_percent_data).describe()"
      ]
    },
    {
      "cell_type": "code",
      "execution_count": 149,
      "metadata": {
        "colab": {
          "base_uri": "https://localhost:8080/",
          "height": 448
        },
        "id": "w9vaiWESkVZP",
        "outputId": "fb16f728-fdc3-408a-d759-8e36890ef08a"
      },
      "outputs": [
        {
          "data": {
            "text/plain": [
              "<AxesSubplot: >"
            ]
          },
          "execution_count": 149,
          "metadata": {},
          "output_type": "execute_result"
        },
        {
          "data": {
            "image/png": "[encoded data removed]",
            "text/plain": [
              "<Figure size 640x480 with 1 Axes>"
            ]
          },
          "metadata": {},
          "output_type": "display_data"
        }
      ],
      "source": [
        "middle_95_percent_data.hist()"
      ]
    },
    {
      "cell_type": "code",
      "execution_count": null,
      "metadata": {
        "id": "RD2kp_hFkooV"
      },
      "outputs": [],
      "source": []
    }
  ],
  "metadata": {
    "colab": {
      "machine_shape": "hm",
      "provenance": []
    },
    "kernelspec": {
      "display_name": "Python 3",
      "name": "python3"
    },
    "language_info": {
      "codemirror_mode": {
        "name": "ipython",
        "version": 3
      },
      "file_extension": ".py",
      "mimetype": "text/x-python",
      "name": "python",
      "nbconvert_exporter": "python",
      "pygments_lexer": "ipython3",
      "version": "3.11.0"
    }
  },
  "nbformat": 4,
  "nbformat_minor": 0
}
