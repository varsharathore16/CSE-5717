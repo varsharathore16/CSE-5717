{
  "cells": [
    {
      "cell_type": "markdown",
      "metadata": {
        "id": "fcM2-IAEr9r_"
      },
      "source": [
        "Fashion-MNIST is a dataset of Zalando's article images—consisting of a training set of 60,000 examples and a test set of 10,000 examples. Each example is a 28x28 grayscale image, associated with a label from 10 classes.  "
      ]
    },
    {
      "cell_type": "markdown",
      "metadata": {
        "id": "_fo1BKg2sATz"
      },
      "source": [
        "In this assignment, we\n",
        "- build a MLP classifier for the Fashion-MNIST dataset.\n",
        "- use PCA to reduce the dimensionality of the dataset, and make sure we preserve 95% of the explained variance. (20 points)\n",
        "- train a classifier using the dimensionality reduced dataset with the same network toplogy as the previous classfier,  and compare the classification accuracy result with the one using the original dataset. (10 points)\n",
        "- check whether we observe anything surprising. (10 points)\n",
        "- follow and improve the example from the text to fine tune the neural network hyperparameters using RandomizedSearchCV. Note to use the dataset after the PCA step. This will make the search less time consuming. (40 points)\n",
        "- report the test result using the best model obtained from the randomized search. Show the summary of the model. Compare this result with the previous results. (20 points)"
      ]
    },
    {
      "cell_type": "code",
      "execution_count": 2,
      "metadata": {
        "collapsed": true,
        "id": "mgaxd3XPmqtj"
      },
      "outputs": [],
      "source": [
        "import numpy as np\n",
        "import os\n",
        "\n",
        "# To plot pretty figures\n",
        "%matplotlib inline\n",
        "import matplotlib\n",
        "import matplotlib.pyplot as plt\n",
        "plt.rcParams['axes.labelsize'] = 14\n",
        "plt.rcParams['xtick.labelsize'] = 12\n",
        "plt.rcParams['ytick.labelsize'] = 12"
      ]
    },
    {
      "cell_type": "markdown",
      "metadata": {
        "id": "D2pPMy5tshtB"
      },
      "source": [
        "Read the data."
      ]
    },
    {
      "cell_type": "code",
      "execution_count": 3,
      "metadata": {
        "collapsed": true,
        "id": "xbgSB7d9mqtl"
      },
      "outputs": [],
      "source": [
        "import tensorflow as tf\n",
        "fashion_mnist = tf.keras.datasets.fashion_mnist\n",
        "(X_train_full, y_train_full), (X_test, y_test) = fashion_mnist.load_data()"
      ]
    },
    {
      "cell_type": "markdown",
      "metadata": {
        "id": "YCt6FpnysoUu"
      },
      "source": [
        "Set random seeds."
      ]
    },
    {
      "cell_type": "code",
      "execution_count": 4,
      "metadata": {
        "id": "a2jLrBUs6Kda"
      },
      "outputs": [],
      "source": [
        "np.random.seed(42)\n",
        "tf.random.set_seed(42)"
      ]
    },
    {
      "cell_type": "code",
      "execution_count": 5,
      "metadata": {
        "id": "m1eEiOeUmqtl"
      },
      "outputs": [],
      "source": [
        "from keras import models\n",
        "from keras import layers\n",
        "\n",
        "network = models.Sequential()\n",
        "network.add(layers.Dense(64, activation='relu', input_shape=(28 * 28,)))\n",
        "network.add(layers.Dense(10, activation='softmax'))"
      ]
    },
    {
      "cell_type": "code",
      "execution_count": 6,
      "metadata": {
        "collapsed": true,
        "id": "DmTFk8lNmqtl"
      },
      "outputs": [],
      "source": [
        "network.compile(optimizer='rmsprop',\n",
        "                loss='categorical_crossentropy',\n",
        "                metrics=['accuracy'])"
      ]
    },
    {
      "cell_type": "code",
      "execution_count": 7,
      "metadata": {
        "collapsed": true,
        "id": "fgGewtAHmqtl"
      },
      "outputs": [],
      "source": [
        "X_train_full = X_train_full.reshape((60000, 28 * 28))\n",
        "X_train_full = X_train_full.astype('float32') / 255\n",
        "\n",
        "X_test = X_test.reshape((10000, 28 * 28))\n",
        "X_test = X_test.astype('float32') / 255"
      ]
    },
    {
      "cell_type": "code",
      "execution_count": 8,
      "metadata": {
        "collapsed": true,
        "id": "cvMjBoR_mqtm"
      },
      "outputs": [],
      "source": [
        "from tensorflow.keras.utils import to_categorical\n",
        "\n",
        "y_train_full = to_categorical(y_train_full)\n",
        "y_test = to_categorical(y_test)"
      ]
    },
    {
      "cell_type": "code",
      "execution_count": 9,
      "metadata": {
        "id": "Rc0oAXPt7iO7"
      },
      "outputs": [],
      "source": [
        "X_valid = X_train_full[:5000]\n",
        "y_valid = y_train_full[:5000]\n",
        "X_train = X_train_full[5000:]\n",
        "y_train = y_train_full[5000:]"
      ]
    },
    {
      "cell_type": "code",
      "execution_count": 10,
      "metadata": {
        "colab": {
          "base_uri": "https://localhost:8080/"
        },
        "id": "V3qWRp4Mmqtm",
        "outputId": "75f8d978-8479-4ba8-e897-b1e373e4a90e"
      },
      "outputs": [
        {
          "name": "stdout",
          "output_type": "stream",
          "text": [
            "Epoch 1/20\n",
            "430/430 [==============================] - 3s 4ms/step - loss: 0.6205 - accuracy: 0.7866 - val_loss: 0.4413 - val_accuracy: 0.8518\n",
            "Epoch 2/20\n",
            "430/430 [==============================] - 1s 3ms/step - loss: 0.4434 - accuracy: 0.8435 - val_loss: 0.4134 - val_accuracy: 0.8502\n",
            "Epoch 3/20\n",
            "430/430 [==============================] - 1s 3ms/step - loss: 0.4006 - accuracy: 0.8566 - val_loss: 0.4092 - val_accuracy: 0.8510\n",
            "Epoch 4/20\n",
            "430/430 [==============================] - 1s 3ms/step - loss: 0.3711 - accuracy: 0.8671 - val_loss: 0.3696 - val_accuracy: 0.8642\n",
            "Epoch 5/20\n",
            "430/430 [==============================] - 1s 3ms/step - loss: 0.3514 - accuracy: 0.8727 - val_loss: 0.3644 - val_accuracy: 0.8692\n",
            "Epoch 6/20\n",
            "430/430 [==============================] - 1s 2ms/step - loss: 0.3341 - accuracy: 0.8798 - val_loss: 0.3424 - val_accuracy: 0.8798\n",
            "Epoch 7/20\n",
            "430/430 [==============================] - 1s 2ms/step - loss: 0.3207 - accuracy: 0.8851 - val_loss: 0.3335 - val_accuracy: 0.8836\n",
            "Epoch 8/20\n",
            "430/430 [==============================] - 1s 2ms/step - loss: 0.3093 - accuracy: 0.8887 - val_loss: 0.3518 - val_accuracy: 0.8734\n",
            "Epoch 9/20\n",
            "430/430 [==============================] - 1s 2ms/step - loss: 0.2987 - accuracy: 0.8916 - val_loss: 0.3484 - val_accuracy: 0.8756\n",
            "Epoch 10/20\n",
            "430/430 [==============================] - 1s 2ms/step - loss: 0.2900 - accuracy: 0.8932 - val_loss: 0.3205 - val_accuracy: 0.8858\n",
            "Epoch 11/20\n",
            "430/430 [==============================] - 1s 2ms/step - loss: 0.2820 - accuracy: 0.8972 - val_loss: 0.3292 - val_accuracy: 0.8814\n",
            "Epoch 12/20\n",
            "430/430 [==============================] - 1s 2ms/step - loss: 0.2749 - accuracy: 0.9005 - val_loss: 0.3395 - val_accuracy: 0.8784\n",
            "Epoch 13/20\n",
            "430/430 [==============================] - 1s 2ms/step - loss: 0.2678 - accuracy: 0.9025 - val_loss: 0.3221 - val_accuracy: 0.8870\n",
            "Epoch 14/20\n",
            "430/430 [==============================] - 1s 2ms/step - loss: 0.2628 - accuracy: 0.9041 - val_loss: 0.3249 - val_accuracy: 0.8844\n",
            "Epoch 15/20\n",
            "430/430 [==============================] - 1s 2ms/step - loss: 0.2566 - accuracy: 0.9056 - val_loss: 0.3314 - val_accuracy: 0.8862\n",
            "Epoch 16/20\n",
            "430/430 [==============================] - 1s 2ms/step - loss: 0.2514 - accuracy: 0.9089 - val_loss: 0.3192 - val_accuracy: 0.8862\n",
            "Epoch 17/20\n",
            "430/430 [==============================] - 1s 2ms/step - loss: 0.2457 - accuracy: 0.9094 - val_loss: 0.3671 - val_accuracy: 0.8750\n",
            "Epoch 18/20\n",
            "430/430 [==============================] - 1s 2ms/step - loss: 0.2423 - accuracy: 0.9120 - val_loss: 0.3275 - val_accuracy: 0.8852\n",
            "Epoch 19/20\n",
            "430/430 [==============================] - 1s 2ms/step - loss: 0.2370 - accuracy: 0.9135 - val_loss: 0.3157 - val_accuracy: 0.8898\n",
            "Epoch 20/20\n",
            "430/430 [==============================] - 1s 2ms/step - loss: 0.2330 - accuracy: 0.9153 - val_loss: 0.3532 - val_accuracy: 0.8768\n"
          ]
        },
        {
          "data": {
            "text/plain": [
              "<keras.src.callbacks.History at 0x203ab4f65d0>"
            ]
          },
          "execution_count": 10,
          "metadata": {},
          "output_type": "execute_result"
        }
      ],
      "source": [
        "network.fit(X_train, y_train, validation_data=(X_valid, y_valid), epochs=20, batch_size=128)"
      ]
    },
    {
      "cell_type": "code",
      "execution_count": 11,
      "metadata": {
        "colab": {
          "base_uri": "https://localhost:8080/"
        },
        "id": "5Xx6qeAkmqtn",
        "outputId": "80b9c227-caa1-4ec7-d295-6bc82aa76a3b"
      },
      "outputs": [
        {
          "name": "stdout",
          "output_type": "stream",
          "text": [
            "313/313 [==============================] - 0s 1ms/step - loss: 0.3903 - accuracy: 0.8667\n"
          ]
        }
      ],
      "source": [
        "test_loss, test_acc = network.evaluate(X_test, y_test)"
      ]
    },
    {
      "cell_type": "code",
      "execution_count": 12,
      "metadata": {
        "colab": {
          "base_uri": "https://localhost:8080/"
        },
        "id": "PMXsDkLAmqtn",
        "outputId": "a17a4410-89f7-4957-a2de-76d592b8f822"
      },
      "outputs": [
        {
          "name": "stdout",
          "output_type": "stream",
          "text": [
            "test_acc: 0.8666999936103821\n"
          ]
        }
      ],
      "source": [
        "print('test_acc:', test_acc)"
      ]
    },
    {
      "cell_type": "markdown",
      "metadata": {
        "id": "asbC4U1Es0tW"
      },
      "source": [
        "Now we read the data again."
      ]
    },
    {
      "cell_type": "code",
      "execution_count": 13,
      "metadata": {
        "id": "2a3Kfc8Cncm5"
      },
      "outputs": [],
      "source": [
        "import tensorflow as tf\n",
        "fashion_mnist = tf.keras.datasets.fashion_mnist\n",
        "(X_train_full, y_train_full), (X_test, y_test) = fashion_mnist.load_data()"
      ]
    },
    {
      "cell_type": "markdown",
      "metadata": {
        "id": "iuCvwFnOs6gy"
      },
      "source": [
        "Use the same random seeds."
      ]
    },
    {
      "cell_type": "code",
      "execution_count": 14,
      "metadata": {
        "id": "ARt6ZZiT6Tw9"
      },
      "outputs": [],
      "source": [
        "np.random.seed(42)\n",
        "tf.random.set_seed(42)"
      ]
    },
    {
      "cell_type": "code",
      "execution_count": 15,
      "metadata": {
        "colab": {
          "base_uri": "https://localhost:8080/"
        },
        "id": "6LonsKjvnx-x",
        "outputId": "14515659-6896-4401-c41f-8e0ef222746e"
      },
      "outputs": [
        {
          "data": {
            "text/plain": [
              "(60000, 28, 28)"
            ]
          },
          "execution_count": 15,
          "metadata": {},
          "output_type": "execute_result"
        }
      ],
      "source": [
        "X_train_full.shape"
      ]
    },
    {
      "cell_type": "code",
      "execution_count": 16,
      "metadata": {
        "colab": {
          "base_uri": "https://localhost:8080/"
        },
        "id": "IXI_ZIUCodOL",
        "outputId": "25f56721-362b-4b5d-f599-07baee2c7f21"
      },
      "outputs": [
        {
          "data": {
            "text/plain": [
              "(10000, 28, 28)"
            ]
          },
          "execution_count": 16,
          "metadata": {},
          "output_type": "execute_result"
        }
      ],
      "source": [
        "X_test.shape"
      ]
    },
    {
      "cell_type": "code",
      "execution_count": 17,
      "metadata": {
        "id": "3DH2Xy3uoQEj"
      },
      "outputs": [],
      "source": [
        "X_train_full = X_train_full.reshape((60000,28*28))\n",
        "X_test = X_test.reshape((10000,28*28))"
      ]
    },
    {
      "cell_type": "markdown",
      "metadata": {
        "id": "X8riTC7Yv0PR"
      },
      "source": [
        "Conduct fit and transform on X_train_full using PCA. (10 points)"
      ]
    },
    {
      "cell_type": "code",
      "execution_count": 18,
      "metadata": {
        "collapsed": true,
        "id": "B-2DKELQmqto"
      },
      "outputs": [],
      "source": [
        "from sklearn.decomposition import PCA\n",
        "\n",
        "# fill in code here\n",
        "pca = PCA(n_components=187)\n",
        "X_train_reduced_full = pca.fit_transform(X_train_full)"
      ]
    },
    {
      "cell_type": "markdown",
      "metadata": {
        "id": "tw8GbuuTvh0r"
      },
      "source": [
        "Transform X_test using the PCA. (10 points)"
      ]
    },
    {
      "cell_type": "code",
      "execution_count": 19,
      "metadata": {
        "collapsed": true,
        "id": "aUYibIgDmqto"
      },
      "outputs": [],
      "source": [
        "# fill in code here\n",
        "X_test_reduced = pca.transform(X_test)"
      ]
    },
    {
      "cell_type": "markdown",
      "metadata": {
        "id": "fDFMmVY3M6a7"
      },
      "source": [
        "Fill in the input_shape in the following code. (10 points)"
      ]
    },
    {
      "cell_type": "code",
      "execution_count": 20,
      "metadata": {
        "collapsed": true,
        "id": "abVjqR_5mqto"
      },
      "outputs": [],
      "source": [
        "from keras import models\n",
        "from keras import layers\n",
        "\n",
        "network = models.Sequential()\n",
        "# fill in code\n",
        "network.add(layers.Dense(64, activation='relu', input_shape=(187, )))\n",
        "network.add(layers.Dense(10, activation='softmax'))"
      ]
    },
    {
      "cell_type": "code",
      "execution_count": 21,
      "metadata": {
        "collapsed": true,
        "id": "SaFZmy5Vmqto"
      },
      "outputs": [],
      "source": [
        "network.compile(optimizer='rmsprop',\n",
        "                loss='categorical_crossentropy',\n",
        "                metrics=['accuracy'])"
      ]
    },
    {
      "cell_type": "code",
      "execution_count": 22,
      "metadata": {
        "id": "0sX_aDf_mqtp"
      },
      "outputs": [],
      "source": [
        "X_train_reduced_full = X_train_reduced_full.astype('float32') / 255\n",
        "X_test_reduced = X_test_reduced.astype('float32') / 255"
      ]
    },
    {
      "cell_type": "code",
      "execution_count": 23,
      "metadata": {
        "collapsed": true,
        "id": "SOxIi7Wjmqtp"
      },
      "outputs": [],
      "source": [
        "from tensorflow.keras.utils import to_categorical\n",
        "\n",
        "y_train_full = to_categorical(y_train_full)\n",
        "y_test = to_categorical(y_test)"
      ]
    },
    {
      "cell_type": "code",
      "execution_count": 24,
      "metadata": {
        "id": "LEQbiIEa8lbk"
      },
      "outputs": [],
      "source": [
        "X_valid_reduced = X_train_reduced_full[:5000]\n",
        "y_valid = y_train_full[:5000]\n",
        "X_train_reduced = X_train_reduced_full[5000:]\n",
        "y_train = y_train_full[5000:]"
      ]
    },
    {
      "cell_type": "code",
      "execution_count": 25,
      "metadata": {
        "colab": {
          "base_uri": "https://localhost:8080/"
        },
        "id": "1BcB3YHumqtp",
        "outputId": "96ceb813-d5b1-4e33-dace-3236bcbc1711"
      },
      "outputs": [
        {
          "name": "stdout",
          "output_type": "stream",
          "text": [
            "Epoch 1/20\n"
          ]
        },
        {
          "name": "stdout",
          "output_type": "stream",
          "text": [
            "430/430 [==============================] - 2s 2ms/step - loss: 0.6949 - accuracy: 0.7784 - val_loss: 0.4117 - val_accuracy: 0.8588\n",
            "Epoch 2/20\n",
            "430/430 [==============================] - 1s 2ms/step - loss: 0.3937 - accuracy: 0.8599 - val_loss: 0.3695 - val_accuracy: 0.8696\n",
            "Epoch 3/20\n",
            "430/430 [==============================] - 1s 2ms/step - loss: 0.3562 - accuracy: 0.8713 - val_loss: 0.3527 - val_accuracy: 0.8730\n",
            "Epoch 4/20\n",
            "430/430 [==============================] - 1s 2ms/step - loss: 0.3308 - accuracy: 0.8804 - val_loss: 0.3354 - val_accuracy: 0.8784\n",
            "Epoch 5/20\n",
            "430/430 [==============================] - 1s 2ms/step - loss: 0.3122 - accuracy: 0.8873 - val_loss: 0.3274 - val_accuracy: 0.8818\n",
            "Epoch 6/20\n",
            "430/430 [==============================] - 1s 2ms/step - loss: 0.2969 - accuracy: 0.8930 - val_loss: 0.3215 - val_accuracy: 0.8844\n",
            "Epoch 7/20\n",
            "430/430 [==============================] - 1s 2ms/step - loss: 0.2842 - accuracy: 0.8972 - val_loss: 0.3157 - val_accuracy: 0.8856\n",
            "Epoch 8/20\n",
            "430/430 [==============================] - 1s 2ms/step - loss: 0.2738 - accuracy: 0.9017 - val_loss: 0.3130 - val_accuracy: 0.8880\n",
            "Epoch 9/20\n",
            "430/430 [==============================] - 1s 2ms/step - loss: 0.2641 - accuracy: 0.9057 - val_loss: 0.3078 - val_accuracy: 0.8904\n",
            "Epoch 10/20\n",
            "430/430 [==============================] - 1s 2ms/step - loss: 0.2553 - accuracy: 0.9089 - val_loss: 0.3061 - val_accuracy: 0.8890\n",
            "Epoch 11/20\n",
            "430/430 [==============================] - 1s 2ms/step - loss: 0.2481 - accuracy: 0.9107 - val_loss: 0.3080 - val_accuracy: 0.8894\n",
            "Epoch 12/20\n",
            "430/430 [==============================] - 1s 2ms/step - loss: 0.2411 - accuracy: 0.9139 - val_loss: 0.3083 - val_accuracy: 0.8874\n",
            "Epoch 13/20\n",
            "430/430 [==============================] - 1s 2ms/step - loss: 0.2344 - accuracy: 0.9165 - val_loss: 0.3056 - val_accuracy: 0.8894\n",
            "Epoch 14/20\n",
            "430/430 [==============================] - 1s 2ms/step - loss: 0.2288 - accuracy: 0.9179 - val_loss: 0.3090 - val_accuracy: 0.8892\n",
            "Epoch 15/20\n",
            "430/430 [==============================] - 1s 2ms/step - loss: 0.2232 - accuracy: 0.9212 - val_loss: 0.3089 - val_accuracy: 0.8888\n",
            "Epoch 16/20\n",
            "430/430 [==============================] - 1s 2ms/step - loss: 0.2176 - accuracy: 0.9232 - val_loss: 0.3100 - val_accuracy: 0.8912\n",
            "Epoch 17/20\n",
            "430/430 [==============================] - 1s 2ms/step - loss: 0.2131 - accuracy: 0.9249 - val_loss: 0.3119 - val_accuracy: 0.8898\n",
            "Epoch 18/20\n",
            "430/430 [==============================] - 1s 2ms/step - loss: 0.2082 - accuracy: 0.9266 - val_loss: 0.3127 - val_accuracy: 0.8922\n",
            "Epoch 19/20\n",
            "430/430 [==============================] - 1s 2ms/step - loss: 0.2040 - accuracy: 0.9289 - val_loss: 0.3183 - val_accuracy: 0.8890\n",
            "Epoch 20/20\n",
            "430/430 [==============================] - 1s 2ms/step - loss: 0.2000 - accuracy: 0.9298 - val_loss: 0.3190 - val_accuracy: 0.8882\n"
          ]
        },
        {
          "data": {
            "text/plain": [
              "<keras.src.callbacks.History at 0x203abfc3e90>"
            ]
          },
          "execution_count": 25,
          "metadata": {},
          "output_type": "execute_result"
        }
      ],
      "source": [
        "network.fit(X_train_reduced, y_train, validation_data=(X_valid_reduced, y_valid), epochs=20, batch_size=128)"
      ]
    },
    {
      "cell_type": "code",
      "execution_count": 26,
      "metadata": {
        "colab": {
          "base_uri": "https://localhost:8080/"
        },
        "id": "QMcfshelmqtp",
        "outputId": "76ca3790-1472-4ad9-aece-598ae7dba2ab"
      },
      "outputs": [
        {
          "name": "stdout",
          "output_type": "stream",
          "text": [
            "313/313 [==============================] - 1s 2ms/step - loss: 0.3419 - accuracy: 0.8822\n"
          ]
        }
      ],
      "source": [
        "test_loss, test_acc = network.evaluate(X_test_reduced, y_test)"
      ]
    },
    {
      "cell_type": "code",
      "execution_count": 27,
      "metadata": {
        "colab": {
          "base_uri": "https://localhost:8080/"
        },
        "id": "3kwXfRybmqtq",
        "outputId": "b497912d-e350-4001-9256-092ca5cad95d"
      },
      "outputs": [
        {
          "name": "stdout",
          "output_type": "stream",
          "text": [
            "test_acc: 0.8822000026702881\n"
          ]
        }
      ],
      "source": [
        "print('test_acc:', test_acc)"
      ]
    },
    {
      "cell_type": "markdown",
      "metadata": {
        "id": "JX1W40sqxtyQ"
      },
      "source": [
        "Compare these two accuracy results and check whether we see anything surprising. (10 points)"
      ]
    },
    {
      "cell_type": "markdown",
      "metadata": {
        "id": "lQvDuRZjO9U9"
      },
      "source": [
        "The accuracy result ..."
      ]
    },
    {
      "cell_type": "code",
      "execution_count": 28,
      "metadata": {
        "collapsed": true,
        "id": "gqozYABsmqtr"
      },
      "outputs": [],
      "source": [
        "np.random.seed(42)\n",
        "tf.random.set_seed(42)"
      ]
    },
    {
      "cell_type": "markdown",
      "metadata": {
        "id": "q7NB3DDvx4MU"
      },
      "source": [
        "Modify the code provided by this module and use RandomizedSearchCV to find a model that beats the previous accuracy results. (40 points)\n",
        "\n",
        "Hint: you can speed up the search by using n_jobs = 1 in RandomizedSearchCV."
      ]
    },
    {
      "cell_type": "code",
      "execution_count": 29,
      "metadata": {
        "id": "IT5qWXkIwNMN"
      },
      "outputs": [],
      "source": [
        "X_valid = X_train_reduced[:5000]\n",
        "y_valid = y_train[:5000]\n",
        "X_train = X_train_reduced[5000:]\n",
        "y_train = y_train[5000:]"
      ]
    },
    {
      "cell_type": "code",
      "execution_count": 30,
      "metadata": {
        "colab": {
          "base_uri": "https://localhost:8080/"
        },
        "id": "QRnCFKoTxITO",
        "outputId": "2ecaae37-29d7-4229-d457-854117f29e93"
      },
      "outputs": [
        {
          "data": {
            "text/plain": [
              "((50000, 187), (5000, 187))"
            ]
          },
          "execution_count": 30,
          "metadata": {},
          "output_type": "execute_result"
        }
      ],
      "source": [
        "X_train.shape, X_valid.shape"
      ]
    },
    {
      "cell_type": "code",
      "execution_count": 31,
      "metadata": {
        "colab": {
          "base_uri": "https://localhost:8080/"
        },
        "id": "CorEcQzHze43",
        "outputId": "886dcd52-a780-4f66-a09f-35ebed6eab22"
      },
      "outputs": [
        {
          "data": {
            "text/plain": [
              "((50000, 10), (5000, 10), (10000, 10))"
            ]
          },
          "execution_count": 31,
          "metadata": {},
          "output_type": "execute_result"
        }
      ],
      "source": [
        "y_train.shape, y_valid.shape, y_test.shape"
      ]
    },
    {
      "cell_type": "code",
      "execution_count": 32,
      "metadata": {
        "id": "A-XCsmv4w6Xj"
      },
      "outputs": [],
      "source": [
        "from tensorflow import keras\n",
        "\n",
        "keras.backend.clear_session()\n",
        "np.random.seed(42)\n",
        "tf.random.set_seed(42)"
      ]
    },
    {
      "cell_type": "code",
      "execution_count": 33,
      "metadata": {
        "id": "ywo4XqUaw_s_"
      },
      "outputs": [],
      "source": [
        "def build_model(n_hidden=1, n_neurons=128, learning_rate=3e-3, input_shape=(X_train_reduced.shape[1],)):\n",
        "    model = keras.models.Sequential()\n",
        "    model.add(keras.layers.InputLayer(input_shape=input_shape))\n",
        "    for layer in range(n_hidden):\n",
        "        # fill in code\n",
        "        model.add(keras.layers.Dense(n_neurons, activation=\"relu\"))\n",
        "    # fill in code\n",
        "    model.add(layers.Dense(10, activation='softmax'))\n",
        "    optimizer = keras.optimizers.SGD(learning_rate=learning_rate)\n",
        "    model.compile(optimizer='rmsprop',\n",
        "                  # fill in code\n",
        "                loss='categorical_crossentropy',\n",
        "                metrics=['accuracy'])\n",
        "\n",
        "    return model"
      ]
    },
    {
      "cell_type": "code",
      "execution_count": 34,
      "metadata": {
        "id": "A-zC5-boW5gT"
      },
      "outputs": [],
      "source": [
        "from tensorflow import keras\n",
        "from sklearn.base import BaseEstimator, RegressorMixin\n",
        "\n",
        "# Modify the KerasRegressorWrapper class to accept hyperparameters\n",
        "class KerasRegressorWrapper(BaseEstimator, RegressorMixin):\n",
        "    def __init__(self, n_hidden=1, n_neurons=200, learning_rate=1e-3):\n",
        "        self.n_hidden = n_hidden\n",
        "        self.n_neurons = n_neurons\n",
        "        self.learning_rate = learning_rate\n",
        "\n",
        "    def fit(self, X, y, **kwargs):\n",
        "        self.model = build_model(self.n_hidden, self.n_neurons, self.learning_rate)\n",
        "        self.model.fit(X, y, **kwargs)\n",
        "        return self\n",
        "\n",
        "    def predict(self, X):\n",
        "        return self.model.predict(X)\n",
        "\n",
        "# Create an instance of the KerasRegressorWrapper\n",
        "keras_reg = KerasRegressorWrapper()\n"
      ]
    },
    {
      "cell_type": "code",
      "execution_count": 35,
      "metadata": {
        "colab": {
          "base_uri": "https://localhost:8080/",
          "height": 610
        },
        "id": "1UhjO3znyDmj",
        "outputId": "b77009c5-c013-4b6a-e4c6-f9261a27aef5"
      },
      "outputs": [
        {
          "name": "stdout",
          "output_type": "stream",
          "text": [
            "Epoch 1/100\n"
          ]
        },
        {
          "name": "stdout",
          "output_type": "stream",
          "text": [
            "1563/1563 [==============================] - 4s 2ms/step - loss: 0.4504 - accuracy: 0.8468 - val_loss: 0.3584 - val_accuracy: 0.8696\n",
            "Epoch 2/100\n",
            "1563/1563 [==============================] - 3s 2ms/step - loss: 0.3136 - accuracy: 0.8877 - val_loss: 0.3181 - val_accuracy: 0.8854\n",
            "Epoch 3/100\n",
            "1563/1563 [==============================] - 3s 2ms/step - loss: 0.2705 - accuracy: 0.9042 - val_loss: 0.3116 - val_accuracy: 0.8894\n",
            "Epoch 4/100\n",
            "1563/1563 [==============================] - 3s 2ms/step - loss: 0.2417 - accuracy: 0.9138 - val_loss: 0.3072 - val_accuracy: 0.8914\n",
            "Epoch 5/100\n",
            "1563/1563 [==============================] - 3s 2ms/step - loss: 0.2174 - accuracy: 0.9231 - val_loss: 0.3018 - val_accuracy: 0.8968\n",
            "Epoch 6/100\n",
            "1563/1563 [==============================] - 3s 2ms/step - loss: 0.1966 - accuracy: 0.9301 - val_loss: 0.3038 - val_accuracy: 0.8958\n",
            "Epoch 7/100\n",
            "1563/1563 [==============================] - 3s 2ms/step - loss: 0.1781 - accuracy: 0.9379 - val_loss: 0.3130 - val_accuracy: 0.8926\n",
            "Epoch 8/100\n",
            "1563/1563 [==============================] - 3s 2ms/step - loss: 0.1624 - accuracy: 0.9431 - val_loss: 0.3084 - val_accuracy: 0.9012\n",
            "Epoch 9/100\n",
            "1563/1563 [==============================] - 3s 2ms/step - loss: 0.1479 - accuracy: 0.9494 - val_loss: 0.3376 - val_accuracy: 0.8924\n",
            "Epoch 10/100\n",
            "1563/1563 [==============================] - 3s 2ms/step - loss: 0.1347 - accuracy: 0.9538 - val_loss: 0.3342 - val_accuracy: 0.8900\n",
            "Epoch 11/100\n",
            "1563/1563 [==============================] - 3s 2ms/step - loss: 0.1223 - accuracy: 0.9591 - val_loss: 0.3601 - val_accuracy: 0.8920\n",
            "Epoch 12/100\n",
            "1563/1563 [==============================] - 3s 2ms/step - loss: 0.1121 - accuracy: 0.9625 - val_loss: 0.3594 - val_accuracy: 0.8926\n",
            "Epoch 13/100\n",
            "1563/1563 [==============================] - 3s 2ms/step - loss: 0.1015 - accuracy: 0.9671 - val_loss: 0.3664 - val_accuracy: 0.8984\n",
            "Epoch 14/100\n",
            "1563/1563 [==============================] - 3s 2ms/step - loss: 0.0936 - accuracy: 0.9689 - val_loss: 0.3779 - val_accuracy: 0.8962\n",
            "Epoch 15/100\n",
            "1563/1563 [==============================] - 3s 2ms/step - loss: 0.0837 - accuracy: 0.9730 - val_loss: 0.4019 - val_accuracy: 0.8918\n"
          ]
        },
        {
          "data": {
            "text/html": [
              "<style>#sk-container-id-1 {color: black;background-color: white;}#sk-container-id-1 pre{padding: 0;}#sk-container-id-1 div.sk-toggleable {background-color: white;}#sk-container-id-1 label.sk-toggleable__label {cursor: pointer;display: block;width: 100%;margin-bottom: 0;padding: 0.3em;box-sizing: border-box;text-align: center;}#sk-container-id-1 label.sk-toggleable__label-arrow:before {content: \"▸\";float: left;margin-right: 0.25em;color: #696969;}#sk-container-id-1 label.sk-toggleable__label-arrow:hover:before {color: black;}#sk-container-id-1 div.sk-estimator:hover label.sk-toggleable__label-arrow:before {color: black;}#sk-container-id-1 div.sk-toggleable__content {max-height: 0;max-width: 0;overflow: hidden;text-align: left;background-color: #f0f8ff;}#sk-container-id-1 div.sk-toggleable__content pre {margin: 0.2em;color: black;border-radius: 0.25em;background-color: #f0f8ff;}#sk-container-id-1 input.sk-toggleable__control:checked~div.sk-toggleable__content {max-height: 200px;max-width: 100%;overflow: auto;}#sk-container-id-1 input.sk-toggleable__control:checked~label.sk-toggleable__label-arrow:before {content: \"▾\";}#sk-container-id-1 div.sk-estimator input.sk-toggleable__control:checked~label.sk-toggleable__label {background-color: #d4ebff;}#sk-container-id-1 div.sk-label input.sk-toggleable__control:checked~label.sk-toggleable__label {background-color: #d4ebff;}#sk-container-id-1 input.sk-hidden--visually {border: 0;clip: rect(1px 1px 1px 1px);clip: rect(1px, 1px, 1px, 1px);height: 1px;margin: -1px;overflow: hidden;padding: 0;position: absolute;width: 1px;}#sk-container-id-1 div.sk-estimator {font-family: monospace;background-color: #f0f8ff;border: 1px dotted black;border-radius: 0.25em;box-sizing: border-box;margin-bottom: 0.5em;}#sk-container-id-1 div.sk-estimator:hover {background-color: #d4ebff;}#sk-container-id-1 div.sk-parallel-item::after {content: \"\";width: 100%;border-bottom: 1px solid gray;flex-grow: 1;}#sk-container-id-1 div.sk-label:hover label.sk-toggleable__label {background-color: #d4ebff;}#sk-container-id-1 div.sk-serial::before {content: \"\";position: absolute;border-left: 1px solid gray;box-sizing: border-box;top: 0;bottom: 0;left: 50%;z-index: 0;}#sk-container-id-1 div.sk-serial {display: flex;flex-direction: column;align-items: center;background-color: white;padding-right: 0.2em;padding-left: 0.2em;position: relative;}#sk-container-id-1 div.sk-item {position: relative;z-index: 1;}#sk-container-id-1 div.sk-parallel {display: flex;align-items: stretch;justify-content: center;background-color: white;position: relative;}#sk-container-id-1 div.sk-item::before, #sk-container-id-1 div.sk-parallel-item::before {content: \"\";position: absolute;border-left: 1px solid gray;box-sizing: border-box;top: 0;bottom: 0;left: 50%;z-index: -1;}#sk-container-id-1 div.sk-parallel-item {display: flex;flex-direction: column;z-index: 1;position: relative;background-color: white;}#sk-container-id-1 div.sk-parallel-item:first-child::after {align-self: flex-end;width: 50%;}#sk-container-id-1 div.sk-parallel-item:last-child::after {align-self: flex-start;width: 50%;}#sk-container-id-1 div.sk-parallel-item:only-child::after {width: 0;}#sk-container-id-1 div.sk-dashed-wrapped {border: 1px dashed gray;margin: 0 0.4em 0.5em 0.4em;box-sizing: border-box;padding-bottom: 0.4em;background-color: white;}#sk-container-id-1 div.sk-label label {font-family: monospace;font-weight: bold;display: inline-block;line-height: 1.2em;}#sk-container-id-1 div.sk-label-container {text-align: center;}#sk-container-id-1 div.sk-container {/* jupyter's `normalize.less` sets `[hidden] { display: none; }` but bootstrap.min.css set `[hidden] { display: none !important; }` so we also need the `!important` here to be able to override the default hidden behavior on the sphinx rendered scikit-learn.org. See: https://github.com/scikit-learn/scikit-learn/issues/21755 */display: inline-block !important;position: relative;}#sk-container-id-1 div.sk-text-repr-fallback {display: none;}</style><div id=\"sk-container-id-1\" class=\"sk-top-container\"><div class=\"sk-text-repr-fallback\"><pre>KerasRegressorWrapper()</pre><b>In a Jupyter environment, please rerun this cell to show the HTML representation or trust the notebook. <br />On GitHub, the HTML representation is unable to render, please try loading this page with nbviewer.org.</b></div><div class=\"sk-container\" hidden><div class=\"sk-item\"><div class=\"sk-estimator sk-toggleable\"><input class=\"sk-toggleable__control sk-hidden--visually\" id=\"sk-estimator-id-1\" type=\"checkbox\" checked><label for=\"sk-estimator-id-1\" class=\"sk-toggleable__label sk-toggleable__label-arrow\">KerasRegressorWrapper</label><div class=\"sk-toggleable__content\"><pre>KerasRegressorWrapper()</pre></div></div></div></div></div>"
            ],
            "text/plain": [
              "KerasRegressorWrapper()"
            ]
          },
          "execution_count": 35,
          "metadata": {},
          "output_type": "execute_result"
        }
      ],
      "source": [
        "keras_reg.fit(X_train, y_train, epochs=100,\n",
        "              # fill in code\n",
        "              validation_data=(X_valid, y_valid),\n",
        "              callbacks=[keras.callbacks.EarlyStopping(patience=10)])"
      ]
    },
    {
      "cell_type": "code",
      "execution_count": 38,
      "metadata": {
        "colab": {
          "base_uri": "https://localhost:8080/",
          "height": 727
        },
        "id": "xVrlNWlevp-s",
        "outputId": "b2f04ed9-6dc9-4a5d-ef4f-69a3d3c1e946"
      },
      "outputs": [
        {
          "name": "stdout",
          "output_type": "stream",
          "text": [
            "Fitting 3 folds for each of 20 candidates, totalling 60 fits\n",
            "Epoch 1/100\n",
            "1563/1563 [==============================] - 5s 3ms/step - loss: 0.4217 - accuracy: 0.8536 - val_loss: 0.3513 - val_accuracy: 0.8738\n",
            "Epoch 2/100\n",
            "1563/1563 [==============================] - 4s 3ms/step - loss: 0.2968 - accuracy: 0.8942 - val_loss: 0.3080 - val_accuracy: 0.8884\n",
            "Epoch 3/100\n",
            "1563/1563 [==============================] - 5s 3ms/step - loss: 0.2499 - accuracy: 0.9107 - val_loss: 0.3077 - val_accuracy: 0.8884\n",
            "Epoch 4/100\n",
            "1563/1563 [==============================] - 4s 2ms/step - loss: 0.2167 - accuracy: 0.9232 - val_loss: 0.3042 - val_accuracy: 0.8942\n",
            "Epoch 5/100\n",
            "1563/1563 [==============================] - 3s 2ms/step - loss: 0.1881 - accuracy: 0.9325 - val_loss: 0.3050 - val_accuracy: 0.8962\n",
            "Epoch 6/100\n",
            "1563/1563 [==============================] - 4s 2ms/step - loss: 0.1635 - accuracy: 0.9417 - val_loss: 0.3125 - val_accuracy: 0.8938\n",
            "Epoch 7/100\n",
            "1563/1563 [==============================] - 4s 2ms/step - loss: 0.1425 - accuracy: 0.9499 - val_loss: 0.3237 - val_accuracy: 0.8942\n",
            "Epoch 8/100\n",
            "1563/1563 [==============================] - 3s 2ms/step - loss: 0.1236 - accuracy: 0.9563 - val_loss: 0.3283 - val_accuracy: 0.8994\n",
            "Epoch 9/100\n",
            "1563/1563 [==============================] - 3s 2ms/step - loss: 0.1067 - accuracy: 0.9633 - val_loss: 0.3635 - val_accuracy: 0.8934\n",
            "Epoch 10/100\n",
            "1563/1563 [==============================] - 3s 2ms/step - loss: 0.0918 - accuracy: 0.9681 - val_loss: 0.3649 - val_accuracy: 0.8950\n",
            "Epoch 11/100\n",
            "1563/1563 [==============================] - 4s 2ms/step - loss: 0.0793 - accuracy: 0.9731 - val_loss: 0.3961 - val_accuracy: 0.8948\n",
            "Epoch 12/100\n",
            "1563/1563 [==============================] - 4s 2ms/step - loss: 0.0687 - accuracy: 0.9770 - val_loss: 0.4083 - val_accuracy: 0.8950\n",
            "Epoch 13/100\n",
            "1563/1563 [==============================] - 3s 2ms/step - loss: 0.0584 - accuracy: 0.9815 - val_loss: 0.4190 - val_accuracy: 0.8944\n",
            "Epoch 14/100\n",
            "1563/1563 [==============================] - 4s 2ms/step - loss: 0.0509 - accuracy: 0.9832 - val_loss: 0.4449 - val_accuracy: 0.8906\n"
          ]
        },
        {
          "data": {
            "text/html": [
              "<style>#sk-container-id-2 {color: black;background-color: white;}#sk-container-id-2 pre{padding: 0;}#sk-container-id-2 div.sk-toggleable {background-color: white;}#sk-container-id-2 label.sk-toggleable__label {cursor: pointer;display: block;width: 100%;margin-bottom: 0;padding: 0.3em;box-sizing: border-box;text-align: center;}#sk-container-id-2 label.sk-toggleable__label-arrow:before {content: \"▸\";float: left;margin-right: 0.25em;color: #696969;}#sk-container-id-2 label.sk-toggleable__label-arrow:hover:before {color: black;}#sk-container-id-2 div.sk-estimator:hover label.sk-toggleable__label-arrow:before {color: black;}#sk-container-id-2 div.sk-toggleable__content {max-height: 0;max-width: 0;overflow: hidden;text-align: left;background-color: #f0f8ff;}#sk-container-id-2 div.sk-toggleable__content pre {margin: 0.2em;color: black;border-radius: 0.25em;background-color: #f0f8ff;}#sk-container-id-2 input.sk-toggleable__control:checked~div.sk-toggleable__content {max-height: 200px;max-width: 100%;overflow: auto;}#sk-container-id-2 input.sk-toggleable__control:checked~label.sk-toggleable__label-arrow:before {content: \"▾\";}#sk-container-id-2 div.sk-estimator input.sk-toggleable__control:checked~label.sk-toggleable__label {background-color: #d4ebff;}#sk-container-id-2 div.sk-label input.sk-toggleable__control:checked~label.sk-toggleable__label {background-color: #d4ebff;}#sk-container-id-2 input.sk-hidden--visually {border: 0;clip: rect(1px 1px 1px 1px);clip: rect(1px, 1px, 1px, 1px);height: 1px;margin: -1px;overflow: hidden;padding: 0;position: absolute;width: 1px;}#sk-container-id-2 div.sk-estimator {font-family: monospace;background-color: #f0f8ff;border: 1px dotted black;border-radius: 0.25em;box-sizing: border-box;margin-bottom: 0.5em;}#sk-container-id-2 div.sk-estimator:hover {background-color: #d4ebff;}#sk-container-id-2 div.sk-parallel-item::after {content: \"\";width: 100%;border-bottom: 1px solid gray;flex-grow: 1;}#sk-container-id-2 div.sk-label:hover label.sk-toggleable__label {background-color: #d4ebff;}#sk-container-id-2 div.sk-serial::before {content: \"\";position: absolute;border-left: 1px solid gray;box-sizing: border-box;top: 0;bottom: 0;left: 50%;z-index: 0;}#sk-container-id-2 div.sk-serial {display: flex;flex-direction: column;align-items: center;background-color: white;padding-right: 0.2em;padding-left: 0.2em;position: relative;}#sk-container-id-2 div.sk-item {position: relative;z-index: 1;}#sk-container-id-2 div.sk-parallel {display: flex;align-items: stretch;justify-content: center;background-color: white;position: relative;}#sk-container-id-2 div.sk-item::before, #sk-container-id-2 div.sk-parallel-item::before {content: \"\";position: absolute;border-left: 1px solid gray;box-sizing: border-box;top: 0;bottom: 0;left: 50%;z-index: -1;}#sk-container-id-2 div.sk-parallel-item {display: flex;flex-direction: column;z-index: 1;position: relative;background-color: white;}#sk-container-id-2 div.sk-parallel-item:first-child::after {align-self: flex-end;width: 50%;}#sk-container-id-2 div.sk-parallel-item:last-child::after {align-self: flex-start;width: 50%;}#sk-container-id-2 div.sk-parallel-item:only-child::after {width: 0;}#sk-container-id-2 div.sk-dashed-wrapped {border: 1px dashed gray;margin: 0 0.4em 0.5em 0.4em;box-sizing: border-box;padding-bottom: 0.4em;background-color: white;}#sk-container-id-2 div.sk-label label {font-family: monospace;font-weight: bold;display: inline-block;line-height: 1.2em;}#sk-container-id-2 div.sk-label-container {text-align: center;}#sk-container-id-2 div.sk-container {/* jupyter's `normalize.less` sets `[hidden] { display: none; }` but bootstrap.min.css set `[hidden] { display: none !important; }` so we also need the `!important` here to be able to override the default hidden behavior on the sphinx rendered scikit-learn.org. See: https://github.com/scikit-learn/scikit-learn/issues/21755 */display: inline-block !important;position: relative;}#sk-container-id-2 div.sk-text-repr-fallback {display: none;}</style><div id=\"sk-container-id-2\" class=\"sk-top-container\"><div class=\"sk-text-repr-fallback\"><pre>RandomizedSearchCV(cv=3, estimator=KerasRegressorWrapper(), n_iter=20,\n",
              "                   n_jobs=-1,\n",
              "                   param_distributions={&#x27;n_hidden&#x27;: [0, 1, 2],\n",
              "                                        &#x27;n_neurons&#x27;: array([  1,   2,   3,   4,   5,   6,   7,   8,   9,  10,  11,  12,  13,\n",
              "        14,  15,  16,  17,  18,  19,  20,  21,  22,  23,  24,  25,  26,\n",
              "        27,  28,  29,  30,  31,  32,  33,  34,  35,  36,  37,  38,  39,\n",
              "        40,  41,  42,  43,  44,  45,  46,  47,  48,  49,  50,  51,  52,\n",
              "        53,  54,  55,  56,  57,  58,  59,  60,  61,  62,  63,  64,  65,\n",
              "        66,  67,  68,  69,  70,  71,  72,  73,  74,...\n",
              "       313, 314, 315, 316, 317, 318, 319, 320, 321, 322, 323, 324, 325,\n",
              "       326, 327, 328, 329, 330, 331, 332, 333, 334, 335, 336, 337, 338,\n",
              "       339, 340, 341, 342, 343, 344, 345, 346, 347, 348, 349, 350, 351,\n",
              "       352, 353, 354, 355, 356, 357, 358, 359, 360, 361, 362, 363, 364,\n",
              "       365, 366, 367, 368, 369, 370, 371, 372, 373, 374, 375, 376, 377,\n",
              "       378, 379, 380, 381, 382, 383, 384, 385, 386, 387, 388, 389, 390,\n",
              "       391, 392, 393, 394, 395, 396, 397, 398, 399])},\n",
              "                   verbose=2)</pre><b>In a Jupyter environment, please rerun this cell to show the HTML representation or trust the notebook. <br />On GitHub, the HTML representation is unable to render, please try loading this page with nbviewer.org.</b></div><div class=\"sk-container\" hidden><div class=\"sk-item sk-dashed-wrapped\"><div class=\"sk-label-container\"><div class=\"sk-label sk-toggleable\"><input class=\"sk-toggleable__control sk-hidden--visually\" id=\"sk-estimator-id-2\" type=\"checkbox\" ><label for=\"sk-estimator-id-2\" class=\"sk-toggleable__label sk-toggleable__label-arrow\">RandomizedSearchCV</label><div class=\"sk-toggleable__content\"><pre>RandomizedSearchCV(cv=3, estimator=KerasRegressorWrapper(), n_iter=20,\n",
              "                   n_jobs=-1,\n",
              "                   param_distributions={&#x27;n_hidden&#x27;: [0, 1, 2],\n",
              "                                        &#x27;n_neurons&#x27;: array([  1,   2,   3,   4,   5,   6,   7,   8,   9,  10,  11,  12,  13,\n",
              "        14,  15,  16,  17,  18,  19,  20,  21,  22,  23,  24,  25,  26,\n",
              "        27,  28,  29,  30,  31,  32,  33,  34,  35,  36,  37,  38,  39,\n",
              "        40,  41,  42,  43,  44,  45,  46,  47,  48,  49,  50,  51,  52,\n",
              "        53,  54,  55,  56,  57,  58,  59,  60,  61,  62,  63,  64,  65,\n",
              "        66,  67,  68,  69,  70,  71,  72,  73,  74,...\n",
              "       313, 314, 315, 316, 317, 318, 319, 320, 321, 322, 323, 324, 325,\n",
              "       326, 327, 328, 329, 330, 331, 332, 333, 334, 335, 336, 337, 338,\n",
              "       339, 340, 341, 342, 343, 344, 345, 346, 347, 348, 349, 350, 351,\n",
              "       352, 353, 354, 355, 356, 357, 358, 359, 360, 361, 362, 363, 364,\n",
              "       365, 366, 367, 368, 369, 370, 371, 372, 373, 374, 375, 376, 377,\n",
              "       378, 379, 380, 381, 382, 383, 384, 385, 386, 387, 388, 389, 390,\n",
              "       391, 392, 393, 394, 395, 396, 397, 398, 399])},\n",
              "                   verbose=2)</pre></div></div></div><div class=\"sk-parallel\"><div class=\"sk-parallel-item\"><div class=\"sk-item\"><div class=\"sk-label-container\"><div class=\"sk-label sk-toggleable\"><input class=\"sk-toggleable__control sk-hidden--visually\" id=\"sk-estimator-id-3\" type=\"checkbox\" ><label for=\"sk-estimator-id-3\" class=\"sk-toggleable__label sk-toggleable__label-arrow\">estimator: KerasRegressorWrapper</label><div class=\"sk-toggleable__content\"><pre>KerasRegressorWrapper()</pre></div></div></div><div class=\"sk-serial\"><div class=\"sk-item\"><div class=\"sk-estimator sk-toggleable\"><input class=\"sk-toggleable__control sk-hidden--visually\" id=\"sk-estimator-id-4\" type=\"checkbox\" ><label for=\"sk-estimator-id-4\" class=\"sk-toggleable__label sk-toggleable__label-arrow\">KerasRegressorWrapper</label><div class=\"sk-toggleable__content\"><pre>KerasRegressorWrapper()</pre></div></div></div></div></div></div></div></div></div></div>"
            ],
            "text/plain": [
              "RandomizedSearchCV(cv=3, estimator=KerasRegressorWrapper(), n_iter=20,\n",
              "                   n_jobs=-1,\n",
              "                   param_distributions={'n_hidden': [0, 1, 2],\n",
              "                                        'n_neurons': array([  1,   2,   3,   4,   5,   6,   7,   8,   9,  10,  11,  12,  13,\n",
              "        14,  15,  16,  17,  18,  19,  20,  21,  22,  23,  24,  25,  26,\n",
              "        27,  28,  29,  30,  31,  32,  33,  34,  35,  36,  37,  38,  39,\n",
              "        40,  41,  42,  43,  44,  45,  46,  47,  48,  49,  50,  51,  52,\n",
              "        53,  54,  55,  56,  57,  58,  59,  60,  61,  62,  63,  64,  65,\n",
              "        66,  67,  68,  69,  70,  71,  72,  73,  74,...\n",
              "       313, 314, 315, 316, 317, 318, 319, 320, 321, 322, 323, 324, 325,\n",
              "       326, 327, 328, 329, 330, 331, 332, 333, 334, 335, 336, 337, 338,\n",
              "       339, 340, 341, 342, 343, 344, 345, 346, 347, 348, 349, 350, 351,\n",
              "       352, 353, 354, 355, 356, 357, 358, 359, 360, 361, 362, 363, 364,\n",
              "       365, 366, 367, 368, 369, 370, 371, 372, 373, 374, 375, 376, 377,\n",
              "       378, 379, 380, 381, 382, 383, 384, 385, 386, 387, 388, 389, 390,\n",
              "       391, 392, 393, 394, 395, 396, 397, 398, 399])},\n",
              "                   verbose=2)"
            ]
          },
          "execution_count": 38,
          "metadata": {},
          "output_type": "execute_result"
        }
      ],
      "source": [
        "from scipy.stats import reciprocal\n",
        "from sklearn.model_selection import RandomizedSearchCV\n",
        "\n",
        "param_distribs = {\n",
        "    # fill in code\n",
        "    \"n_hidden\": [0, 1, 2],\n",
        "    \"n_neurons\": np.arange( 1 , 400 ),\n",
        "\n",
        "}\n",
        "\n",
        "rnd_search_cv = RandomizedSearchCV(keras_reg, param_distribs, n_iter=20, cv=3, verbose=2, n_jobs=-1)\n",
        "rnd_search_cv.fit(X_train, y_train, epochs=100,\n",
        "                  # fill in code\n",
        "                  validation_data=(X_valid, y_valid),\n",
        "                  callbacks=[keras.callbacks.EarlyStopping(patience=10)])"
      ]
    },
    {
      "cell_type": "code",
      "execution_count": 39,
      "metadata": {
        "colab": {
          "base_uri": "https://localhost:8080/"
        },
        "id": "QWG2mB-hxzES",
        "outputId": "b8974e97-2b47-4d31-e635-26d4fb637d20"
      },
      "outputs": [
        {
          "data": {
            "text/plain": [
              "{'n_neurons': 392, 'n_hidden': 1}"
            ]
          },
          "execution_count": 39,
          "metadata": {},
          "output_type": "execute_result"
        }
      ],
      "source": [
        "rnd_search_cv.best_params_"
      ]
    },
    {
      "cell_type": "markdown",
      "metadata": {
        "id": "y0_HYPGoN10B"
      },
      "source": [
        "Show the summary of the best model obtained from the randomized search. Report the test result using the best model, and compare this result with the previous results. (20 points)"
      ]
    },
    {
      "cell_type": "code",
      "execution_count": 40,
      "metadata": {
        "colab": {
          "base_uri": "https://localhost:8080/"
        },
        "id": "tPJiZp7RBmXS",
        "outputId": "53af3595-a4b5-45c4-a14d-7cd4a155bab3"
      },
      "outputs": [
        {
          "name": "stdout",
          "output_type": "stream",
          "text": [
            "Model: \"sequential_1\"\n",
            "_________________________________________________________________\n",
            " Layer (type)                Output Shape              Param #   \n",
            "=================================================================\n",
            " dense_2 (Dense)             (None, 392)               73696     \n",
            "                                                                 \n",
            " dense_3 (Dense)             (None, 10)                3930      \n",
            "                                                                 \n",
            "=================================================================\n",
            "Total params: 77626 (303.23 KB)\n",
            "Trainable params: 77626 (303.23 KB)\n",
            "Non-trainable params: 0 (0.00 Byte)\n",
            "_________________________________________________________________\n"
          ]
        }
      ],
      "source": [
        "# fill in code\n",
        "model = rnd_search_cv.best_estimator_.model\n",
        "model.summary()"
      ]
    },
    {
      "cell_type": "code",
      "execution_count": 41,
      "metadata": {
        "colab": {
          "base_uri": "https://localhost:8080/"
        },
        "id": "TgSJ04SmFgU_",
        "outputId": "06d3f5cd-2b7d-4614-92f4-541ff17ae22e"
      },
      "outputs": [
        {
          "name": "stdout",
          "output_type": "stream",
          "text": [
            "313/313 [==============================] - 0s 1ms/step - loss: 0.4787 - accuracy: 0.8899\n"
          ]
        },
        {
          "data": {
            "text/plain": [
              "[0.47874706983566284, 0.8899000287055969]"
            ]
          },
          "execution_count": 41,
          "metadata": {},
          "output_type": "execute_result"
        }
      ],
      "source": [
        "model.evaluate(X_test_reduced, y_test)"
      ]
    },
    {
      "cell_type": "markdown",
      "metadata": {
        "id": "dK9r9skZOGBP"
      },
      "source": [
        "The result from the randomized search:\n",
        "- The \"sequential_1\" model is the best one obtained.\n",
        "- The test results have higher loss and about the same accuracy as the results above from the model that we built."
      ]
    }
  ],
  "metadata": {
    "accelerator": "GPU",
    "colab": {
      "machine_shape": "hm",
      "provenance": []
    },
    "kernelspec": {
      "display_name": "Python 3",
      "language": "python",
      "name": "python3"
    },
    "language_info": {
      "codemirror_mode": {
        "name": "ipython",
        "version": 3
      },
      "file_extension": ".py",
      "mimetype": "text/x-python",
      "name": "python",
      "nbconvert_exporter": "python",
      "pygments_lexer": "ipython3",
      "version": "3.11.0"
    }
  },
  "nbformat": 4,
  "nbformat_minor": 0
}
